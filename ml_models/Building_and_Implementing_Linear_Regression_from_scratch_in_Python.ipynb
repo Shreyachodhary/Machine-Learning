{
  "nbformat": 4,
  "nbformat_minor": 0,
  "metadata": {
    "colab": {
      "provenance": []
    },
    "kernelspec": {
      "name": "python3",
      "display_name": "Python 3"
    },
    "language_info": {
      "name": "python"
    }
  },
  "cells": [
    {
      "cell_type": "markdown",
      "source": [
        "**Linear  regression**\n",
        "\n",
        "**Y=wX+b**\n",
        "\n",
        "Y --> Dependent Variable\n",
        "\n",
        "X --> Independent Variable\n",
        "\n",
        "w --> weight\n",
        "\n",
        "b --> bias\n",
        "\n",
        "**Gradient Descent:**\n",
        "\n",
        "Gradient Descent is an optimization algorithm used for minimizing the loss function in various machine learning algorithms. It is used for updating the parameters of the learning model.\n",
        "\n",
        "w = w - α*dw\n",
        "\n",
        "b = b - α*db\n",
        "\n",
        "**Learning Rate:**\n",
        "\n",
        "Learning rate is a tuning parameter in an optimization algorithm that determines the step size at each iteration while moving toward a minimum of a loss function.\n",
        "\n",
        "dw.png"
      ],
      "metadata": {
        "id": "A2kw4h2pwhG8"
      }
    },
    {
      "cell_type": "markdown",
      "source": [
        "![learning rate image.png](data:image/png;base64,iVBORw0KGgoAAAANSUhEUgAAAaAAAAB3CAYAAABFepR6AAAAAXNSR0IArs4c6QAAAARnQU1BAACxjwv8YQUAAAAJcEhZcwAAFxEAABcRAcom8z8AACpySURBVHhe7d0HmCRV9ffxl6QoigoSRMWHRSSLgCQFJaMEBVEUSRJkiQICKoggacVAEliSooCKopJREBXJRkAQEBQRMUfM2fvfz51b+xazPTM9M9UzvTXn+zz1LHRPd3X3rTq/e8I99/8FU4MUBEHQZxTzFLSdMt5BEAR9QzFPQdsp4x0EQdA3FPMUtJ0y3kEQBH1DMU9B2ynjHQRB0DcU8xS0nTLeQRAEfUMxT0HbKeMdBEHQNxTzFLSdMt5BEAR9QzFPQdsp4x0EQdA3FPMUtJ0y3kEQBH1DMU9B2ynjHQRB0DcU8xS0nTLeQRAEfUMxT0HbKeMdBEHQNxTzFLSdMt5B4X//+1/661//mr797W+n8847Lx1xxBHp2GOPTTfccEP63e9+l+6888507rnnpkMPPTTtv//+acaMGenee+/NrwuCoBmKeQraThnvoEB87rvvvnTllVemY445Jr3+9a9P22yzTRaia665Jn32s5/NorPrrrumV77ylWnttddOF110URan//73v+VdgiAYD8U8BW2njHdQICRf/epX0xe/+MV0/vnnp7e//e1ZgLbYYot03HHHpUsuuSRddtll6cwzz0w777xzWnTRRdPxxx+ffvSjH6V//OMf5V2CIBgPxTwFbaeMd1B4/PHHc/jt+9//frrlllvS6aefnrbddtu06qqrZqG57bbb0iOPPJJuv/32dNRRR6WFF144h+geffTR9M9//rO8SxAE46GYp6DtlPEOOnDPPfdk0Xn5y1+e1lhjjXTzzTenv//97+kPf/hD9pIOOeSQtMQSS6SPfOQjIT5B0CDFPAVtp4x30IFbb7017bfffukVr3hFOuyww9LDDz+cH//Vr36VLr300rTnnnumDTbYIF1xxRXp3//+d34uCILxU8xT0HbKeAeDUFBAWHbYYYe0+eab59zPr3/96/ycfM+HPvSh9KpXvSrtscceORwXBEFzFPMUtJ0y3kENJdWKEZRbE5nXve516e67705/+ctf8vN33XVXLk5YZ5110kknnZS+9a1vpd/85jfpz3/+cw7FRUl2EIyPYp6CtlPGO6jB+1GEoOptww03zF4OcfG4Qy5or732SmuuuWbO/6iYU7DwwAMPRDl2EDRAMU9B2ynjHdT4z3/+k0Xm4IMPThtvvHF65zvfWZ4ZeI7Y7Lvvvmn11VdPRx99dK6U+/SnP52+853vZE8oBCgIxkcxT0HbKeMd1FBQIP9z4IEHpje96U1ZYOo89NBD6cQTT0xrrbVWFqGDDjooXXvttekXv/hFiE8QNEAxT0HbKeMd1JDD+fGPf5y+/vWvZ09IOK6OcNz3vve9dPXVV6fPfOYzeW3Qz372syjFDoKGKOYpaDtlvIMgCPqGYp6CtlPGu2+QY7HY849//GP67W9/m9fc/PKXv8zhLWXQHtfyxt8FQdBOinkK2k4Z70lH2IvwPPbYY+mOO+7ICz0//OEP5zY3igAsBH3ve9+bLrzwwvTNb34zi9K//vWv8uogCNpEMU9B2ynjPalI3PNs5FUuvvjiLDRve9vbcqnzjjvumLbaaqvcDkfS/9WvfnV6z3vek0ufeUVBELSPYp6CtlPGe1IRUtN3TbWZLQ60tzn88MNzafNNN92U9+LRfVpXgqWWWiq98IUvTAcccEBulRNVZ0HQPop5CtpOGe9JRYcBzT2JyuKLL5422WSTdPnllz/BwxFyu+CCC9Iqq6ySFlxwwbw+51Of+lT605/+VP4iCIK2UMxT0HbKeE8qNoFT8qytja0P9FmzoHNwg08tcN7whjekJZdcMjcIPfvss9PPf/7z8mxnvMfvf//7XFb9gx/8IP3whz+cffh/a3oefPDBnh7O4VzV8ZOf/CSLbjQwDYLOFPMUtJ0y3pOKijZbHOg2bS8ezT479VQjQHYoJUBCdeecc86weSCvVzknlFftYKq1TnVstNFG2ZPicfXycA7ncs71118/7bbbbjm0SGSjmi8I5qSYp6DtlPGedIgFY8wrGMooa/qpOehiiy2WixFsj/23v/2tPDsn3pOnQYB0tF5kkUXSk570pDT//POnpzzlKWnatGnpjW98Y24s+q53vStX2zV1eL93vOMdeTuH17zmNWnllVdOT3va09xY6SUveUkOMf70pz8NLygIOjBgnYLWU8a7r6lKtLW7sTHccsstlw27cu1uULZt87gVV1wxzTvvvFkE/LvSSivlljpf+9rXcqiM51UP0Y338J5Ci3JXO+20U3rOc56Tz73CCiukz33uc7nkPAQoCOYkG6eg/ZTx7mvkiO67774sFi94wQtyHki5tvY33SC8R7yE4Z71rGdlEXAsvfTSud/bV77ylVyJ1wtU6RGa888/P4fhFFAQws9//vPhAQXBEGTjFLSfMt59i1yQJP4ZZ5yRw27rrbde3qdHvmg0xlu+hSciDyT85qsLxRGDd7/73bkMvJcl3d/4xjeyF0ZAX/SiF4UABcEwDFinoPWU8R6RKkej+wBvYTwHUfFe3nM4CMKjjz6aPvGJT6RNN900i4XKN/vueJ/R4Jwq0BQuLL/88rO9IDkh721fH55KL/A9hfecg4DKPYUABcHQZOMUtJ8y3sPCgOrLJlR1zDHH5BDY9ttvnyvSRnPYWdT2BpL+kvBKqIcSIY/rAyfUpmpMscAHP/jBLD7W/ozWW/F+XqeQQVsfeZh55pkni5DFrT6bvIxO101Xpjm3jep0b9hss83Sc5/73FxAETmgIOjMgHUKWk8Z72FhQK2lsREbEdAixy6he+6556iO3XffPU2fPj2L2Be+8IW8uLSTAHlMfsdWB8TKuU499dQcJpMPGmuozOuE4nRW8B2WWGKJtMACC2QvaNlll037779/uvHGG3PBQ9N4T+L5gQ98IJ9HSI4oNS12QdAGinkK2k4Z7xERwiIYRIAQ2SdnLIf2OXYONfvvVEJNJKztueqqq3KBAMHSoufOO+/Mn2G88DiIqbCe0mwl3Tyhpz71qbk8+qijjsqLVps4Vx3fi3elMs53IT7O0UmAg2CqU8xT0HbKePcFxOHxxx/PG71pRvqWt7wlnXzyydlg13M+jHZ1jBVl0jouvPSlL81FCUTIvzosCMXpVtBv4bEmvncQdEv9epvoa66Yp6DtlPGedFzgcjTEhvjofn3aaafl8uvB2y7wYKr9gSw0HSt2Ot1nn33SMsssk+abb76cD+IR7bzzzjlfI+/VL/CWfB6eI090PKHIIBgJ15Z7y32mWMY9N5HbnwxYp6D1lPHuC5RW22pBocLxxx+ft2foZGR5KDNmzEgzZ87Mi0zHipCYwoq3vvWtadFFF80CxBN69rOfnY488sicpxmPwDUJI6AgQ05Mzzwti4brAhEE48F1bxG1+1DRjv25THwmigHrFLSeMt6TikS8mZbKOCXRtlvYYostcg7o6KOPzvsDKVywOZ0cjfVAW265ZTriiCNyXmmsEDc3FcOuXU61SFWXhLXXXjsbeoUDk4lFtETyuOOOS/vuu29es8QYKE+PDfmCXuHaMiHUcV5bKZ1H3ve+9+UehhPRgX7AOgWtp4z3pGImf/vtt+cLXYmyjyUfQxB4I/WDp6Jq7cUvfnH2UngC48GNxtNS6PCyl71sthekb9vWW2+dxUmob6Ihjir2bFPh5rcXkh5zRJph6EWlXhDUcV9aBG7Cc+ihh+Zr8KCDDkq33XZbLqLpZQg4G6c+402zjmwgZh0neqAD35p1eP73s45pHgiGp4z3pGI3VFVvWuU8//nPz+JDABZaaKFcnTb48LyOBrbstsBzvAg3COXJPenXpjTbTyM3pHxcG5+JLpcWc9ejjgcoH8YAXHfdddnzGe0i3CAYKyY6jzzySLrmmmvy8gHX4gknnJBFSMFQrxiwTv3FO2YdlQBd54EOVM871vdAMDxlvCcVuRiuvV5ve++9dxYiFXBDHbvssku+CRho4tUEQl0Wh1qQqmu2ogR923Sx1tXaTHCici68srvvvju9//3vz92/eWJXXnll3+SjgqmH+6zqSCL8rUDo/vvv79nErJinviIEqAeU8Z5UVMAxugw8I0uQ/DvU4Xl/6zVNlYcquRZqs/h19dVXT09/+tPzdcQLs4cPb0sF2kR4QvJSn/zkJ3P3iLXWWivH4S3MjUWrwWTh/tDKyn0g/P3mN785FwMJE/eCAevUX4QA9YAy3sEsxLSF9KwPsu1DVZr9jGc8I6277rq5GEDYoddrIoQ3Dj744Nw3bptttslrliZ6HUYQ1HH9uT945rwgkzI52/HmYIdiwDr1FyFAPaCMd1AQ8/7ud7+bK/B0rdYx28/EI9LNWqiwV7FvN7mZ5kc/+tEsPHZQVZbO4wuCfkDxweGHH5422GCDHK7mnffCMx+wTv1FCFAPKOMd1FBmqlu1Jqi2T/AzESJdtJWEayXUiyo04iPhK+ck2asB62WXXRZFB0HfIARuh+Ftt902dw2xNMIataYr4gasU38RAtQDyngHNXgi8j22T1AEUG2lrfxbN+szzzwzd1FoGqJ2/fXX527jWgTxwoQ8+q0lUDB10ZFDR3mLt+UnVYlaQtH0NTpgnfqLEKAeUMY76IBQnAWg8kHV1g1LLrlk9kysjVAZ1GRuRqiNuFmPtOaaa+bZpS0perneIghGg2tRQYz8j/vCgnHVcQqCmmTAOk0s1vkQlkpArOWZOetYbdaBsQqQ9UDe54ezjuo564WmzzqmPGW8gw4QBLM7rUgWXnjh2UUJckMe06qnya7ZBM2NLdRndkmMovgg6Dd4O7YV0T1+1VVXze16mg5JD1iniWHRWUe1gHSog/iMRYDqr+l0OK/zT1nKeAdDYEGovYt23HHH2a16LIRVFefGa7I027mUXi+99NI59KckPAj6kY9//ONpo402yjlS6/bmVgHqJD6fnnUQDt0O6l4Lj6j6724EqP6+/rsSsbqXVT3XK3h11XlHe0yIMJbxDobAbM/OrVdccUUWHeuC/Gw8IlVqREIfuyY8FaEN59COSENWwtcNwh/WMNlr6K677sqhw6pjQvW5/KuDtoTxvffemwsp/FvtyzQ3e1q+v+os61SUBcub2dOJB1v/Xn4PY6m/n67r/s7v5PtHmHN0KI7Zbrvt8m7CyrJNnppkwDr1Hoa2EgIC0ylvQ4iqv6mObgSoOjqF2uptfRz+vxfUzzHaY0JChGW8g2EQZmPQND+VmyFCwnHPe97zcimqfm3jiYFX4kA4vL92RDvttFNuvTMSzsuIWhQoLKipqs4JWvgwyFX3Bn+nh9yFF16Yc1iETiXTGWeckb/b3LrI1QSBiNo+Q6NaRSLyEr7/HXfcMfv7w0ThkksuyQl0FVybbLJJDiX5/nO7CE80JmS8dZMlJdlVp5CmfsNinnpO3asZzuAOFoxuBWjLWcdQ8LSqv+uVF1T34EZ7TEgRRRnvYATcXIRGR2o5oCc/+ck5FCdcdtZZZ2XvZawixPibwdsO3CrzlVZaaXbTx5FQtq1Nj5CIggnion0Qo6CHnRm/2b1DhwWixkALJzqP1/SijHaiIB5f+tKX0sc+9rG8XTzhlpfwHa2nsrFgJa5ybKoM7ffEcJq9K3knTEJIIUDd416wl5Z7Qed4WzdoZ9XUdVTMU08hDpWxJUQjhZzqgtGNAI3kQdTP75iSzUvLeAcj4MZyg6n4MfNjvPx8hMjaIOGvscbBGUjioOEjUVhnnXWyMAgRjYQw2kUXXZSNMKNwzjnn5Nm9z3fKKafkTt/VOqLqPEpnV1xxxewB+Pu5eaGrDQvNxh0EW2iI+BByBR2azNYLRXiLPCWepiouv5Hno9R9dCjFtjWItlV+xy9/+cu5LU9TnvSAdeot9fDbUIJSp5u/r553dONBjPbvW0cZ72FhfF1Y/XxM1OxVA0YzbW1ylGbLBWndIww0Vg+I8TML58kQBmXY9iIiHiPhppfT8HpelJmodUS6hutebL8kiwcriKTO2sJvZv9Eq/7b+W/j7Rjtb1q9ttP4jOaozt3N+e0Sq30ST8cEoRJYe0rxhnRZr4fh5CqMl0nE9OnTZ4c56+eqvr+jzdS/p2M04y3XaJmAak3VcDxLeUjj1wTFPPUUpdGV8ScuI9ELAaqHyKZkWXYZ7yFhvJQbC3Gcf/75eXFmvx3i+gzRaG6gsSKPcuqpp+ZeWPYm0jJH/sHvNNbzVwLEWFYCZPMv3s1oYYyFCeWp5IOuvvrqJ3QMZ6R33333HD6xop1w1vE5iBLDTNjqxns45LD0rLvhhhvGdZ0Im+lCoZiAoI4Fns9yyy2XPSHvWffwhCRtbug38Dl5RHX8Vn53BtV3aeM6LNepbh96G7p3rGkz5sav20mUIg6/owXTvCAe+NwmQESkMv6TJUCj/Qyto4z3kLhhhYPsjbP44ovn/XL65bAo1OEmYDQmwlDYskH1z7LLLpv3JFKpRvzGc+4mBcj7SMALwfldhAyrCiWhOMliJd629haeGmwwGF3CpbLpvPPOyx5FNziv8JftMqpx6TRmwx1e43Mr7+UBCq+NhZNPPjkbRV6q96kEmOH1m9rgb6+99srbeQyeNBBd24L4DNtvv30uZGhyrVc/4FqVO7P1iftaKTWPUAf2bsOxBEjoOQToiVTPO0KAuqCM95CYAbtpGUcGxo6c/XaYrfa6SzUjZFEq4yXsIH9iv54m1gE1KUDE0MxelZsCiZkzZ+bHwHsjSDbeU7TACNURnpNPYnx5dkKC3TZe9Vq/hRBgpzEazWFmLtQ51qavSuNt2y40pDKQ1weTKbN9Am2RryrBwShPP+CAA7JR9VpjMNbQar9SeUDEVbn/CiuskNfy8JZ5st0gBBcCNCfV847RhuB6UYo911fBuVgZXyGmfj3cNL3yfnx/noPQluQ1cdAo1PbYQpNVgn88uGnlcngfq6yySlpttdVyfoYxHy1m+4TMjHaJJZZIM2bMyJ/dzFaVHePKszGDHby3PyGUyJcjOfvss7MIdPv9/E5eT4g6jdFoDpMe19xYx5SAaSRLgJRcqxSExDmjSZR9z3posoKI8gTkNxhkotWUUe03jK3O1goyeMSut27HW25RpaaiGSJ0yy235JBpU/dhMU89pS4oKtxGohcCNNq/Hy319x/tEeuA+gCGkAHTdp5XQSDkD5rcodRNSwyExBhNYZE99tgjVxaNFp+JceXlCGlZu0Qohd58B4l5xqPuMfqOZq88JLkXxsTMf/BCzrkFs3OGladq4zS/Ky9QpRxDa+wIfvXd/P6+q3Cjwg9bbviN/I3fZqjfgDAZN94rb9LrTYZ4TMSNeLl2HHJJjLv3cj4i6zf3nAIKYVLPE3Dn9X4Or/NYner9q/MaN5MM5/O+gwXTOX0/f+98PD/5HksHXCcmVLx5z3Urtkr8XUvCdyZlrhfX3twkQPW1PcqwR2K0ZdgjeTSDy7B7gc9AOMdyRCeEScaNyxgwWBacKjqwHbGCjMHJ+/HCe2BIrKkYbSeEOowVz4XnY6GsPYyEThkMXo3QXj3xzuAwTHJbWgtJLF9wwQXZQ/KZ5kYYUgtMqz1rlLfzLs8999y8o6cFv3VDy/B7TAGE0mKH32MkiDivQcjT7+b1fjdCQMSVuPOavZ/nfK4qmiDX5Bz2e/K7Gx/PEwaPy7sKFQqZeqyC+BAO+Svv6bW8ccfpp5+e82ZEsRIC39P5hNsUZHhPIqxQwyJk17OQq5Bst/kfuKZUUsrdeb1rqMnrpZinnmLdTV0AhhOMesWcoxsBImpVI9NO1EOA3XhgraSMd9ABNy4DI9RgKwaVVQwboegFQhibb755zt0wnGbso4WBMmvW8aDq00V0JOaF3qxXMkuvZvWMhhmx0JT80yKLLJK7CRDZbvMB/QZh8P19D8UURMf3U71IIAYvmPQ9Vf3tsssu2Wu0+aDFqsPBsBMGIrDDDjvka8PYWVckHyLHxEOwHkkoVEEEIbTol9AIk/I+PK/zhZJw+S8VlQRCXkWhi/GriiUIJU+W8Sck+hNa82XhsQIhTWx9b96Q68B35PnJXfr+OmQ4n8WjwrwqOX3urbbaKgvgaFBBSbx8dkU53VZLdksxTz2nLiydBIMXMFh8HN0IkMN7dhK2we85IfmWfqSMd9CBe+65J89Qxblty82rEN4hTL2AYWSUpk2blsN9BGOs3HrrrdmAMTaq3qz9YbgITiU+FR5jtP0Ng0ZweQzd5gP6EfkuBpI3SYRUvfEmGOROYSIipEBBzoihlgMaDkZeqI6XyujzKBQ++K3l77yXUKg8knVZOk/wagiP39bzRJ7oCIEZb9uw+4xeQ9gUQajIExblOQm3HXnkkWnjjTfO1YauDxMkh7J6+1YRL59LiM51KoyroIRn7bsp0OAl+Ww8GIJk3RSRGw2nnXZaXoBKwHhfg8OE46WYp57DCyISdTEgDkJQesDVn6uH7EYSIK11hmpGOrgwwHmmLGW8g0G42SWrGRWegZCYsIpYfVNx7sEIgYjFu7EldqsS4sGC0Q2E0nvIJzFAvkunqq86jBcBYvSEpMyi51bkfbQl4k0KxQlPCXsNJ6r66dkEkKEWhhwO14EwLG9Y0YMQHCNP9OTanMuEglAp/NAxQziUp2EzQ56oz0jAdL4gQsJpQmVyQrwrwqIqT0iP5yQUbCyVyVsrZYxNkrwnMVlwwQVzAQmBIbQ6aRhL1wCBInbe22/AC+Pxub4JI8+wG1yLPHXfl5fmtxVqJJBNUszThMDrGSxC9cNzVU+36rGRBMjzvKd6mK3TQeymNGW8gxqMvgV6QigqhNz0VdfrbpO0Y0EYgxEUEnFeM2Ahl7Gck3ESm3coRJBUH2qWSmjkDYR7CJBcge/aK6GdCBh3M3uhLwtzTR58/6G+Ey9QjoxnwRMcqQDEmDj8bjwO4qI7un8JgMmEc/kdeTYEiGdkHAhTFU6TP1IsIeTqmhM+NR4MOq/M31WhYIUVPFqhMyG+iy++OHtBQqwmSBbeWpJAIIgjb4r3pbCFt1X1xfNdndt17XliW88zDYfX+n5E1QTHeYUcPd4kxTxNGMRi8PYL/ttj9WR8JVRDeS3V6+s5HZ5TXYi8h+enbNitThnvoMBwuNnF5BkGBtwNzpD02iNgdMxorTUSklFKLFwzmtmlGSohYxQtpGT0hHR8/k4wksJvZtqETx7D3zc9o51IGEMhOIbfOAp3jbSgligoGOBdyK/wYLqBSMjtyMcQcEa/6uDgeuHp8KiEx+QPjW91Ham4IyoEhXDxfjoJpPHkvVj4vNhii+Wcj7wTgdVuyQTDNWoNlwIT14DPL3xsImMiJSRbTUCIphCcpq28RHknFXnd4LPw2giP6jfXFzFrerJSzFPQdsp4T3nctGaHDIaQhPCCozIME4GbmABKlhMC4RGho5FyTvUQHQNhhiovITavkMFseCgvyuPCOwwnsWWQGKu5ifr3h9m8MJicXTXzH85A+g2EJwmFfBGhqBbvjoS/cw7iID8jlGUMqudMIHg3qsWsL6o+C5Hklck3ORRKDFXc4ppwDjk9ywBMLJTpE9gTTjghV7DJ4RCfSmR4wPJe8okKEIidc/quwoJe88xnPjOLplCdzzz4d+wEofb7KPBwfQq/EeFuXjsainkK2k4Z7ymPm5PBUN2jmkg1lJkjA9L07G4kzEitNeIFqcbqNHt3w/tcxEk+ggHhtRATM2FJcQnvqvR3KHxvxlfSnegJrfAAhX4YlqGEqx/w/X1GHpx/fRcGmMfDIxA2lW8ZyXP12/GYeBWMqrCWx/yuXjuUcfU4o88gK1TxGzLuPoPfz9oYkwnixJsmOLwPeH85HaJCTEwUhN864TWKEuQijY/wosd83+pzEi9ej98BPFrhRDkwIqU033XAO3NNy3Wp7JT3M0HxmV1LQ13r1W/g+xFA1ybv0u/WC4p5CtpOGe8pj7wPw8UACZeIjVd5n4nGTW6Nhpi+BLWbnMGpG0LGh+FV2cZjU2prpb/8DePLA2BYGMLhYGAVHEhIv/a1r83GSv7DOf0eBK1f4RkIf/mtGHBi4L8l3n1/RrfyCIbD2PNOGFYLV73Wb0LE6yGzwTD+xECuTjUYT8PvRbSJgYISxQU8Szkb3o9xM44mFYRO13KvN36VOA3G4/I0Jka8Jd/VZyIWPqf9qHhf1jlZIwSVcyZQSsB9LteUcxIfoUb5Kre/EJqFyooajPdQn8G5hOmsUVI553PIX/lOvWDAOgWtp4z3lMZNZ3aqOaN1DaqZVI2JbY80e+4FDJtkNcMkPyAnxEAxXhVmqwysMJtQoRmt2TZjRJSEEkcSH/h+ZurCNYylHAgDZcbNuHebG5hoGHGhNsaVUMtJKCLgjZg4+E6EpRsIGcOqkszMnkci9EnICEn9d6/D85Av42ko9+ZB+u1MAIyL8JaJjP/niVXeifElbETDLWh7DwIx1Hn8veICeSZVZ/4VXvQZfV+el7JoxQBV/sm163E5IGLjcxEMoTxrwlzrNlT0nL/zXsN19+A9+Qw8crkfi2t5yt0I/FgYsE5B6ynj3ShVaIT34MZzE5uZubjNDhk94S5hA0bU35itMxgTHfJhpHkOZv6ExyxTiamZLcM0Wfi9VMQJc/CCzKYZVV4PQ+W3FOeXMFe5xgAr22YkeAIMRt1jGgrvpeRcDoIHwJgTMxVZjOJkCHA3uMbkuhh3nhvhJEYS5K4rYzdUOGkwjKg8H8EnIt6P+HiMQR/qfXg7jLq+e3IzxEFlGe9ALs37MfjExnhU7+OzyRU5h7CaAoPhxNIYCZPK28hTWWvkPLxWhQbGyjm8RyVi7i+La1X0mVj4Tq4VQqtAxbXlfXhn1n0JPXeacHk/QitP5L4QShQGFN4dKmTYBMU8BW2njHejuBEYSxe1WZ7ZFo9CWMCM2roGhtKaBRe/w+zdrH+oEEAvcHMxVrwGNyNjwHDwhoYzPBMBg+Wz+Q0lsYVTzFx9Nje+WbHfUfKZYWKE/H6E3Gu7hUj5zRkYRsl7MS6S1r2a3TZBFcbye/iNFFHwAISERvu5TXpMloQdlTbLoflvCXcGeSghN3Gydsf48JqMD8ERCvN5hDJ5acaqjkmPsVPsQcCMcyUcnXB+ouW93DfGSPjOZxVSIxyVd1XhHCYx1TmE8Ko9nlw/fieess/Li/O4SU39u/pM1e9icmOSI08mXGeS08vJSTFPQdsp490YLnzhH8aMa8+g2zWUgRcHZyQZDdUzKszMwMTPhZr8fa9iyp0wSxT3dmP5DGb/bm5exlBGZyJhAPwejAcRV3bLyJnB+uyVQPqs1TEemnqfiaT+mcf7uUf7XnIn1hgRINdzlS/r9j26PU+d+nt38/rh/naox0GUTRYtsuV9K4oRCiZ6xLPXkYpinoK2U8a7EVzIZqVmaW5IsXg3qe2RrV2Q4OXGmyGadZn5CQlYfyL3IvwhqToRuIF4ZGLaeqZZrCcObtbbq5vL72PWaIbucJ5ON38df8OjFG8nPoyA2ajwWz97KFMBHgXxcd0qXNC4ti3wqNy7QtOuOSFalXU8sV6LD4p5CtpOGe9GYExdoIRFTNrsnQtvwZsFdGLkkrOSnVx4EAELLnVuloNxkU8E8gfCg3I+qnpUPAlD9RKhLlsfCz3yBqv1F93AIPjMwjoWEZqFDhe2CXoLD1RoSzcAfQJ5+Lx+j7dhXEyUeHSiFa454caJnPAU8xS0nTLePcGNKJdgjYStDNykKpXEsqvwEWMqmUoIPE+4eonPxEj4HATPbpDCW+LcQ1UANQUxlnjmDfquymmF+4K5D3kUORTXjiIQSX6l3Ma4l7mRqUIxT0HbKePdOASGoRemsBqbCMn5SJrXy4MljrVzVy6qYeJIDTPHg9ABAyGJqnJJ3qda91Gtn+glqsrkDBZaaKEsQDzB4aqfgv5FoQcRUsWpilJIlFfq2p7M4pW2UMxT0HbKeDeOG5SYyPcstdRSuXWH/xaeQ5X7UL21ySab5NXiSmqrRG7TMArKSSXwVSzxuBQ+8ISEF0ZTOTYWeFcqkuQMLD60dkQ4rtdeVxDMjRTzFLSdMt6NI2chcS7nY5MzBldFTVVmTRCUOiu/tvjPOg5iRCR6gc8j3ySpSnyE3jRxNHPttfgIyRA5YmdNj3CknJO1Rt3mgIJgKlHMU9B2yng3jtyGlfRm/EJOuv4qz64QDhO+0ApEItdK/F6urFYQoU0LAVAWXq33IXjE0OEzNXl4T+KjMlDYT8Wd1igaU1pASBBDgIJgTop5CtpOGe/Gkf+xyE0FHIOrZYgYeQXDTKDkYlSh8UbqzzcJT0u5NzHUfmSBBRbIpbNaoBAlFWm9OCxwVb5qsaK1RhpPzjvvvLlti1YmcgchQEEwJ8U8BW2njHfjSOoTHeE3uRbbA9T7ivF0GGkeiTYm8j8S8kJlwnQEigfRBAofhACt95lvvvlc3Plf3YCJkX97eTjH/PPPn+aZZ558bmuetEVRch5reYJgTrJxCtpPGe9GEX4SXpPnEO7SlNEWA/WSY4bXehj5Hwexqtr3KE/Wn4x3MNJCzeEgYBa2Wvxqoakti33lyT54QqecckouUa9XBAZBMMCs+ySYCpTxbhSejHU1qs3kfwiR/E694ovh1S9LU0UhOD2mFCTo6qtLQlXSOh6s+SFo1mhI/Pu6/XAQINsmWA8Va0aCYE5m3SfBVKCMd6PIuVg9bcdG3XO19leSXRcU4qAKTChKDzbrYmyORZR4T7yf8YbgnMP7yb+sscYaed2PPfUn63B+a6LsOXTttddmkeUtBkHwRIp5CtpOGe9Gkccxu7fIVPNCgiL8Vje2Qmsq0IiQ8msNN4XelCt7fRNUIbiq66/WKZN9WAulZYudSn3P8YQYg6CtFPMUtJ0y3kEQBH1DMU9B2ynjHQRB0DcU8xS0nTLeQRAEfUMxT0HbKeM9ZVAIod+cLtx6selS0NR6oyAImqGYp6DtlPGeEkj42zRMB4YDDzxwdvsf1XJNQtBU8SmyIHA6cOucbLM7AhiFB0EwPMU8BW2njPeUgDBY4GoB7HrrrZf3cbGnfpNrcYiLTflsNqf9j1Y/djKdOXNmrsazqVwTJeZB0GaKeQraThnvKQFxUP5sj/sdd9wxN0LVDbtJD4i4PPDAA7mzw5ZbbplWXHHF3AJI9+2tt946C9LgNVFBEDyRYp6CtlPGe0phTZLu2PrVNbkWh6hYd6Sbw8Ybb5z7z1nbdP311+dedwSJ12XxrWatEYoLgs4U8xS0nTLerYaH89hjj+XuA7yfGTNmZGEgQnrSNSUEWhAJu/GuiM3pp5+e8z8e1xBVpwc96XTiJlRaE4UIBcGcFPMUtJ0y3q1GjkdYTC5mgw02yCGxAw44IDcDrfrT6dLAM7Jtti7VOjR0eyhsALFxDvml6dOn5/wSgZPv0RlCFwTPrbzyyvk53cGjFU8QzEkxT0HbKePdagiAcJuWP9tvv33u0L3bbrulRx99dPZuqHI3BMm2EXrY7bPPPllE/NvpqJ7bd999c0k3L+uhhx7K+xpprqoDt/er8kuq4RQhCM0ts8wy2QPzmZquwAuCNlDMU9B2yni3Hp6IHUhPPPHEtNpqq+Wtwus953hCd955Z96jyM6lhMoGdiMdNtSznsjrbTCnvJsA8YRU3PFwhNl4Sbp8C78RIDukWo8UAhQEc1LMU9B2yni3HgJx00035QIA2zMQmvpmcERCqM7fWb+jo3e3BxHxOnmevffeOwucajcCEwIUBKOnmKeg7ZTxbj0WgdobSGWa8NmVV17ZaCk0b4rAeW/bkJ900km53HooAdIRW2FECFAQzEkxT0HbKePdehQI2PBus802S0ceeWQOl9Ur0Hg//sbjl19+ea5mu/TSS0c8/J1Qm9erbDvkkEPS8ssvnw477LAc0qsEhgBdddVVadNNN80CVG26F0UIQTAnxTwFbaeMd+t58MEHs/CsvfbaOT+jI4FQW9UaRwhNjshzcjs2yLNR3nCHv1Fufd111+VzKCo4/vjj00orrZQ3wdPypyrzVvBgb6QNN9wwe0i33HJLPn90RAiCOSnmKWg7ZbxbjUo3Pd/222+/tOaaa+YdWm+99dYsHCrXiI8qOCXY1gqdcsopeeFoN4d1RTwfCPPZ+I6Xs+666+bnhdk8rlLu2GOPzQK03Xbb5Y336jmoIAj+P8U8BW2njHerqfIzVYGASjhrcggNYeKJCIXxRnhE/p4odXtUYTavu/nmm3OFHQGyIJXXo/xa/zn5J485r04I4f0EQWeKeQraThnvVsMDsrj00EMPTdOmTctl0nvuuWcWh4cffnj2WqDxQsR0vb7xxhvzuXg7BM+x/vrrp1133TV7SHJGTZ0zCNpIMU9B2ynj3Wp4GhaCCrlpw2OxKCG4//77swfTJESIRyXkdtZZZ+ViBIUJJ5xwQi5aEOYLgmB4inkK2k4Z79ajEIA4CJc5qpBbvRKuKbyn966frzpnL84XBG2jmKeg7ZTxDoIg6BuKeQraThnvIAiCvqGYp6DtlPEOgiDoG4p5CtpOGe8gCIK+oZinoO2U8Q6CIOgbinkK2k4Z7yAIgj4hpf8DoaqpPN6K2RoAAAAASUVORK5CYII=)"
      ],
      "metadata": {
        "id": "OFm4hW2ix_Nw"
      }
    },
    {
      "cell_type": "markdown",
      "source": [
        "![image.png](data:image/png;base64,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)"
      ],
      "metadata": {
        "id": "krOxr6kGyFV-"
      }
    },
    {
      "cell_type": "code",
      "source": [
        "import numpy as np"
      ],
      "metadata": {
        "id": "ptpol2SsxnFg"
      },
      "execution_count": null,
      "outputs": []
    },
    {
      "cell_type": "markdown",
      "source": [
        "**Linear Regression**"
      ],
      "metadata": {
        "id": "l8rQmi5Ey3fp"
      }
    },
    {
      "cell_type": "code",
      "source": [
        "class Linear_Regression():\n",
        "\n",
        "  #initiating the parameters (learning rate & no.of iterations)\n",
        "  def __init__(self,learning_rate,no_of_iterations ):   #init funtion to initiate the parameters\n",
        "\n",
        "    self.learning_rate=learning_rate\n",
        "    self.no_of_iterations=no_of_iterations\n",
        "\n",
        "  def fit(self,X,Y):      # fit the data to our model\n",
        "\n",
        "    # number of training examples and number of features\n",
        "\n",
        "    self.m,self.n=X.shape # number of rows and columns\n",
        "\n",
        "    #initating the weight and bias\n",
        "\n",
        "    self.w=np.zeros(self.n)   # weight is an array because weight is equal to no of features\n",
        "    self.b=0\n",
        "    self.X=X\n",
        "    self.Y=Y\n",
        "\n",
        "    #implementing Gradient Descent\n",
        "\n",
        "    for i in range(self.no_of_iterations):\n",
        "      self.update_weights()\n",
        "\n",
        "  def update_weights(self):   #update weight based on the gradient result\n",
        "\n",
        "    Y_prediction=self.predict(self.X)\n",
        "\n",
        "    #calculate gradients\n",
        "\n",
        "    dw=-(2*(self.X.T).dot(self.Y-Y_prediction))/self.m\n",
        "\n",
        "    db=-2*np.sum(self.Y-Y_prediction)/self.m\n",
        "\n",
        "    #updating the weights\n",
        "\n",
        "    self.w=self.w-self.learning_rate*dw\n",
        "    self.b=self.b-self.learning_rate*db\n",
        "\n",
        "  def predict(self,X):   #predict the salary of the person\n",
        "\n",
        "    return X.dot(self.w) + self.b\n",
        "\n"
      ],
      "metadata": {
        "id": "9xSc1fvYy2VV"
      },
      "execution_count": null,
      "outputs": []
    },
    {
      "cell_type": "markdown",
      "source": [
        "Using linear regression model for prediction"
      ],
      "metadata": {
        "id": "sj8iIq3NiZ5G"
      }
    },
    {
      "cell_type": "code",
      "source": [
        "# importing the dependencies\n",
        "import pandas as pd\n",
        "from sklearn.model_selection import train_test_split\n",
        "import matplotlib.pyplot as plt\n"
      ],
      "metadata": {
        "id": "TLK7J31olpgO"
      },
      "execution_count": null,
      "outputs": []
    },
    {
      "cell_type": "markdown",
      "source": [
        "Data preprocessing"
      ],
      "metadata": {
        "id": "ZKuKXc9amcSJ"
      }
    },
    {
      "cell_type": "code",
      "source": [
        "# loading the data from csv files to a pandas dataframe\n",
        "salary_data=pd.read_csv('/content/salary_data.csv')"
      ],
      "metadata": {
        "id": "lX8gVI42mgLy"
      },
      "execution_count": null,
      "outputs": []
    },
    {
      "cell_type": "code",
      "source": [
        "salary_data.head()"
      ],
      "metadata": {
        "colab": {
          "base_uri": "https://localhost:8080/",
          "height": 206
        },
        "id": "9q2sWjhMm2uS",
        "outputId": "14d94ff1-9218-4f7c-e6fb-e9e71b8a6e61"
      },
      "execution_count": null,
      "outputs": [
        {
          "output_type": "execute_result",
          "data": {
            "text/plain": [
              "   YearsExperience  Salary\n",
              "0              1.1   39343\n",
              "1              1.3   46205\n",
              "2              1.5   37731\n",
              "3              2.0   43525\n",
              "4              2.2   39891"
            ],
            "text/html": [
              "\n",
              "  <div id=\"df-76bf4951-4778-4097-bf99-e84b9f0bcc63\" class=\"colab-df-container\">\n",
              "    <div>\n",
              "<style scoped>\n",
              "    .dataframe tbody tr th:only-of-type {\n",
              "        vertical-align: middle;\n",
              "    }\n",
              "\n",
              "    .dataframe tbody tr th {\n",
              "        vertical-align: top;\n",
              "    }\n",
              "\n",
              "    .dataframe thead th {\n",
              "        text-align: right;\n",
              "    }\n",
              "</style>\n",
              "<table border=\"1\" class=\"dataframe\">\n",
              "  <thead>\n",
              "    <tr style=\"text-align: right;\">\n",
              "      <th></th>\n",
              "      <th>YearsExperience</th>\n",
              "      <th>Salary</th>\n",
              "    </tr>\n",
              "  </thead>\n",
              "  <tbody>\n",
              "    <tr>\n",
              "      <th>0</th>\n",
              "      <td>1.1</td>\n",
              "      <td>39343</td>\n",
              "    </tr>\n",
              "    <tr>\n",
              "      <th>1</th>\n",
              "      <td>1.3</td>\n",
              "      <td>46205</td>\n",
              "    </tr>\n",
              "    <tr>\n",
              "      <th>2</th>\n",
              "      <td>1.5</td>\n",
              "      <td>37731</td>\n",
              "    </tr>\n",
              "    <tr>\n",
              "      <th>3</th>\n",
              "      <td>2.0</td>\n",
              "      <td>43525</td>\n",
              "    </tr>\n",
              "    <tr>\n",
              "      <th>4</th>\n",
              "      <td>2.2</td>\n",
              "      <td>39891</td>\n",
              "    </tr>\n",
              "  </tbody>\n",
              "</table>\n",
              "</div>\n",
              "    <div class=\"colab-df-buttons\">\n",
              "\n",
              "  <div class=\"colab-df-container\">\n",
              "    <button class=\"colab-df-convert\" onclick=\"convertToInteractive('df-76bf4951-4778-4097-bf99-e84b9f0bcc63')\"\n",
              "            title=\"Convert this dataframe to an interactive table.\"\n",
              "            style=\"display:none;\">\n",
              "\n",
              "  <svg xmlns=\"http://www.w3.org/2000/svg\" height=\"24px\" viewBox=\"0 -960 960 960\">\n",
              "    <path d=\"M120-120v-720h720v720H120Zm60-500h600v-160H180v160Zm220 220h160v-160H400v160Zm0 220h160v-160H400v160ZM180-400h160v-160H180v160Zm440 0h160v-160H620v160ZM180-180h160v-160H180v160Zm440 0h160v-160H620v160Z\"/>\n",
              "  </svg>\n",
              "    </button>\n",
              "\n",
              "  <style>\n",
              "    .colab-df-container {\n",
              "      display:flex;\n",
              "      gap: 12px;\n",
              "    }\n",
              "\n",
              "    .colab-df-convert {\n",
              "      background-color: #E8F0FE;\n",
              "      border: none;\n",
              "      border-radius: 50%;\n",
              "      cursor: pointer;\n",
              "      display: none;\n",
              "      fill: #1967D2;\n",
              "      height: 32px;\n",
              "      padding: 0 0 0 0;\n",
              "      width: 32px;\n",
              "    }\n",
              "\n",
              "    .colab-df-convert:hover {\n",
              "      background-color: #E2EBFA;\n",
              "      box-shadow: 0px 1px 2px rgba(60, 64, 67, 0.3), 0px 1px 3px 1px rgba(60, 64, 67, 0.15);\n",
              "      fill: #174EA6;\n",
              "    }\n",
              "\n",
              "    .colab-df-buttons div {\n",
              "      margin-bottom: 4px;\n",
              "    }\n",
              "\n",
              "    [theme=dark] .colab-df-convert {\n",
              "      background-color: #3B4455;\n",
              "      fill: #D2E3FC;\n",
              "    }\n",
              "\n",
              "    [theme=dark] .colab-df-convert:hover {\n",
              "      background-color: #434B5C;\n",
              "      box-shadow: 0px 1px 3px 1px rgba(0, 0, 0, 0.15);\n",
              "      filter: drop-shadow(0px 1px 2px rgba(0, 0, 0, 0.3));\n",
              "      fill: #FFFFFF;\n",
              "    }\n",
              "  </style>\n",
              "\n",
              "    <script>\n",
              "      const buttonEl =\n",
              "        document.querySelector('#df-76bf4951-4778-4097-bf99-e84b9f0bcc63 button.colab-df-convert');\n",
              "      buttonEl.style.display =\n",
              "        google.colab.kernel.accessAllowed ? 'block' : 'none';\n",
              "\n",
              "      async function convertToInteractive(key) {\n",
              "        const element = document.querySelector('#df-76bf4951-4778-4097-bf99-e84b9f0bcc63');\n",
              "        const dataTable =\n",
              "          await google.colab.kernel.invokeFunction('convertToInteractive',\n",
              "                                                    [key], {});\n",
              "        if (!dataTable) return;\n",
              "\n",
              "        const docLinkHtml = 'Like what you see? Visit the ' +\n",
              "          '<a target=\"_blank\" href=https://colab.research.google.com/notebooks/data_table.ipynb>data table notebook</a>'\n",
              "          + ' to learn more about interactive tables.';\n",
              "        element.innerHTML = '';\n",
              "        dataTable['output_type'] = 'display_data';\n",
              "        await google.colab.output.renderOutput(dataTable, element);\n",
              "        const docLink = document.createElement('div');\n",
              "        docLink.innerHTML = docLinkHtml;\n",
              "        element.appendChild(docLink);\n",
              "      }\n",
              "    </script>\n",
              "  </div>\n",
              "\n",
              "\n",
              "    <div id=\"df-dfd00d23-917e-46cb-a80d-b248f879dcbd\">\n",
              "      <button class=\"colab-df-quickchart\" onclick=\"quickchart('df-dfd00d23-917e-46cb-a80d-b248f879dcbd')\"\n",
              "                title=\"Suggest charts\"\n",
              "                style=\"display:none;\">\n",
              "\n",
              "<svg xmlns=\"http://www.w3.org/2000/svg\" height=\"24px\"viewBox=\"0 0 24 24\"\n",
              "     width=\"24px\">\n",
              "    <g>\n",
              "        <path d=\"M19 3H5c-1.1 0-2 .9-2 2v14c0 1.1.9 2 2 2h14c1.1 0 2-.9 2-2V5c0-1.1-.9-2-2-2zM9 17H7v-7h2v7zm4 0h-2V7h2v10zm4 0h-2v-4h2v4z\"/>\n",
              "    </g>\n",
              "</svg>\n",
              "      </button>\n",
              "\n",
              "<style>\n",
              "  .colab-df-quickchart {\n",
              "      --bg-color: #E8F0FE;\n",
              "      --fill-color: #1967D2;\n",
              "      --hover-bg-color: #E2EBFA;\n",
              "      --hover-fill-color: #174EA6;\n",
              "      --disabled-fill-color: #AAA;\n",
              "      --disabled-bg-color: #DDD;\n",
              "  }\n",
              "\n",
              "  [theme=dark] .colab-df-quickchart {\n",
              "      --bg-color: #3B4455;\n",
              "      --fill-color: #D2E3FC;\n",
              "      --hover-bg-color: #434B5C;\n",
              "      --hover-fill-color: #FFFFFF;\n",
              "      --disabled-bg-color: #3B4455;\n",
              "      --disabled-fill-color: #666;\n",
              "  }\n",
              "\n",
              "  .colab-df-quickchart {\n",
              "    background-color: var(--bg-color);\n",
              "    border: none;\n",
              "    border-radius: 50%;\n",
              "    cursor: pointer;\n",
              "    display: none;\n",
              "    fill: var(--fill-color);\n",
              "    height: 32px;\n",
              "    padding: 0;\n",
              "    width: 32px;\n",
              "  }\n",
              "\n",
              "  .colab-df-quickchart:hover {\n",
              "    background-color: var(--hover-bg-color);\n",
              "    box-shadow: 0 1px 2px rgba(60, 64, 67, 0.3), 0 1px 3px 1px rgba(60, 64, 67, 0.15);\n",
              "    fill: var(--button-hover-fill-color);\n",
              "  }\n",
              "\n",
              "  .colab-df-quickchart-complete:disabled,\n",
              "  .colab-df-quickchart-complete:disabled:hover {\n",
              "    background-color: var(--disabled-bg-color);\n",
              "    fill: var(--disabled-fill-color);\n",
              "    box-shadow: none;\n",
              "  }\n",
              "\n",
              "  .colab-df-spinner {\n",
              "    border: 2px solid var(--fill-color);\n",
              "    border-color: transparent;\n",
              "    border-bottom-color: var(--fill-color);\n",
              "    animation:\n",
              "      spin 1s steps(1) infinite;\n",
              "  }\n",
              "\n",
              "  @keyframes spin {\n",
              "    0% {\n",
              "      border-color: transparent;\n",
              "      border-bottom-color: var(--fill-color);\n",
              "      border-left-color: var(--fill-color);\n",
              "    }\n",
              "    20% {\n",
              "      border-color: transparent;\n",
              "      border-left-color: var(--fill-color);\n",
              "      border-top-color: var(--fill-color);\n",
              "    }\n",
              "    30% {\n",
              "      border-color: transparent;\n",
              "      border-left-color: var(--fill-color);\n",
              "      border-top-color: var(--fill-color);\n",
              "      border-right-color: var(--fill-color);\n",
              "    }\n",
              "    40% {\n",
              "      border-color: transparent;\n",
              "      border-right-color: var(--fill-color);\n",
              "      border-top-color: var(--fill-color);\n",
              "    }\n",
              "    60% {\n",
              "      border-color: transparent;\n",
              "      border-right-color: var(--fill-color);\n",
              "    }\n",
              "    80% {\n",
              "      border-color: transparent;\n",
              "      border-right-color: var(--fill-color);\n",
              "      border-bottom-color: var(--fill-color);\n",
              "    }\n",
              "    90% {\n",
              "      border-color: transparent;\n",
              "      border-bottom-color: var(--fill-color);\n",
              "    }\n",
              "  }\n",
              "</style>\n",
              "\n",
              "      <script>\n",
              "        async function quickchart(key) {\n",
              "          const quickchartButtonEl =\n",
              "            document.querySelector('#' + key + ' button');\n",
              "          quickchartButtonEl.disabled = true;  // To prevent multiple clicks.\n",
              "          quickchartButtonEl.classList.add('colab-df-spinner');\n",
              "          try {\n",
              "            const charts = await google.colab.kernel.invokeFunction(\n",
              "                'suggestCharts', [key], {});\n",
              "          } catch (error) {\n",
              "            console.error('Error during call to suggestCharts:', error);\n",
              "          }\n",
              "          quickchartButtonEl.classList.remove('colab-df-spinner');\n",
              "          quickchartButtonEl.classList.add('colab-df-quickchart-complete');\n",
              "        }\n",
              "        (() => {\n",
              "          let quickchartButtonEl =\n",
              "            document.querySelector('#df-dfd00d23-917e-46cb-a80d-b248f879dcbd button');\n",
              "          quickchartButtonEl.style.display =\n",
              "            google.colab.kernel.accessAllowed ? 'block' : 'none';\n",
              "        })();\n",
              "      </script>\n",
              "    </div>\n",
              "\n",
              "    </div>\n",
              "  </div>\n"
            ],
            "application/vnd.google.colaboratory.intrinsic+json": {
              "type": "dataframe",
              "variable_name": "salary_data",
              "summary": "{\n  \"name\": \"salary_data\",\n  \"rows\": 30,\n  \"fields\": [\n    {\n      \"column\": \"YearsExperience\",\n      \"properties\": {\n        \"dtype\": \"number\",\n        \"std\": 2.8378881576627184,\n        \"min\": 1.1,\n        \"max\": 10.5,\n        \"num_unique_values\": 28,\n        \"samples\": [\n          3.9,\n          9.6,\n          3.7\n        ],\n        \"semantic_type\": \"\",\n        \"description\": \"\"\n      }\n    },\n    {\n      \"column\": \"Salary\",\n      \"properties\": {\n        \"dtype\": \"number\",\n        \"std\": 27414,\n        \"min\": 37731,\n        \"max\": 122391,\n        \"num_unique_values\": 30,\n        \"samples\": [\n          112635,\n          67938,\n          113812\n        ],\n        \"semantic_type\": \"\",\n        \"description\": \"\"\n      }\n    }\n  ]\n}"
            }
          },
          "metadata": {},
          "execution_count": 113
        }
      ]
    },
    {
      "cell_type": "code",
      "source": [
        "salary_data.tail()"
      ],
      "metadata": {
        "colab": {
          "base_uri": "https://localhost:8080/",
          "height": 206
        },
        "id": "8C_hlBozm5QU",
        "outputId": "84ab9e68-b740-4e51-da60-609ac6805f90"
      },
      "execution_count": null,
      "outputs": [
        {
          "output_type": "execute_result",
          "data": {
            "text/plain": [
              "    YearsExperience  Salary\n",
              "25              9.0  105582\n",
              "26              9.5  116969\n",
              "27              9.6  112635\n",
              "28             10.3  122391\n",
              "29             10.5  121872"
            ],
            "text/html": [
              "\n",
              "  <div id=\"df-a9c6df5b-c7ba-4fa7-a6ef-346104907207\" class=\"colab-df-container\">\n",
              "    <div>\n",
              "<style scoped>\n",
              "    .dataframe tbody tr th:only-of-type {\n",
              "        vertical-align: middle;\n",
              "    }\n",
              "\n",
              "    .dataframe tbody tr th {\n",
              "        vertical-align: top;\n",
              "    }\n",
              "\n",
              "    .dataframe thead th {\n",
              "        text-align: right;\n",
              "    }\n",
              "</style>\n",
              "<table border=\"1\" class=\"dataframe\">\n",
              "  <thead>\n",
              "    <tr style=\"text-align: right;\">\n",
              "      <th></th>\n",
              "      <th>YearsExperience</th>\n",
              "      <th>Salary</th>\n",
              "    </tr>\n",
              "  </thead>\n",
              "  <tbody>\n",
              "    <tr>\n",
              "      <th>25</th>\n",
              "      <td>9.0</td>\n",
              "      <td>105582</td>\n",
              "    </tr>\n",
              "    <tr>\n",
              "      <th>26</th>\n",
              "      <td>9.5</td>\n",
              "      <td>116969</td>\n",
              "    </tr>\n",
              "    <tr>\n",
              "      <th>27</th>\n",
              "      <td>9.6</td>\n",
              "      <td>112635</td>\n",
              "    </tr>\n",
              "    <tr>\n",
              "      <th>28</th>\n",
              "      <td>10.3</td>\n",
              "      <td>122391</td>\n",
              "    </tr>\n",
              "    <tr>\n",
              "      <th>29</th>\n",
              "      <td>10.5</td>\n",
              "      <td>121872</td>\n",
              "    </tr>\n",
              "  </tbody>\n",
              "</table>\n",
              "</div>\n",
              "    <div class=\"colab-df-buttons\">\n",
              "\n",
              "  <div class=\"colab-df-container\">\n",
              "    <button class=\"colab-df-convert\" onclick=\"convertToInteractive('df-a9c6df5b-c7ba-4fa7-a6ef-346104907207')\"\n",
              "            title=\"Convert this dataframe to an interactive table.\"\n",
              "            style=\"display:none;\">\n",
              "\n",
              "  <svg xmlns=\"http://www.w3.org/2000/svg\" height=\"24px\" viewBox=\"0 -960 960 960\">\n",
              "    <path d=\"M120-120v-720h720v720H120Zm60-500h600v-160H180v160Zm220 220h160v-160H400v160Zm0 220h160v-160H400v160ZM180-400h160v-160H180v160Zm440 0h160v-160H620v160ZM180-180h160v-160H180v160Zm440 0h160v-160H620v160Z\"/>\n",
              "  </svg>\n",
              "    </button>\n",
              "\n",
              "  <style>\n",
              "    .colab-df-container {\n",
              "      display:flex;\n",
              "      gap: 12px;\n",
              "    }\n",
              "\n",
              "    .colab-df-convert {\n",
              "      background-color: #E8F0FE;\n",
              "      border: none;\n",
              "      border-radius: 50%;\n",
              "      cursor: pointer;\n",
              "      display: none;\n",
              "      fill: #1967D2;\n",
              "      height: 32px;\n",
              "      padding: 0 0 0 0;\n",
              "      width: 32px;\n",
              "    }\n",
              "\n",
              "    .colab-df-convert:hover {\n",
              "      background-color: #E2EBFA;\n",
              "      box-shadow: 0px 1px 2px rgba(60, 64, 67, 0.3), 0px 1px 3px 1px rgba(60, 64, 67, 0.15);\n",
              "      fill: #174EA6;\n",
              "    }\n",
              "\n",
              "    .colab-df-buttons div {\n",
              "      margin-bottom: 4px;\n",
              "    }\n",
              "\n",
              "    [theme=dark] .colab-df-convert {\n",
              "      background-color: #3B4455;\n",
              "      fill: #D2E3FC;\n",
              "    }\n",
              "\n",
              "    [theme=dark] .colab-df-convert:hover {\n",
              "      background-color: #434B5C;\n",
              "      box-shadow: 0px 1px 3px 1px rgba(0, 0, 0, 0.15);\n",
              "      filter: drop-shadow(0px 1px 2px rgba(0, 0, 0, 0.3));\n",
              "      fill: #FFFFFF;\n",
              "    }\n",
              "  </style>\n",
              "\n",
              "    <script>\n",
              "      const buttonEl =\n",
              "        document.querySelector('#df-a9c6df5b-c7ba-4fa7-a6ef-346104907207 button.colab-df-convert');\n",
              "      buttonEl.style.display =\n",
              "        google.colab.kernel.accessAllowed ? 'block' : 'none';\n",
              "\n",
              "      async function convertToInteractive(key) {\n",
              "        const element = document.querySelector('#df-a9c6df5b-c7ba-4fa7-a6ef-346104907207');\n",
              "        const dataTable =\n",
              "          await google.colab.kernel.invokeFunction('convertToInteractive',\n",
              "                                                    [key], {});\n",
              "        if (!dataTable) return;\n",
              "\n",
              "        const docLinkHtml = 'Like what you see? Visit the ' +\n",
              "          '<a target=\"_blank\" href=https://colab.research.google.com/notebooks/data_table.ipynb>data table notebook</a>'\n",
              "          + ' to learn more about interactive tables.';\n",
              "        element.innerHTML = '';\n",
              "        dataTable['output_type'] = 'display_data';\n",
              "        await google.colab.output.renderOutput(dataTable, element);\n",
              "        const docLink = document.createElement('div');\n",
              "        docLink.innerHTML = docLinkHtml;\n",
              "        element.appendChild(docLink);\n",
              "      }\n",
              "    </script>\n",
              "  </div>\n",
              "\n",
              "\n",
              "    <div id=\"df-480abaa3-fc8d-4f87-acbc-10c170be94ee\">\n",
              "      <button class=\"colab-df-quickchart\" onclick=\"quickchart('df-480abaa3-fc8d-4f87-acbc-10c170be94ee')\"\n",
              "                title=\"Suggest charts\"\n",
              "                style=\"display:none;\">\n",
              "\n",
              "<svg xmlns=\"http://www.w3.org/2000/svg\" height=\"24px\"viewBox=\"0 0 24 24\"\n",
              "     width=\"24px\">\n",
              "    <g>\n",
              "        <path d=\"M19 3H5c-1.1 0-2 .9-2 2v14c0 1.1.9 2 2 2h14c1.1 0 2-.9 2-2V5c0-1.1-.9-2-2-2zM9 17H7v-7h2v7zm4 0h-2V7h2v10zm4 0h-2v-4h2v4z\"/>\n",
              "    </g>\n",
              "</svg>\n",
              "      </button>\n",
              "\n",
              "<style>\n",
              "  .colab-df-quickchart {\n",
              "      --bg-color: #E8F0FE;\n",
              "      --fill-color: #1967D2;\n",
              "      --hover-bg-color: #E2EBFA;\n",
              "      --hover-fill-color: #174EA6;\n",
              "      --disabled-fill-color: #AAA;\n",
              "      --disabled-bg-color: #DDD;\n",
              "  }\n",
              "\n",
              "  [theme=dark] .colab-df-quickchart {\n",
              "      --bg-color: #3B4455;\n",
              "      --fill-color: #D2E3FC;\n",
              "      --hover-bg-color: #434B5C;\n",
              "      --hover-fill-color: #FFFFFF;\n",
              "      --disabled-bg-color: #3B4455;\n",
              "      --disabled-fill-color: #666;\n",
              "  }\n",
              "\n",
              "  .colab-df-quickchart {\n",
              "    background-color: var(--bg-color);\n",
              "    border: none;\n",
              "    border-radius: 50%;\n",
              "    cursor: pointer;\n",
              "    display: none;\n",
              "    fill: var(--fill-color);\n",
              "    height: 32px;\n",
              "    padding: 0;\n",
              "    width: 32px;\n",
              "  }\n",
              "\n",
              "  .colab-df-quickchart:hover {\n",
              "    background-color: var(--hover-bg-color);\n",
              "    box-shadow: 0 1px 2px rgba(60, 64, 67, 0.3), 0 1px 3px 1px rgba(60, 64, 67, 0.15);\n",
              "    fill: var(--button-hover-fill-color);\n",
              "  }\n",
              "\n",
              "  .colab-df-quickchart-complete:disabled,\n",
              "  .colab-df-quickchart-complete:disabled:hover {\n",
              "    background-color: var(--disabled-bg-color);\n",
              "    fill: var(--disabled-fill-color);\n",
              "    box-shadow: none;\n",
              "  }\n",
              "\n",
              "  .colab-df-spinner {\n",
              "    border: 2px solid var(--fill-color);\n",
              "    border-color: transparent;\n",
              "    border-bottom-color: var(--fill-color);\n",
              "    animation:\n",
              "      spin 1s steps(1) infinite;\n",
              "  }\n",
              "\n",
              "  @keyframes spin {\n",
              "    0% {\n",
              "      border-color: transparent;\n",
              "      border-bottom-color: var(--fill-color);\n",
              "      border-left-color: var(--fill-color);\n",
              "    }\n",
              "    20% {\n",
              "      border-color: transparent;\n",
              "      border-left-color: var(--fill-color);\n",
              "      border-top-color: var(--fill-color);\n",
              "    }\n",
              "    30% {\n",
              "      border-color: transparent;\n",
              "      border-left-color: var(--fill-color);\n",
              "      border-top-color: var(--fill-color);\n",
              "      border-right-color: var(--fill-color);\n",
              "    }\n",
              "    40% {\n",
              "      border-color: transparent;\n",
              "      border-right-color: var(--fill-color);\n",
              "      border-top-color: var(--fill-color);\n",
              "    }\n",
              "    60% {\n",
              "      border-color: transparent;\n",
              "      border-right-color: var(--fill-color);\n",
              "    }\n",
              "    80% {\n",
              "      border-color: transparent;\n",
              "      border-right-color: var(--fill-color);\n",
              "      border-bottom-color: var(--fill-color);\n",
              "    }\n",
              "    90% {\n",
              "      border-color: transparent;\n",
              "      border-bottom-color: var(--fill-color);\n",
              "    }\n",
              "  }\n",
              "</style>\n",
              "\n",
              "      <script>\n",
              "        async function quickchart(key) {\n",
              "          const quickchartButtonEl =\n",
              "            document.querySelector('#' + key + ' button');\n",
              "          quickchartButtonEl.disabled = true;  // To prevent multiple clicks.\n",
              "          quickchartButtonEl.classList.add('colab-df-spinner');\n",
              "          try {\n",
              "            const charts = await google.colab.kernel.invokeFunction(\n",
              "                'suggestCharts', [key], {});\n",
              "          } catch (error) {\n",
              "            console.error('Error during call to suggestCharts:', error);\n",
              "          }\n",
              "          quickchartButtonEl.classList.remove('colab-df-spinner');\n",
              "          quickchartButtonEl.classList.add('colab-df-quickchart-complete');\n",
              "        }\n",
              "        (() => {\n",
              "          let quickchartButtonEl =\n",
              "            document.querySelector('#df-480abaa3-fc8d-4f87-acbc-10c170be94ee button');\n",
              "          quickchartButtonEl.style.display =\n",
              "            google.colab.kernel.accessAllowed ? 'block' : 'none';\n",
              "        })();\n",
              "      </script>\n",
              "    </div>\n",
              "\n",
              "    </div>\n",
              "  </div>\n"
            ],
            "application/vnd.google.colaboratory.intrinsic+json": {
              "type": "dataframe",
              "summary": "{\n  \"name\": \"salary_data\",\n  \"rows\": 5,\n  \"fields\": [\n    {\n      \"column\": \"YearsExperience\",\n      \"properties\": {\n        \"dtype\": \"number\",\n        \"std\": 0.6140032573203502,\n        \"min\": 9.0,\n        \"max\": 10.5,\n        \"num_unique_values\": 5,\n        \"samples\": [\n          9.5,\n          10.5,\n          9.6\n        ],\n        \"semantic_type\": \"\",\n        \"description\": \"\"\n      }\n    },\n    {\n      \"column\": \"Salary\",\n      \"properties\": {\n        \"dtype\": \"number\",\n        \"std\": 7001,\n        \"min\": 105582,\n        \"max\": 122391,\n        \"num_unique_values\": 5,\n        \"samples\": [\n          116969,\n          121872,\n          112635\n        ],\n        \"semantic_type\": \"\",\n        \"description\": \"\"\n      }\n    }\n  ]\n}"
            }
          },
          "metadata": {},
          "execution_count": 114
        }
      ]
    },
    {
      "cell_type": "code",
      "source": [
        "salary_data.shape"
      ],
      "metadata": {
        "colab": {
          "base_uri": "https://localhost:8080/"
        },
        "id": "r7VFysGUnAQm",
        "outputId": "dbabf6ae-7540-4af8-aed8-128a4ac37920"
      },
      "execution_count": null,
      "outputs": [
        {
          "output_type": "execute_result",
          "data": {
            "text/plain": [
              "(30, 2)"
            ]
          },
          "metadata": {},
          "execution_count": 115
        }
      ]
    },
    {
      "cell_type": "code",
      "source": [
        "#checking the missing values\n",
        "salary_data.isnull().sum()"
      ],
      "metadata": {
        "colab": {
          "base_uri": "https://localhost:8080/",
          "height": 147
        },
        "id": "CBOeiAHAnibT",
        "outputId": "9d19258e-b890-4c43-a2e7-3092fd0669aa"
      },
      "execution_count": null,
      "outputs": [
        {
          "output_type": "execute_result",
          "data": {
            "text/plain": [
              "YearsExperience    0\n",
              "Salary             0\n",
              "dtype: int64"
            ],
            "text/html": [
              "<div>\n",
              "<style scoped>\n",
              "    .dataframe tbody tr th:only-of-type {\n",
              "        vertical-align: middle;\n",
              "    }\n",
              "\n",
              "    .dataframe tbody tr th {\n",
              "        vertical-align: top;\n",
              "    }\n",
              "\n",
              "    .dataframe thead th {\n",
              "        text-align: right;\n",
              "    }\n",
              "</style>\n",
              "<table border=\"1\" class=\"dataframe\">\n",
              "  <thead>\n",
              "    <tr style=\"text-align: right;\">\n",
              "      <th></th>\n",
              "      <th>0</th>\n",
              "    </tr>\n",
              "  </thead>\n",
              "  <tbody>\n",
              "    <tr>\n",
              "      <th>YearsExperience</th>\n",
              "      <td>0</td>\n",
              "    </tr>\n",
              "    <tr>\n",
              "      <th>Salary</th>\n",
              "      <td>0</td>\n",
              "    </tr>\n",
              "  </tbody>\n",
              "</table>\n",
              "</div><br><label><b>dtype:</b> int64</label>"
            ]
          },
          "metadata": {},
          "execution_count": 116
        }
      ]
    },
    {
      "cell_type": "markdown",
      "source": [
        "Splitting feature and target"
      ],
      "metadata": {
        "id": "2jGrae6Epck6"
      }
    },
    {
      "cell_type": "code",
      "source": [
        "#X=salary_data.drop(columns='YearsExperience',axis=1)\n",
        "#Y=salary_data['Salary']\n",
        "X=salary_data.iloc[:,:-1].values  # selects all rows and all columns except the last one.\n",
        "Y=salary_data.iloc[:,1].values    #selects all rows from column index 1 (the second column).\n",
        "\n"
      ],
      "metadata": {
        "id": "o6JZJ8Wtnyhu"
      },
      "execution_count": null,
      "outputs": []
    },
    {
      "cell_type": "code",
      "source": [
        "print(X)\n",
        "print(Y)"
      ],
      "metadata": {
        "colab": {
          "base_uri": "https://localhost:8080/"
        },
        "id": "10nfFXosqKgH",
        "outputId": "4f5164e8-7796-40d2-ea98-827c7b306d16"
      },
      "execution_count": null,
      "outputs": [
        {
          "output_type": "stream",
          "name": "stdout",
          "text": [
            "[[ 1.1]\n",
            " [ 1.3]\n",
            " [ 1.5]\n",
            " [ 2. ]\n",
            " [ 2.2]\n",
            " [ 2.9]\n",
            " [ 3. ]\n",
            " [ 3.2]\n",
            " [ 3.2]\n",
            " [ 3.7]\n",
            " [ 3.9]\n",
            " [ 4. ]\n",
            " [ 4. ]\n",
            " [ 4.1]\n",
            " [ 4.5]\n",
            " [ 4.9]\n",
            " [ 5.1]\n",
            " [ 5.3]\n",
            " [ 5.9]\n",
            " [ 6. ]\n",
            " [ 6.8]\n",
            " [ 7.1]\n",
            " [ 7.9]\n",
            " [ 8.2]\n",
            " [ 8.7]\n",
            " [ 9. ]\n",
            " [ 9.5]\n",
            " [ 9.6]\n",
            " [10.3]\n",
            " [10.5]]\n",
            "[ 39343  46205  37731  43525  39891  56642  60150  54445  64445  57189\n",
            "  63218  55794  56957  57081  61111  67938  66029  83088  81363  93940\n",
            "  91738  98273 101302 113812 109431 105582 116969 112635 122391 121872]\n"
          ]
        }
      ]
    },
    {
      "cell_type": "markdown",
      "source": [
        "Splitting the dataset into training and testing data"
      ],
      "metadata": {
        "id": "f2TLSuoSr5Mk"
      }
    },
    {
      "cell_type": "code",
      "source": [
        "X_train,X_test,Y_train,Y_test=train_test_split(X,Y,test_size=0.33,random_state=2)"
      ],
      "metadata": {
        "id": "J0c9jtRzr_5D"
      },
      "execution_count": null,
      "outputs": []
    },
    {
      "cell_type": "markdown",
      "source": [
        "Training the linear Regression model"
      ],
      "metadata": {
        "id": "6Ux3DCzpuKgT"
      }
    },
    {
      "cell_type": "code",
      "source": [
        "model=Linear_Regression(learning_rate=0.002,no_of_iterations=1000)"
      ],
      "metadata": {
        "id": "yrJSuo5KuPLR"
      },
      "execution_count": null,
      "outputs": []
    },
    {
      "cell_type": "code",
      "source": [
        "model.fit(X_train,Y_train)"
      ],
      "metadata": {
        "id": "ldL7FHZUu49N"
      },
      "execution_count": null,
      "outputs": []
    },
    {
      "cell_type": "code",
      "source": [
        "#printing the parameter values(weights & bias)\n",
        "\n",
        "print('weight=',model.w[0])  # first element in the numpy array\n",
        "print('bias=',model.b)"
      ],
      "metadata": {
        "colab": {
          "base_uri": "https://localhost:8080/"
        },
        "id": "yqyWxLu7u9pH",
        "outputId": "7f203d33-8bb8-4055-de4f-3301eca59275"
      },
      "execution_count": null,
      "outputs": [
        {
          "output_type": "stream",
          "name": "stdout",
          "text": [
            "weight= 10945.020784583106\n",
            "bias= 13472.151907043792\n"
          ]
        }
      ]
    },
    {
      "cell_type": "markdown",
      "source": [
        "y=9514(x)+23697\n",
        "salary=9514(experience)+23697"
      ],
      "metadata": {
        "id": "nzK5-mLU_NDy"
      }
    },
    {
      "cell_type": "markdown",
      "source": [
        "Predict the salary value for test data"
      ],
      "metadata": {
        "id": "EZK_eFVwAGbv"
      }
    },
    {
      "cell_type": "code",
      "source": [
        "test_data_prediction=model.predict(X_test)"
      ],
      "metadata": {
        "id": "tdo04gm2ySAw"
      },
      "execution_count": null,
      "outputs": []
    },
    {
      "cell_type": "code",
      "source": [
        "print(test_data_prediction)"
      ],
      "metadata": {
        "colab": {
          "base_uri": "https://localhost:8080/"
        },
        "id": "zrxweR8DBAaz",
        "outputId": "2a2e9faa-ac30-4bb5-f098-cdc544a9b36c"
      },
      "execution_count": null,
      "outputs": [
        {
          "output_type": "stream",
          "name": "stdout",
          "text": [
            "[ 27700.678927    25511.67477009  62724.74543767  53968.72881\n",
            "  91181.79947758  79142.27661454 103221.32234063  46307.21426079\n",
            "  35362.19347621  87898.29324221]\n"
          ]
        }
      ]
    },
    {
      "cell_type": "markdown",
      "source": [
        "Visualizing the predict values and actual values"
      ],
      "metadata": {
        "id": "xAfPgdcpB4f_"
      }
    },
    {
      "cell_type": "code",
      "source": [
        "plt.scatter(X_test,Y_test,color='red')\n",
        "plt.plot(X_test,test_data_prediction,color='blue')\n",
        "plt.xlabel('Work Experience')\n",
        "plt.ylabel('Salary')\n",
        "plt.title('Salary vs Experience')\n",
        "plt.show()"
      ],
      "metadata": {
        "colab": {
          "base_uri": "https://localhost:8080/",
          "height": 472
        },
        "id": "zfFU5RZWB_nY",
        "outputId": "d43dce0e-ee3f-405a-9a92-cc2b59b4f507"
      },
      "execution_count": null,
      "outputs": [
        {
          "output_type": "display_data",
          "data": {
            "text/plain": [
              "<Figure size 640x480 with 1 Axes>"
            ],
            "image/png": "[encoded data removed]"
          },
          "metadata": {}
        }
      ]
    }
  ]
}