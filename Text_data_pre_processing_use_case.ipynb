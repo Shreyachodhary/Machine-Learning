{
  "nbformat": 4,
  "nbformat_minor": 0,
  "metadata": {
    "colab": {
      "provenance": []
    },
    "kernelspec": {
      "name": "python3",
      "display_name": "Python 3"
    },
    "language_info": {
      "name": "python"
    }
  },
  "cells": [
    {
      "cell_type": "markdown",
      "source": [
        "Importing the Dependencies"
      ],
      "metadata": {
        "id": "FTSjFsGISKOB"
      }
    },
    {
      "cell_type": "code",
      "execution_count": null,
      "metadata": {
        "id": "UFbD-r9LQXJS"
      },
      "outputs": [],
      "source": [
        "import numpy as np\n",
        "import pandas as pd\n",
        "import re  #regular expression is useful for going through the text in a particlar paragraph or a document.\n",
        "import nltk\n",
        "from nltk.corpus import stopwords\n",
        "from nltk.stem.porter import PorterStemmer\n",
        "from sklearn.feature_extraction.text import TfidfVectorizer\n",
        "from sklearn.model_selection import train_test_split"
      ]
    },
    {
      "cell_type": "code",
      "source": [
        "nltk.download('stopwords')  # stopwords are those words which are repeated a lot of time in paragraph or a document."
      ],
      "metadata": {
        "colab": {
          "base_uri": "https://localhost:8080/"
        },
        "id": "7HZkRr32TIoX",
        "outputId": "8ae01714-76ad-41c9-de44-52cdf0e584ef"
      },
      "execution_count": null,
      "outputs": [
        {
          "output_type": "stream",
          "name": "stderr",
          "text": [
            "[nltk_data] Downloading package stopwords to /root/nltk_data...\n",
            "[nltk_data]   Package stopwords is already up-to-date!\n"
          ]
        },
        {
          "output_type": "execute_result",
          "data": {
            "text/plain": [
              "True"
            ]
          },
          "metadata": {},
          "execution_count": 28
        }
      ]
    },
    {
      "cell_type": "code",
      "source": [
        "print(stopwords.words('english'))"
      ],
      "metadata": {
        "colab": {
          "base_uri": "https://localhost:8080/"
        },
        "id": "9iXeOwSGTaeC",
        "outputId": "45207c92-16a8-410b-f483-6c0c83b6efd3"
      },
      "execution_count": null,
      "outputs": [
        {
          "output_type": "stream",
          "name": "stdout",
          "text": [
            "['a', 'about', 'above', 'after', 'again', 'against', 'ain', 'all', 'am', 'an', 'and', 'any', 'are', 'aren', \"aren't\", 'as', 'at', 'be', 'because', 'been', 'before', 'being', 'below', 'between', 'both', 'but', 'by', 'can', 'couldn', \"couldn't\", 'd', 'did', 'didn', \"didn't\", 'do', 'does', 'doesn', \"doesn't\", 'doing', 'don', \"don't\", 'down', 'during', 'each', 'few', 'for', 'from', 'further', 'had', 'hadn', \"hadn't\", 'has', 'hasn', \"hasn't\", 'have', 'haven', \"haven't\", 'having', 'he', \"he'd\", \"he'll\", 'her', 'here', 'hers', 'herself', \"he's\", 'him', 'himself', 'his', 'how', 'i', \"i'd\", 'if', \"i'll\", \"i'm\", 'in', 'into', 'is', 'isn', \"isn't\", 'it', \"it'd\", \"it'll\", \"it's\", 'its', 'itself', \"i've\", 'just', 'll', 'm', 'ma', 'me', 'mightn', \"mightn't\", 'more', 'most', 'mustn', \"mustn't\", 'my', 'myself', 'needn', \"needn't\", 'no', 'nor', 'not', 'now', 'o', 'of', 'off', 'on', 'once', 'only', 'or', 'other', 'our', 'ours', 'ourselves', 'out', 'over', 'own', 're', 's', 'same', 'shan', \"shan't\", 'she', \"she'd\", \"she'll\", \"she's\", 'should', 'shouldn', \"shouldn't\", \"should've\", 'so', 'some', 'such', 't', 'than', 'that', \"that'll\", 'the', 'their', 'theirs', 'them', 'themselves', 'then', 'there', 'these', 'they', \"they'd\", \"they'll\", \"they're\", \"they've\", 'this', 'those', 'through', 'to', 'too', 'under', 'until', 'up', 've', 'very', 'was', 'wasn', \"wasn't\", 'we', \"we'd\", \"we'll\", \"we're\", 'were', 'weren', \"weren't\", \"we've\", 'what', 'when', 'where', 'which', 'while', 'who', 'whom', 'why', 'will', 'with', 'won', \"won't\", 'wouldn', \"wouldn't\", 'y', 'you', \"you'd\", \"you'll\", 'your', \"you're\", 'yours', 'yourself', 'yourselves', \"you've\"]\n"
          ]
        }
      ]
    },
    {
      "cell_type": "markdown",
      "source": [
        "**Data Pre-Processing**"
      ],
      "metadata": {
        "id": "bPFZkmwNUCkQ"
      }
    },
    {
      "cell_type": "code",
      "source": [
        "# load the data to a pandas dataframe\n",
        "news_data = pd.read_csv('/content/train.csv', engine='python', quotechar='\"', escapechar='\\\\', on_bad_lines='skip')"
      ],
      "metadata": {
        "id": "Q76zdVDtUIIC"
      },
      "execution_count": null,
      "outputs": []
    },
    {
      "cell_type": "code",
      "source": [
        "news_data.head()"
      ],
      "metadata": {
        "colab": {
          "base_uri": "https://localhost:8080/",
          "height": 345
        },
        "id": "MxhHszj0WhWK",
        "outputId": "fe93356b-c7de-4bdb-803e-79c33e554b15"
      },
      "execution_count": null,
      "outputs": [
        {
          "output_type": "execute_result",
          "data": {
            "text/plain": [
              "   id  ... label\n",
              "0   0  ...     1\n",
              "1   1  ...     0\n",
              "2   2  ...     1\n",
              "3   3  ...     1\n",
              "4   4  ...     1\n",
              "\n",
              "[5 rows x 5 columns]"
            ],
            "text/html": [
              "\n",
              "  <div id=\"df-c760c707-c756-441e-a314-3399252b0647\" class=\"colab-df-container\">\n",
              "    <div>\n",
              "<style scoped>\n",
              "    .dataframe tbody tr th:only-of-type {\n",
              "        vertical-align: middle;\n",
              "    }\n",
              "\n",
              "    .dataframe tbody tr th {\n",
              "        vertical-align: top;\n",
              "    }\n",
              "\n",
              "    .dataframe thead th {\n",
              "        text-align: right;\n",
              "    }\n",
              "</style>\n",
              "<table border=\"1\" class=\"dataframe\">\n",
              "  <thead>\n",
              "    <tr style=\"text-align: right;\">\n",
              "      <th></th>\n",
              "      <th>id</th>\n",
              "      <th>title</th>\n",
              "      <th>author</th>\n",
              "      <th>text</th>\n",
              "      <th>label</th>\n",
              "    </tr>\n",
              "  </thead>\n",
              "  <tbody>\n",
              "    <tr>\n",
              "      <th>0</th>\n",
              "      <td>0</td>\n",
              "      <td>House Dem Aide: We Didn’t Even See Comey’s Let...</td>\n",
              "      <td>Darrell Lucus</td>\n",
              "      <td>House Dem Aide: We Didn’t Even See Comey’s Let...</td>\n",
              "      <td>1</td>\n",
              "    </tr>\n",
              "    <tr>\n",
              "      <th>1</th>\n",
              "      <td>1</td>\n",
              "      <td>FLYNN: Hillary Clinton, Big Woman on Campus - ...</td>\n",
              "      <td>Daniel J. Flynn</td>\n",
              "      <td>Ever get the feeling your life circles the rou...</td>\n",
              "      <td>0</td>\n",
              "    </tr>\n",
              "    <tr>\n",
              "      <th>2</th>\n",
              "      <td>2</td>\n",
              "      <td>Why the Truth Might Get You Fired</td>\n",
              "      <td>Consortiumnews.com</td>\n",
              "      <td>Why the Truth Might Get You Fired October 29, ...</td>\n",
              "      <td>1</td>\n",
              "    </tr>\n",
              "    <tr>\n",
              "      <th>3</th>\n",
              "      <td>3</td>\n",
              "      <td>15 Civilians Killed In Single US Airstrike Hav...</td>\n",
              "      <td>Jessica Purkiss</td>\n",
              "      <td>Videos 15 Civilians Killed In Single US Airstr...</td>\n",
              "      <td>1</td>\n",
              "    </tr>\n",
              "    <tr>\n",
              "      <th>4</th>\n",
              "      <td>4</td>\n",
              "      <td>Iranian woman jailed for fictional unpublished...</td>\n",
              "      <td>Howard Portnoy</td>\n",
              "      <td>Print \\nAn Iranian woman has been sentenced to...</td>\n",
              "      <td>1</td>\n",
              "    </tr>\n",
              "  </tbody>\n",
              "</table>\n",
              "</div>\n",
              "    <div class=\"colab-df-buttons\">\n",
              "\n",
              "  <div class=\"colab-df-container\">\n",
              "    <button class=\"colab-df-convert\" onclick=\"convertToInteractive('df-c760c707-c756-441e-a314-3399252b0647')\"\n",
              "            title=\"Convert this dataframe to an interactive table.\"\n",
              "            style=\"display:none;\">\n",
              "\n",
              "  <svg xmlns=\"http://www.w3.org/2000/svg\" height=\"24px\" viewBox=\"0 -960 960 960\">\n",
              "    <path d=\"M120-120v-720h720v720H120Zm60-500h600v-160H180v160Zm220 220h160v-160H400v160Zm0 220h160v-160H400v160ZM180-400h160v-160H180v160Zm440 0h160v-160H620v160ZM180-180h160v-160H180v160Zm440 0h160v-160H620v160Z\"/>\n",
              "  </svg>\n",
              "    </button>\n",
              "\n",
              "  <style>\n",
              "    .colab-df-container {\n",
              "      display:flex;\n",
              "      gap: 12px;\n",
              "    }\n",
              "\n",
              "    .colab-df-convert {\n",
              "      background-color: #E8F0FE;\n",
              "      border: none;\n",
              "      border-radius: 50%;\n",
              "      cursor: pointer;\n",
              "      display: none;\n",
              "      fill: #1967D2;\n",
              "      height: 32px;\n",
              "      padding: 0 0 0 0;\n",
              "      width: 32px;\n",
              "    }\n",
              "\n",
              "    .colab-df-convert:hover {\n",
              "      background-color: #E2EBFA;\n",
              "      box-shadow: 0px 1px 2px rgba(60, 64, 67, 0.3), 0px 1px 3px 1px rgba(60, 64, 67, 0.15);\n",
              "      fill: #174EA6;\n",
              "    }\n",
              "\n",
              "    .colab-df-buttons div {\n",
              "      margin-bottom: 4px;\n",
              "    }\n",
              "\n",
              "    [theme=dark] .colab-df-convert {\n",
              "      background-color: #3B4455;\n",
              "      fill: #D2E3FC;\n",
              "    }\n",
              "\n",
              "    [theme=dark] .colab-df-convert:hover {\n",
              "      background-color: #434B5C;\n",
              "      box-shadow: 0px 1px 3px 1px rgba(0, 0, 0, 0.15);\n",
              "      filter: drop-shadow(0px 1px 2px rgba(0, 0, 0, 0.3));\n",
              "      fill: #FFFFFF;\n",
              "    }\n",
              "  </style>\n",
              "\n",
              "    <script>\n",
              "      const buttonEl =\n",
              "        document.querySelector('#df-c760c707-c756-441e-a314-3399252b0647 button.colab-df-convert');\n",
              "      buttonEl.style.display =\n",
              "        google.colab.kernel.accessAllowed ? 'block' : 'none';\n",
              "\n",
              "      async function convertToInteractive(key) {\n",
              "        const element = document.querySelector('#df-c760c707-c756-441e-a314-3399252b0647');\n",
              "        const dataTable =\n",
              "          await google.colab.kernel.invokeFunction('convertToInteractive',\n",
              "                                                    [key], {});\n",
              "        if (!dataTable) return;\n",
              "\n",
              "        const docLinkHtml = 'Like what you see? Visit the ' +\n",
              "          '<a target=\"_blank\" href=https://colab.research.google.com/notebooks/data_table.ipynb>data table notebook</a>'\n",
              "          + ' to learn more about interactive tables.';\n",
              "        element.innerHTML = '';\n",
              "        dataTable['output_type'] = 'display_data';\n",
              "        await google.colab.output.renderOutput(dataTable, element);\n",
              "        const docLink = document.createElement('div');\n",
              "        docLink.innerHTML = docLinkHtml;\n",
              "        element.appendChild(docLink);\n",
              "      }\n",
              "    </script>\n",
              "  </div>\n",
              "\n",
              "\n",
              "<div id=\"df-557444d2-a496-4b5d-a9f7-dc1a008fcc35\">\n",
              "  <button class=\"colab-df-quickchart\" onclick=\"quickchart('df-557444d2-a496-4b5d-a9f7-dc1a008fcc35')\"\n",
              "            title=\"Suggest charts\"\n",
              "            style=\"display:none;\">\n",
              "\n",
              "<svg xmlns=\"http://www.w3.org/2000/svg\" height=\"24px\"viewBox=\"0 0 24 24\"\n",
              "     width=\"24px\">\n",
              "    <g>\n",
              "        <path d=\"M19 3H5c-1.1 0-2 .9-2 2v14c0 1.1.9 2 2 2h14c1.1 0 2-.9 2-2V5c0-1.1-.9-2-2-2zM9 17H7v-7h2v7zm4 0h-2V7h2v10zm4 0h-2v-4h2v4z\"/>\n",
              "    </g>\n",
              "</svg>\n",
              "  </button>\n",
              "\n",
              "<style>\n",
              "  .colab-df-quickchart {\n",
              "      --bg-color: #E8F0FE;\n",
              "      --fill-color: #1967D2;\n",
              "      --hover-bg-color: #E2EBFA;\n",
              "      --hover-fill-color: #174EA6;\n",
              "      --disabled-fill-color: #AAA;\n",
              "      --disabled-bg-color: #DDD;\n",
              "  }\n",
              "\n",
              "  [theme=dark] .colab-df-quickchart {\n",
              "      --bg-color: #3B4455;\n",
              "      --fill-color: #D2E3FC;\n",
              "      --hover-bg-color: #434B5C;\n",
              "      --hover-fill-color: #FFFFFF;\n",
              "      --disabled-bg-color: #3B4455;\n",
              "      --disabled-fill-color: #666;\n",
              "  }\n",
              "\n",
              "  .colab-df-quickchart {\n",
              "    background-color: var(--bg-color);\n",
              "    border: none;\n",
              "    border-radius: 50%;\n",
              "    cursor: pointer;\n",
              "    display: none;\n",
              "    fill: var(--fill-color);\n",
              "    height: 32px;\n",
              "    padding: 0;\n",
              "    width: 32px;\n",
              "  }\n",
              "\n",
              "  .colab-df-quickchart:hover {\n",
              "    background-color: var(--hover-bg-color);\n",
              "    box-shadow: 0 1px 2px rgba(60, 64, 67, 0.3), 0 1px 3px 1px rgba(60, 64, 67, 0.15);\n",
              "    fill: var(--button-hover-fill-color);\n",
              "  }\n",
              "\n",
              "  .colab-df-quickchart-complete:disabled,\n",
              "  .colab-df-quickchart-complete:disabled:hover {\n",
              "    background-color: var(--disabled-bg-color);\n",
              "    fill: var(--disabled-fill-color);\n",
              "    box-shadow: none;\n",
              "  }\n",
              "\n",
              "  .colab-df-spinner {\n",
              "    border: 2px solid var(--fill-color);\n",
              "    border-color: transparent;\n",
              "    border-bottom-color: var(--fill-color);\n",
              "    animation:\n",
              "      spin 1s steps(1) infinite;\n",
              "  }\n",
              "\n",
              "  @keyframes spin {\n",
              "    0% {\n",
              "      border-color: transparent;\n",
              "      border-bottom-color: var(--fill-color);\n",
              "      border-left-color: var(--fill-color);\n",
              "    }\n",
              "    20% {\n",
              "      border-color: transparent;\n",
              "      border-left-color: var(--fill-color);\n",
              "      border-top-color: var(--fill-color);\n",
              "    }\n",
              "    30% {\n",
              "      border-color: transparent;\n",
              "      border-left-color: var(--fill-color);\n",
              "      border-top-color: var(--fill-color);\n",
              "      border-right-color: var(--fill-color);\n",
              "    }\n",
              "    40% {\n",
              "      border-color: transparent;\n",
              "      border-right-color: var(--fill-color);\n",
              "      border-top-color: var(--fill-color);\n",
              "    }\n",
              "    60% {\n",
              "      border-color: transparent;\n",
              "      border-right-color: var(--fill-color);\n",
              "    }\n",
              "    80% {\n",
              "      border-color: transparent;\n",
              "      border-right-color: var(--fill-color);\n",
              "      border-bottom-color: var(--fill-color);\n",
              "    }\n",
              "    90% {\n",
              "      border-color: transparent;\n",
              "      border-bottom-color: var(--fill-color);\n",
              "    }\n",
              "  }\n",
              "</style>\n",
              "\n",
              "  <script>\n",
              "    async function quickchart(key) {\n",
              "      const quickchartButtonEl =\n",
              "        document.querySelector('#' + key + ' button');\n",
              "      quickchartButtonEl.disabled = true;  // To prevent multiple clicks.\n",
              "      quickchartButtonEl.classList.add('colab-df-spinner');\n",
              "      try {\n",
              "        const charts = await google.colab.kernel.invokeFunction(\n",
              "            'suggestCharts', [key], {});\n",
              "      } catch (error) {\n",
              "        console.error('Error during call to suggestCharts:', error);\n",
              "      }\n",
              "      quickchartButtonEl.classList.remove('colab-df-spinner');\n",
              "      quickchartButtonEl.classList.add('colab-df-quickchart-complete');\n",
              "    }\n",
              "    (() => {\n",
              "      let quickchartButtonEl =\n",
              "        document.querySelector('#df-557444d2-a496-4b5d-a9f7-dc1a008fcc35 button');\n",
              "      quickchartButtonEl.style.display =\n",
              "        google.colab.kernel.accessAllowed ? 'block' : 'none';\n",
              "    })();\n",
              "  </script>\n",
              "</div>\n",
              "\n",
              "    </div>\n",
              "  </div>\n"
            ],
            "application/vnd.google.colaboratory.intrinsic+json": {
              "type": "dataframe",
              "variable_name": "news_data",
              "summary": "{\n  \"name\": \"news_data\",\n  \"rows\": 9883,\n  \"fields\": [\n    {\n      \"column\": \"id\",\n      \"properties\": {\n        \"dtype\": \"number\",\n        \"std\": 2853,\n        \"min\": 0,\n        \"max\": 9882,\n        \"num_unique_values\": 9883,\n        \"samples\": [\n          4169,\n          5805,\n          3023\n        ],\n        \"semantic_type\": \"\",\n        \"description\": \"\"\n      }\n    },\n    {\n      \"column\": \"title\",\n      \"properties\": {\n        \"dtype\": \"string\",\n        \"num_unique_values\": 9504,\n        \"samples\": [\n          \"DONALD TRUMP attorney searching for homeless woman who was attacked by Clinton supporters for guarding Trump\\u2019s star on the Hollywood Walk of Fame\",\n          \"Wham! Italy Pummeled by 10 Earthquakes in Four Hours\",\n          \"Over 500 Russian and Egyptian Troops Train to Kill Terrorists (Photos) - Boris Egorov - Russia News Now\"\n        ],\n        \"semantic_type\": \"\",\n        \"description\": \"\"\n      }\n    },\n    {\n      \"column\": \"author\",\n      \"properties\": {\n        \"dtype\": \"category\",\n        \"num_unique_values\": 2647,\n        \"samples\": [\n          \"Sharon Otterman\",\n          \"Ellen Brodsky\",\n          \"Eric Lipton and Adam Liptak\"\n        ],\n        \"semantic_type\": \"\",\n        \"description\": \"\"\n      }\n    },\n    {\n      \"column\": \"text\",\n      \"properties\": {\n        \"dtype\": \"string\",\n        \"num_unique_values\": 9728,\n        \"samples\": [\n          \"Spike Lee has some explaining to do. [Three days after the leftist filmmaker, and avowed Kaepernick supporter, took to Instagram to thank Seahawks head coach Pete Carroll for signing Colin Kaepernick, a report has emerged that the Seahawks in fact have no intention of signing Colin Kaepernick.  According to Pro Football Talk, \\u201cPat Kirwan of SiriusXM NFL Radio said today that he doesn\\u2019t expect the Seahawks to sign Kaepernick. That\\u2019s particularly noteworthy because Kirwan has a long and close relationship with Seahawks coach Pete Carroll, dating to their time together when Carroll was defensive coordinator and then head coach of the Jets from 1990 to 1994. Kirwan didn\\u2019t say Carroll was the source of his belief that Kaepernick won\\u2019t be a Seahawk, but it seems unlikely that Kirwan would have bad information about the team his old friend coaches. \\u201d Seattle, much like San Francisco, is one of the biggest liberal outposts on the left coast. Considering the activism of players like Doug Baldwin, and the fact that Pete Carroll himself is a   truther and an Iraq war critic to boot, if Seattle ever truly had interest in Kaepernick it\\u2019s unlikely that interest would have evaporated over Kaepernick\\u2019s politics or because of a perceived backlash over his politics. What\\u2019s more likely is that Kaepernick and the Seahawks couldn\\u2019t agree on financial terms. Seattle doesn\\u2019t have a ton of cap space and Kaepernick probably doesn\\u2019t want to play for the veteran minimum, especially considering that he could likely find himself in a much more powerful financial bargaining position later, should a team lose a starter and all of a sudden become desperate for a starting quarterback. Follow Dylan Gwinn on Twitter: @themightygwinn\",\n          \"A single concussion experienced by a child or teenager may have lasting repercussions on mental health and intellectual and physical functioning throughout adulthood, and multiple head injuries increase the risks of later problems, according to one of the largest, most elaborate studies to date of the impacts of head trauma on the young. You cannot be an athlete, parent of an athlete, sports fan or reader of this newspaper and not be aware that concussions appear to be both more common  \\u2014   and more dangerous  \\u2014   than most of us once thought. According to a report released last week by the health insurer Blue Cross Blue Shield, based on data from medical claims nationwide, the incidence of diagnosed concussions among people under the age of 20 climbed 71 percent between 2010 and 2015. The rates rose most steeply among girls, with the incidence soaring by 119 percent during that time, although almost twice as many concussions over all were diagnosed in boys. The report acknowledges that the startling increase may partly reflect a growing awareness of the injury among parents, sports officials and physicians, which has led to more diagnoses. But the sheer numbers also suggest that more young people, particularly young athletes, are experiencing head injuries than in the past. Similar increases have been noted among young people in other nations. But the consequences, if any, for their health during adulthood have largely remained unknown. So for the new study, which was funded primarily by the Wellcome Trust and published in August in PLOS Medicine, scientists from Oxford University, Indiana University, the Karolinska Institute in Stockholm and other universities turned to an extensive trove of data about the health of people in Sweden. A plethora of linked registries in that nation contain information about people\\u2019s medical and hospital visits, socioeconomic status, education, physical disabilities and other aspects of their lives, says Dr. Seena Fazel, a professor of forensic psychiatry at Oxford and the new study\\u2019s senior author. The registries also allow researchers to compile information about family members. In this case, the scientists concentrated on all Swedes born between 1973 and 1985 and looked for those who had experienced a head injury of some kind before the age of 25. More than 104, 000 people qualified. The researchers pulled data about these people for 40 years or until someone had either died or emigrated from Sweden. For each participant, the researchers also compiled comparable medical and other records for a sibling who had never been given a diagnosis of a head injury and compared outcomes both between family members and against the full population of the country. The results were discomfiting. Young people who had experienced a single diagnosed concussion  \\u2014   which the researchers categorized as a mild traumatic brain injury  \\u2014   were much more likely than the nation\\u2019s general population and than their own siblings to be receiving medical disability payments as adults. They also were significantly more likely to have sought mental health care and much less likely to have graduated from high school or to have attended college than their uninjured brother or sister. And they were about twice as likely as an uninjured sibling to die prematurely. The possibility of lingering physical or psychological problems during adulthood rose precipitously, the researchers found, if someone had experienced more than one concussion while young, or if his or her brain injury had been more severe than a concussion. The outcomes also generally were worse if someone had experienced head trauma after the age of 15, probably because the brain is less resilient than in earlier childhood, Dr. Fazel says. (The researchers did not quantify the causes of the injuries in this study, but past research shows that in the very young, he says, brain injuries usually result from falls, with sports becoming the primary cause in teenagers, and auto accidents the main cause among young adults.) There was, thankfully, encouraging news squirreled away within the data. While young people who had been hit in the head displayed heightened risks for physical and psychological difficulties as adults, most, in fact, were fine. \\u201cThe majority of individuals who had diagnoses of brain injury in our study did not experience adverse outcomes,\\u201d Dr. Fazel says. Unfortunately, it is impossible at the moment to identify which children or teenagers who experience head trauma may be most at risk of struggling in later life and which will instead recover without apparent complications, he says. So the message of this study further underscores that, whenever possible, we should take steps to prevent childhood head injuries. While \\u201cthere are lots of benefits from sports,\\u201d Dr. Fazel says, it may be important to consider changes to the rules or equipment in contact sports, like football and soccer, to try to reduce head trauma. If a young person does suffer head trauma, he continues, more and   monitoring is also probably a good idea. Such monitoring may be especially important if the child shows any signs of \\u201ca decline in psychosocial performance,\\u201d he says, such as a drop in grades or a change, even subtle, in personality. A neurologist can provide useful assessments, and regular   neurological assessments may need to be continued, even into adulthood.\",\n          \"(Want to get this briefing by email? Here\\u2019s the  .) Good evening. Here\\u2019s the latest. 1. Hillary Clinton\\u2019s diagnosis of pneumonia has grounded her for a few days and shifted the focus of the presidential race to the candidates\\u2019 health. Mrs. Clinton, 68, and Donald Trump, 70, have promised to release more detailed information from their doctors. The issue isn\\u2019t just their state of vigor but whether they operate with more insularity than transparency. Mr. Trump also demanded that Mrs. Clinton apologize for calling some of his supporters \\u201cdeplorables\\u201d and released an ad showcasing the remarks on national cable and in four battleground states. _____ 2. President Obama will veto a bill that would allow the families of victims of the Sept. 11, 2001, attacks to sue Saudi Arabia for any role in the plot, the White House said. Since both the House and Senate passed the legislation with majorities, the president could face the first veto override of his presidency. He also met with congressional leaders, above, to discuss measures needed to finance the government after the fiscal year ends on Sept. 30, since lawmakers have not agreed on a budget. _____ 3. The U. N. secretary general, Ban   is racing to get the Paris climate agreement into effect  \\u2014   possibly even before the U. S. election. The pact goes into force when 55 countries representing at least 55 percent of global emissions formally sign on, conditions that are more than halfway met. The world\\u2019s three largest emitters  \\u2014   the U. S. China, above and Brazil  \\u2014   are on board. This year is shaping up to be the third consecutive hottest on record, and some scientists warn that the oceans\\u2019 ability to absorb excess heat has masked the scale of the problem. These graphics lay out the issues. _____ 4. The N. C. A. A. made a surprise announcement: All its championships are being moved from North Carolina for this academic year because the state passed laws the group said violated the civil rights of lesbian, gay, bisexual and transgender people. The N. B. A. already moved next February\\u2019s   Game from Charlotte, and stars like Bruce Springsteen and Itzhak Perlman have canceled concerts in the state. _____ 5. Florida\\u2019s offer of free Zika testing for pregnant women has increased rather than decreased their anxieties. That\\u2019s because so many responded that state labs are overwhelmed, and the wait for results can stretch to six weeks, complicating already difficult decisions about possibly terminating pregnancies. Above, workers went door to door to take blood samples. _____ 6. Colin Kaepernick, above right, and his teammate Eric Reid knelt during the national anthem before the San Francisco 49ers played their first game of the season against the Los Angeles Rams (10:20 p. m. Eastern, ESPN). Kaepernick\\u2019s refusal to stand for the anthem to protest racial injustice has emboldened players on other teams  \\u2014   and in other sports  \\u2014   to make their own symbolic gestures of dissent. Such moves have been rare, in part because athletes are often preoccupied with team morale and financial and branding issues. _____ 7. If you\\u2019re forever playing   our television experts can speed you along. Their list of the best shows that emerged over the summer includes some of contenders for Emmys on Sunday, including the documentary series \\u201cO. J.: Made in America\\u201d (ESPN). There\\u2019s also \\u201cStranger Things,\\u201d above, an oddly straightforward horror story set in 1983. Our experts also suggest a few newbies, like Amazon\\u2019s promising pilots \\u201cI Love Dick\\u201d and the reboot of \\u201cThe Tick. \\u201d _____ 8. Feel whipsawed by the shift in the last few years from demonizing fat for health problems to blaming sugar? Historical documents discovered by a researcher show that the sugar industry paid several Harvard scientists in the 1960s to play down the link between sugar and heart disease and promote saturated fat as the culprit instead. \\u201cThey were able to derail the discussion about sugar for decades,\\u201d said a medical professor who helped bring the case to light. _____ 9. The Syrian   called for in an agreement by the U. S. and Russia had an uneven start. Violations were reported in the north and south of the country shortly after it went into effect. The timing coincided with Eid   the Muslim Feast of the Sacrifice, which commemorates a story central to Judaism, Christianity and Islam: Abraham\\u2019s willingness to sacrifice his son at God\\u2019s behest. One Syrian activist, pessimistic that the   would make any difference in the conflict, posted on Facebook: \\u201cand they gathered like sheep in front of the guillotine. \\u201d _____ 10. Millions of people are flowing over   paths in Saudi Arabia for the annual hajj. One of them is our Mideast reporter Diaa Hadid, and she\\u2019s sending dispatches, videos and photos to help demystify the pilgrimage for  . There are little prayer counters, like spiritual Fitbits shopping sprees ritual haircuts and moments of great kindness, like being sprayed under a sweltering sun with the last ounces of water from strangers\\u2019 bottles. _____ 11. Finally, this may hearten many Medicare beneficiaries: Claims for skilled nursing, home health care or outpatient therapy are not supposed to be rejected just because a patient has ceased to improve. In fact, a federal judge has ordered supervisors to do a better job of making that clear to health care providers and claims adjudicators. The actual rule is that Medicare must approve such services when they are \\u201cnecessary to maintain the patient\\u2019s current condition or prevent or slow further deterioration. \\u201d _____ Your Evening Briefing is posted at 6 p. m. Eastern. And don\\u2019t miss Your Morning Briefing, posted weekdays at 6 a. m. Eastern, and Your Weekend Briefing, posted at 6 a. m. Sundays. Want to look back? Here\\u2019s the Weekend Briefing. What did you like? What do you want to see here? Let us know at briefing@nytimes. com.\"\n        ],\n        \"semantic_type\": \"\",\n        \"description\": \"\"\n      }\n    },\n    {\n      \"column\": \"label\",\n      \"properties\": {\n        \"dtype\": \"number\",\n        \"std\": 0,\n        \"min\": 0,\n        \"max\": 1,\n        \"num_unique_values\": 2,\n        \"samples\": [\n          0,\n          1\n        ],\n        \"semantic_type\": \"\",\n        \"description\": \"\"\n      }\n    }\n  ]\n}"
            }
          },
          "metadata": {},
          "execution_count": 11
        }
      ]
    },
    {
      "cell_type": "markdown",
      "source": [
        "0--> real news\n",
        "\n",
        "1--> fake news"
      ],
      "metadata": {
        "id": "wrfOum8DW4Di"
      }
    },
    {
      "cell_type": "code",
      "source": [
        "news_data.shape"
      ],
      "metadata": {
        "colab": {
          "base_uri": "https://localhost:8080/"
        },
        "id": "JEch9RxRXBmT",
        "outputId": "b6ba7dff-fa43-4a0c-822f-994714c1b00f"
      },
      "execution_count": null,
      "outputs": [
        {
          "output_type": "execute_result",
          "data": {
            "text/plain": [
              "(9883, 5)"
            ]
          },
          "metadata": {},
          "execution_count": 12
        }
      ]
    },
    {
      "cell_type": "code",
      "source": [
        "# checking for missing values\n",
        "news_data.isnull().sum()"
      ],
      "metadata": {
        "colab": {
          "base_uri": "https://localhost:8080/",
          "height": 241
        },
        "id": "JFysreC9XacE",
        "outputId": "da8606d6-b11b-4727-f106-6f6cfe78613b"
      },
      "execution_count": null,
      "outputs": [
        {
          "output_type": "execute_result",
          "data": {
            "text/plain": [
              "id          0\n",
              "title     269\n",
              "author    934\n",
              "text       21\n",
              "label       0\n",
              "dtype: int64"
            ],
            "text/html": [
              "<div>\n",
              "<style scoped>\n",
              "    .dataframe tbody tr th:only-of-type {\n",
              "        vertical-align: middle;\n",
              "    }\n",
              "\n",
              "    .dataframe tbody tr th {\n",
              "        vertical-align: top;\n",
              "    }\n",
              "\n",
              "    .dataframe thead th {\n",
              "        text-align: right;\n",
              "    }\n",
              "</style>\n",
              "<table border=\"1\" class=\"dataframe\">\n",
              "  <thead>\n",
              "    <tr style=\"text-align: right;\">\n",
              "      <th></th>\n",
              "      <th>0</th>\n",
              "    </tr>\n",
              "  </thead>\n",
              "  <tbody>\n",
              "    <tr>\n",
              "      <th>id</th>\n",
              "      <td>0</td>\n",
              "    </tr>\n",
              "    <tr>\n",
              "      <th>title</th>\n",
              "      <td>269</td>\n",
              "    </tr>\n",
              "    <tr>\n",
              "      <th>author</th>\n",
              "      <td>934</td>\n",
              "    </tr>\n",
              "    <tr>\n",
              "      <th>text</th>\n",
              "      <td>21</td>\n",
              "    </tr>\n",
              "    <tr>\n",
              "      <th>label</th>\n",
              "      <td>0</td>\n",
              "    </tr>\n",
              "  </tbody>\n",
              "</table>\n",
              "</div><br><label><b>dtype:</b> int64</label>"
            ]
          },
          "metadata": {},
          "execution_count": 13
        }
      ]
    },
    {
      "cell_type": "code",
      "source": [
        "#replacing the missing values with null string\n",
        "news_data=news_data.fillna('')"
      ],
      "metadata": {
        "id": "GFPWov7IYQBG"
      },
      "execution_count": null,
      "outputs": []
    },
    {
      "cell_type": "code",
      "source": [
        "#merging the author name and news title\n",
        "news_data['content']=news_data['author']+' '+news_data['title']"
      ],
      "metadata": {
        "id": "-aNWipRLZp6Y"
      },
      "execution_count": null,
      "outputs": []
    },
    {
      "cell_type": "code",
      "source": [
        "news_data.head()"
      ],
      "metadata": {
        "colab": {
          "base_uri": "https://localhost:8080/",
          "height": 605
        },
        "id": "k_pQCFjFW8ke",
        "outputId": "2997bc1f-8d66-4a6e-a4f8-557d427ea347"
      },
      "execution_count": null,
      "outputs": [
        {
          "output_type": "execute_result",
          "data": {
            "text/plain": [
              "  id                                              title              author  \\\n",
              "0  0  House Dem Aide: We Didn’t Even See Comey’s Let...       Darrell Lucus   \n",
              "1  1  FLYNN: Hillary Clinton, Big Woman on Campus - ...     Daniel J. Flynn   \n",
              "2  2                  Why the Truth Might Get You Fired  Consortiumnews.com   \n",
              "3  3  15 Civilians Killed In Single US Airstrike Hav...     Jessica Purkiss   \n",
              "4  4  Iranian woman jailed for fictional unpublished...      Howard Portnoy   \n",
              "\n",
              "                                                text label  \\\n",
              "0  House Dem Aide: We Didn’t Even See Comey’s Let...     1   \n",
              "1  Ever get the feeling your life circles the rou...     0   \n",
              "2  Why the Truth Might Get You Fired October 29, ...     1   \n",
              "3  Videos 15 Civilians Killed In Single US Airstr...     1   \n",
              "4  Print \\nAn Iranian woman has been sentenced to...     1   \n",
              "\n",
              "                                             content  \n",
              "0  Darrell Lucus House Dem Aide: We Didn’t Even S...  \n",
              "1  Daniel J. Flynn FLYNN: Hillary Clinton, Big Wo...  \n",
              "2  Consortiumnews.com Why the Truth Might Get You...  \n",
              "3  Jessica Purkiss 15 Civilians Killed In Single ...  \n",
              "4  Howard Portnoy Iranian woman jailed for fictio...  "
            ],
            "text/html": [
              "\n",
              "  <div id=\"df-264955d9-d1fc-40ef-8a29-4b0b6f852fb3\" class=\"colab-df-container\">\n",
              "    <div>\n",
              "<style scoped>\n",
              "    .dataframe tbody tr th:only-of-type {\n",
              "        vertical-align: middle;\n",
              "    }\n",
              "\n",
              "    .dataframe tbody tr th {\n",
              "        vertical-align: top;\n",
              "    }\n",
              "\n",
              "    .dataframe thead th {\n",
              "        text-align: right;\n",
              "    }\n",
              "</style>\n",
              "<table border=\"1\" class=\"dataframe\">\n",
              "  <thead>\n",
              "    <tr style=\"text-align: right;\">\n",
              "      <th></th>\n",
              "      <th>id</th>\n",
              "      <th>title</th>\n",
              "      <th>author</th>\n",
              "      <th>text</th>\n",
              "      <th>label</th>\n",
              "      <th>content</th>\n",
              "    </tr>\n",
              "  </thead>\n",
              "  <tbody>\n",
              "    <tr>\n",
              "      <th>0</th>\n",
              "      <td>0</td>\n",
              "      <td>House Dem Aide: We Didn’t Even See Comey’s Let...</td>\n",
              "      <td>Darrell Lucus</td>\n",
              "      <td>House Dem Aide: We Didn’t Even See Comey’s Let...</td>\n",
              "      <td>1</td>\n",
              "      <td>Darrell Lucus House Dem Aide: We Didn’t Even S...</td>\n",
              "    </tr>\n",
              "    <tr>\n",
              "      <th>1</th>\n",
              "      <td>1</td>\n",
              "      <td>FLYNN: Hillary Clinton, Big Woman on Campus - ...</td>\n",
              "      <td>Daniel J. Flynn</td>\n",
              "      <td>Ever get the feeling your life circles the rou...</td>\n",
              "      <td>0</td>\n",
              "      <td>Daniel J. Flynn FLYNN: Hillary Clinton, Big Wo...</td>\n",
              "    </tr>\n",
              "    <tr>\n",
              "      <th>2</th>\n",
              "      <td>2</td>\n",
              "      <td>Why the Truth Might Get You Fired</td>\n",
              "      <td>Consortiumnews.com</td>\n",
              "      <td>Why the Truth Might Get You Fired October 29, ...</td>\n",
              "      <td>1</td>\n",
              "      <td>Consortiumnews.com Why the Truth Might Get You...</td>\n",
              "    </tr>\n",
              "    <tr>\n",
              "      <th>3</th>\n",
              "      <td>3</td>\n",
              "      <td>15 Civilians Killed In Single US Airstrike Hav...</td>\n",
              "      <td>Jessica Purkiss</td>\n",
              "      <td>Videos 15 Civilians Killed In Single US Airstr...</td>\n",
              "      <td>1</td>\n",
              "      <td>Jessica Purkiss 15 Civilians Killed In Single ...</td>\n",
              "    </tr>\n",
              "    <tr>\n",
              "      <th>4</th>\n",
              "      <td>4</td>\n",
              "      <td>Iranian woman jailed for fictional unpublished...</td>\n",
              "      <td>Howard Portnoy</td>\n",
              "      <td>Print \\nAn Iranian woman has been sentenced to...</td>\n",
              "      <td>1</td>\n",
              "      <td>Howard Portnoy Iranian woman jailed for fictio...</td>\n",
              "    </tr>\n",
              "  </tbody>\n",
              "</table>\n",
              "</div>\n",
              "    <div class=\"colab-df-buttons\">\n",
              "\n",
              "  <div class=\"colab-df-container\">\n",
              "    <button class=\"colab-df-convert\" onclick=\"convertToInteractive('df-264955d9-d1fc-40ef-8a29-4b0b6f852fb3')\"\n",
              "            title=\"Convert this dataframe to an interactive table.\"\n",
              "            style=\"display:none;\">\n",
              "\n",
              "  <svg xmlns=\"http://www.w3.org/2000/svg\" height=\"24px\" viewBox=\"0 -960 960 960\">\n",
              "    <path d=\"M120-120v-720h720v720H120Zm60-500h600v-160H180v160Zm220 220h160v-160H400v160Zm0 220h160v-160H400v160ZM180-400h160v-160H180v160Zm440 0h160v-160H620v160ZM180-180h160v-160H180v160Zm440 0h160v-160H620v160Z\"/>\n",
              "  </svg>\n",
              "    </button>\n",
              "\n",
              "  <style>\n",
              "    .colab-df-container {\n",
              "      display:flex;\n",
              "      gap: 12px;\n",
              "    }\n",
              "\n",
              "    .colab-df-convert {\n",
              "      background-color: #E8F0FE;\n",
              "      border: none;\n",
              "      border-radius: 50%;\n",
              "      cursor: pointer;\n",
              "      display: none;\n",
              "      fill: #1967D2;\n",
              "      height: 32px;\n",
              "      padding: 0 0 0 0;\n",
              "      width: 32px;\n",
              "    }\n",
              "\n",
              "    .colab-df-convert:hover {\n",
              "      background-color: #E2EBFA;\n",
              "      box-shadow: 0px 1px 2px rgba(60, 64, 67, 0.3), 0px 1px 3px 1px rgba(60, 64, 67, 0.15);\n",
              "      fill: #174EA6;\n",
              "    }\n",
              "\n",
              "    .colab-df-buttons div {\n",
              "      margin-bottom: 4px;\n",
              "    }\n",
              "\n",
              "    [theme=dark] .colab-df-convert {\n",
              "      background-color: #3B4455;\n",
              "      fill: #D2E3FC;\n",
              "    }\n",
              "\n",
              "    [theme=dark] .colab-df-convert:hover {\n",
              "      background-color: #434B5C;\n",
              "      box-shadow: 0px 1px 3px 1px rgba(0, 0, 0, 0.15);\n",
              "      filter: drop-shadow(0px 1px 2px rgba(0, 0, 0, 0.3));\n",
              "      fill: #FFFFFF;\n",
              "    }\n",
              "  </style>\n",
              "\n",
              "    <script>\n",
              "      const buttonEl =\n",
              "        document.querySelector('#df-264955d9-d1fc-40ef-8a29-4b0b6f852fb3 button.colab-df-convert');\n",
              "      buttonEl.style.display =\n",
              "        google.colab.kernel.accessAllowed ? 'block' : 'none';\n",
              "\n",
              "      async function convertToInteractive(key) {\n",
              "        const element = document.querySelector('#df-264955d9-d1fc-40ef-8a29-4b0b6f852fb3');\n",
              "        const dataTable =\n",
              "          await google.colab.kernel.invokeFunction('convertToInteractive',\n",
              "                                                    [key], {});\n",
              "        if (!dataTable) return;\n",
              "\n",
              "        const docLinkHtml = 'Like what you see? Visit the ' +\n",
              "          '<a target=\"_blank\" href=https://colab.research.google.com/notebooks/data_table.ipynb>data table notebook</a>'\n",
              "          + ' to learn more about interactive tables.';\n",
              "        element.innerHTML = '';\n",
              "        dataTable['output_type'] = 'display_data';\n",
              "        await google.colab.output.renderOutput(dataTable, element);\n",
              "        const docLink = document.createElement('div');\n",
              "        docLink.innerHTML = docLinkHtml;\n",
              "        element.appendChild(docLink);\n",
              "      }\n",
              "    </script>\n",
              "  </div>\n",
              "\n",
              "\n",
              "<div id=\"df-363db368-d6d9-4605-9006-aad48a254b3a\">\n",
              "  <button class=\"colab-df-quickchart\" onclick=\"quickchart('df-363db368-d6d9-4605-9006-aad48a254b3a')\"\n",
              "            title=\"Suggest charts\"\n",
              "            style=\"display:none;\">\n",
              "\n",
              "<svg xmlns=\"http://www.w3.org/2000/svg\" height=\"24px\"viewBox=\"0 0 24 24\"\n",
              "     width=\"24px\">\n",
              "    <g>\n",
              "        <path d=\"M19 3H5c-1.1 0-2 .9-2 2v14c0 1.1.9 2 2 2h14c1.1 0 2-.9 2-2V5c0-1.1-.9-2-2-2zM9 17H7v-7h2v7zm4 0h-2V7h2v10zm4 0h-2v-4h2v4z\"/>\n",
              "    </g>\n",
              "</svg>\n",
              "  </button>\n",
              "\n",
              "<style>\n",
              "  .colab-df-quickchart {\n",
              "      --bg-color: #E8F0FE;\n",
              "      --fill-color: #1967D2;\n",
              "      --hover-bg-color: #E2EBFA;\n",
              "      --hover-fill-color: #174EA6;\n",
              "      --disabled-fill-color: #AAA;\n",
              "      --disabled-bg-color: #DDD;\n",
              "  }\n",
              "\n",
              "  [theme=dark] .colab-df-quickchart {\n",
              "      --bg-color: #3B4455;\n",
              "      --fill-color: #D2E3FC;\n",
              "      --hover-bg-color: #434B5C;\n",
              "      --hover-fill-color: #FFFFFF;\n",
              "      --disabled-bg-color: #3B4455;\n",
              "      --disabled-fill-color: #666;\n",
              "  }\n",
              "\n",
              "  .colab-df-quickchart {\n",
              "    background-color: var(--bg-color);\n",
              "    border: none;\n",
              "    border-radius: 50%;\n",
              "    cursor: pointer;\n",
              "    display: none;\n",
              "    fill: var(--fill-color);\n",
              "    height: 32px;\n",
              "    padding: 0;\n",
              "    width: 32px;\n",
              "  }\n",
              "\n",
              "  .colab-df-quickchart:hover {\n",
              "    background-color: var(--hover-bg-color);\n",
              "    box-shadow: 0 1px 2px rgba(60, 64, 67, 0.3), 0 1px 3px 1px rgba(60, 64, 67, 0.15);\n",
              "    fill: var(--button-hover-fill-color);\n",
              "  }\n",
              "\n",
              "  .colab-df-quickchart-complete:disabled,\n",
              "  .colab-df-quickchart-complete:disabled:hover {\n",
              "    background-color: var(--disabled-bg-color);\n",
              "    fill: var(--disabled-fill-color);\n",
              "    box-shadow: none;\n",
              "  }\n",
              "\n",
              "  .colab-df-spinner {\n",
              "    border: 2px solid var(--fill-color);\n",
              "    border-color: transparent;\n",
              "    border-bottom-color: var(--fill-color);\n",
              "    animation:\n",
              "      spin 1s steps(1) infinite;\n",
              "  }\n",
              "\n",
              "  @keyframes spin {\n",
              "    0% {\n",
              "      border-color: transparent;\n",
              "      border-bottom-color: var(--fill-color);\n",
              "      border-left-color: var(--fill-color);\n",
              "    }\n",
              "    20% {\n",
              "      border-color: transparent;\n",
              "      border-left-color: var(--fill-color);\n",
              "      border-top-color: var(--fill-color);\n",
              "    }\n",
              "    30% {\n",
              "      border-color: transparent;\n",
              "      border-left-color: var(--fill-color);\n",
              "      border-top-color: var(--fill-color);\n",
              "      border-right-color: var(--fill-color);\n",
              "    }\n",
              "    40% {\n",
              "      border-color: transparent;\n",
              "      border-right-color: var(--fill-color);\n",
              "      border-top-color: var(--fill-color);\n",
              "    }\n",
              "    60% {\n",
              "      border-color: transparent;\n",
              "      border-right-color: var(--fill-color);\n",
              "    }\n",
              "    80% {\n",
              "      border-color: transparent;\n",
              "      border-right-color: var(--fill-color);\n",
              "      border-bottom-color: var(--fill-color);\n",
              "    }\n",
              "    90% {\n",
              "      border-color: transparent;\n",
              "      border-bottom-color: var(--fill-color);\n",
              "    }\n",
              "  }\n",
              "</style>\n",
              "\n",
              "  <script>\n",
              "    async function quickchart(key) {\n",
              "      const quickchartButtonEl =\n",
              "        document.querySelector('#' + key + ' button');\n",
              "      quickchartButtonEl.disabled = true;  // To prevent multiple clicks.\n",
              "      quickchartButtonEl.classList.add('colab-df-spinner');\n",
              "      try {\n",
              "        const charts = await google.colab.kernel.invokeFunction(\n",
              "            'suggestCharts', [key], {});\n",
              "      } catch (error) {\n",
              "        console.error('Error during call to suggestCharts:', error);\n",
              "      }\n",
              "      quickchartButtonEl.classList.remove('colab-df-spinner');\n",
              "      quickchartButtonEl.classList.add('colab-df-quickchart-complete');\n",
              "    }\n",
              "    (() => {\n",
              "      let quickchartButtonEl =\n",
              "        document.querySelector('#df-363db368-d6d9-4605-9006-aad48a254b3a button');\n",
              "      quickchartButtonEl.style.display =\n",
              "        google.colab.kernel.accessAllowed ? 'block' : 'none';\n",
              "    })();\n",
              "  </script>\n",
              "</div>\n",
              "\n",
              "    </div>\n",
              "  </div>\n"
            ],
            "application/vnd.google.colaboratory.intrinsic+json": {
              "type": "dataframe",
              "variable_name": "news_data",
              "summary": "{\n  \"name\": \"news_data\",\n  \"rows\": 20821,\n  \"fields\": [\n    {\n      \"column\": \"id\",\n      \"properties\": {\n        \"dtype\": \"string\",\n        \"num_unique_values\": 20821,\n        \"samples\": [\n          \"2501\",\n          \"8619\",\n          \"16096\"\n        ],\n        \"semantic_type\": \"\",\n        \"description\": \"\"\n      }\n    },\n    {\n      \"column\": \"title\",\n      \"properties\": {\n        \"dtype\": \"string\",\n        \"num_unique_values\": 19817,\n        \"samples\": [\n          \"Donald Trump Embraces Wider Use of Stop-and-Frisk by Police - The New York Times\",\n          \"ICE Arrests 160 in Sweeping California Enforcement, Possibly More Across 6 States - Breitbart\",\n          \"Hollywood Celebrities Attack Donald Trump 15 Times at Oscars\"\n        ],\n        \"semantic_type\": \"\",\n        \"description\": \"\"\n      }\n    },\n    {\n      \"column\": \"author\",\n      \"properties\": {\n        \"dtype\": \"category\",\n        \"num_unique_values\": 4205,\n        \"samples\": [\n          \"Eric Schmitt\",\n          \"Maggie Haberman and Alan Rappeport\",\n          \"Sylvie Bigar\"\n        ],\n        \"semantic_type\": \"\",\n        \"description\": \"\"\n      }\n    },\n    {\n      \"column\": \"text\",\n      \"properties\": {\n        \"dtype\": \"string\",\n        \"num_unique_values\": 20388,\n        \"samples\": [\n          \"The great debate over what \\u201cnationalism\\u201d means will surely be filled by the closing passage of President Donald Trump\\u2019s inaugural speech:[A new national pride will stir ourselves, lift our sights and heal our divisions. It\\u2019s time to remember that old wisdom our soldiers will never forget, that whether we are black or brown or white, we all bleed the same red blood of patriots. We all enjoy the same glorious freedoms and we all salute the same great American flag. And whether a child is born in the urban sprawl of Detroit or the windswept plains of Nebraska, they look up at the same night sky, they fill their heart with the same dreams and they are infused with the breath of life by the same almighty creator. So to all Americans in every city near and far, small and large, from mountain to mountain, from ocean to ocean, hear these words: You will never be ignored again. Your voice, your hopes and your dreams will define our American destiny. And your courage and goodness and love will forever guide us along the way. Together we will make America strong again, we will make America wealthy again, we will make America proud again, we will make America safe again. And, yes, together we will make America great again. Trump\\u2019s inaugural address, reportedly written by chief strategist Stephen K. Bannon and senior advisor Stephen Miller, was criticized as aggressive, but it was largely an effort to explain what he meant by \\u201cMake America Great Again,\\u201d which is (thankfully!) a very aggressive idea. For an example of a passive campaign theme, try \\u201cHope and Change. \\u201d There is nothing more passive than lying around and hoping some Santa Claus politician comes along with a bag of other people\\u2019s money to fix your life.  Trump was also criticized for delivering an inaugural address that sounded too much like his campaign speeches. This was necessary, because the mainstream media didn\\u2019t relay enough of what he said on the stump. They were too busy freaking out over whatever \\u201coutrageous\\u201d thing he said at any given rally.  It was appropriate for Trump to succinctly explain his platform to the widest audience he\\u2019ll ever have, both within and beyond America\\u2019s borders, with no media filter. Until now, most of the media commentary on \\u201cMake America Great Again\\u201d consisted of whining about how unfair it was to the inexplicably   Barack Obama, mixed with the occasional lefty primal scream about how America was never great to begin with. Perhaps most importantly, Trump used his inaugural to beat down the asinine smear of \\u201cwhite nationalism. \\u201d His talk of national pride has been corrupted to mean unthinking national chauvinism by the Left. \\u201cAmerica first\\u201d is twisted to mean \\u201cscrew everybody but America\\u201d (or, in the hands of the more mendacious critics, \\u201cscrew the Jews. \\u201d) Then it gets twisted even further by welding the unspoken word \\u201cwhite\\u201d onto \\u201cnationalism,\\u201d transforming it into a racist call to arms. The number of actual white nationalists who talk about white nationalism is vastly smaller than the number of liberals who insist that\\u2019s what they hear when Trump talks about \\u201cAmerican pride. \\u201d Maybe it\\u2019s time for liberals to check in with their therapists and have a long talk about why they hear so many racist dog whistles. In his inaugural, Trump could not have been more clear about the inclusiveness of his vision for American pride. \\u201cWhether we are black or brown or white, we all bleed the same red blood of patriots\\u201d is about as clear as it gets.  Of course, the usual   media swamis will declare they\\u2019ve looked inside Trump\\u2019s mind, and he didn\\u2019t really mean that. He just threw those words in because Kellyanne told him he needed a little racism insurance. But everything about that speech, and everything Trump has said about resurgent American pride, and everything said by the people who want to reclaim nationalism from chauvinism, is inclusive. The point is to insist on both national priorities and national responsibilities, for everyone from   citizens at the immigration office to President Trump and his Cabinet.  The woman from Mexico who took her oath of citizenship yesterday is 100% American. The man from Mexico who slipped across the border in a coyote truck yesterday is not. President Trump has a long list of sacred duties to the woman, but not to the man. This is not a complicated idea, or a racist one, or really even a nationalist one. It\\u2019s Civics 101. It\\u2019s also the idea global socialism must strangle, in order to survive. Liberals who rail against \\u201cnationalism\\u201d are primarily interested in creating a world of zero accountability for their maximum leaders. With borders erased, the Ruling Class can hack the electorate to suit its political needs, and their business partners can slash the cost of labor. \\u201cInternationalist\\u201d leaders are accountable to no nation\\u2019s citizens. Trump\\u2019s inaugural address included a bold statement of the opposite principle. America\\u2019s president has neither control, nor responsibility, over the economies of other nations. He is responsible to Americans, from Nebraska to Detroit, as Trump put it. He set a very high bar for himself to clear by pointedly mentioning Detroit.  He also made a promise that no group will be preyed upon for the advantages of another. To be the president of all Americans means he is the sugar daddy of none. No more will the power of government be used to penalize groups the Left hates, and beat them into line with new social orthodoxies. No more will Washington dream up economic plans that benefit some, or even most, while designating certain \\u201cforgotten people\\u201d as lifetime losers who need to shut up and accept their fate.  Trump referred to \\u201cwealth\\u201d several times in his speech. \\u201cWealth\\u201d means more than just money. Wealth benefits all, no matter how loudly socialists may screech about too much of it accruing to the One Percent. Some people got very rich by designing, building, and selling the device you\\u2019re staring at right now. You are wealthier than your grandparents, because you have it. As for a proud America\\u2019s proper relationship with other nations, Trump said: We will seek friendship and goodwill with the nations of the world, but we do so with the understanding that it is the right of all nations to put their own interests first. We do not seek to impose our way of life on anyone, but rather to let it shine as an example. We will shine for everyone to follow. That\\u2019s not chauvinism, or imperialism. That\\u2019s the understanding America was founded upon. When Thomas Jefferson took his turn at the presidential bat, he called for \\u201cpeace, commerce, and honest friendship with all nations, entangling alliances with none. \\u201d No one interpreted that to mean \\u201cto Hell with the rest of the world. \\u201d Also, not to put too fine a point on it, but just about every other nation on Earth understands the concept of putting its own interests first, and believes it has a moral obligation to do so. The leaders of some other nations are very good at murmuring sweet globalist nothings into the ears of   elites, but what they actually do is ruthlessly pursue their own national interests. The charade is made much easier for them by the universal understanding that America is supposed to be the one country that never gets to look out for itself, that has no moral right to protect its own interests. Those are all much easier promises to make than keep, to be sure, but Trump did make them. It is wise to be skeptical, and hold his feet to the very large fire he built with that inaugural address.\",\n          \"By Brig Asif H. Raja on November 1, 2016 \\nAsif Haroon Raja \\nThe ISI had developed its long arm capability during the tenures of Gen Akhtar Abdur Rehman, Lt Gen Hamid Gul (VT editor) and Lt Gen Javed Nasir as DG ISI. It was owing to this capability of hitting the chosen target outside the frontiers of Pakistan that the ISI earned the reputation of a dreaded outfit and the best in Asia. The long arm began to shrivel when Benazir Bhutto was PM from 1988 to 1990 and Gen Waheed Kakar was COAS and Lt Gen Javed Ashraf Qazi had replaced Gen Javed Nasir. This change in posture was a result of pressure of the US and the West, pressing Pakistan to refrain from meddling in Indian Occupied Kashmir (IOK) and in India, or else it will be declared a terrorist state. Pressure was mounted at the behest of India which had become strategic partner of USA and Israel in 1991/1992 and darling of the West. \\nAfter the occupation of Afghanistan by 1, 50,000 Soviet forces in December 1979, Pakistan under Gen Ziaul Haq had decided to provide refuge to about 5 million Afghan refugees and to support the Afghan Mujahideen in their resistance. The US came forward with a package of $ 3.5 billion in June 1981 after making a measured assessment that Pakistan had the will and capability to fight the proxy war. The offer was accepted only when it was conveyed that the ISI will coordinate and conduct the entire war without the aid of CIA and that the US and others would restrict their support to provision of funds and weapons/equipment only. As a Frontline State, Pakistan suffered a great deal throughout the Afghan war at the hands of KGB-KHAD-RAW-AlZulfiqar nexus and Afghan armed forces, but achieved the miracle by defeating and pushing out Soviet forces in February 1989. After achieving its objective without employing a single soldier, the US abandoned Pakistan as well as the Mujahideen who had sacrificed 1.5 million people and had helped the US in becoming a sole super power. \\nOnce Pakistan fell from the grace of USA and it was put under sanctions on account of its covert nuclear program suspected to be geared towards making an Islamic bomb, it came under the shadow of black star. Pakistan\\u2019s nuclear program became an eyesore for India, Israel and USA. It faced the whole brunt of fallout effects of ten-year Afghan war that had been fully supported by the US led free world. USSR that had shrunk to Russian Federation was highly bitter, while India was perpetually hostile. Iran was not so friendly owing to its reservations over the developments in Afghanistan. Explosive situation in Afghanistan due to civil war and power tussle among the seven Mujahideen groups impacted the security of Pakistan. \\nStart of armed insurgency in IOK in late 1989 and India pumping in over 700,000 troops into the Valley had its effects on Pakistan\\u2019s security dynamics. In 1990/91, both sides had come close to war. Internally, the society had become militarized due to the Afghan war and sectarianism fomented by Iran and Saudi Arabia had created serious law and order situation in Punjab. PPP and PML-N acrimoniously tussled with each other for power because of which no govt could complete its mandatory 5 years tenure. \\nFragmentation of USSR and demise of communism on account of its military defeat in Afghanistan and increase of influence of Pakistan and India decreasing its influence in Afghanistan had vexed India. It feared that Pakistan may exploit the situation in IOK and liberate it with the help of over 60 Jihadi groups and take its revenge of the humiliation it had suffered in East Pakistan in 1971. It dreaded that Pakistan may replicate its model of supporting the Mukti Bahini. Sensing the gravity of the situation, India started propagating that Pakistan is behind the insurgency in IOK and that the ISI is funding, training and launching terrorists from Azad Jammu & Kashmir (AJK). It urged the UN and world powers to rein in Pakistan and restrain ISI from conducting cross LoC terrorism. \\nThe US, both Republicans and Democrats, had been constantly wooing India to join its camp since early 1950s, but India preferred the Soviet camp, although it professed to be non-aligned. It was elated when India feeling orphaned after the collapse of USSR fell like a ripe apple into the waiting arms of USA and both became bedfellows in 1991. Once its newfound love sought help from her paramour, the latter stood behind her and sternly cautioned Pakistan to lay its hands off IOK. Change in circumstances compelled Pakistan to restrict its support to the Kashmiris in distress to moral, political and diplomatic levels only. The Kashmir oriented Jihadi groups based in AJK and in Southern Punjab however continued to extend support to the Kashmiris seeking right of self-determination as provided for in the UN resolutions. Indian security forces equipped with draconian laws and license to kill without any fear of accountability or censure by the UN and world powers carried out inhuman torture, employed massive force, and used rape as a weapon to break the will of the freedom fighters. The UN and international community turned a deaf ear to the cries of Kashmiris. \\nDespite the fact that IOK had become the most militarized region of the world (one soldier for 17 civilians), and Kashmiris had suffered over 100,000 fatalities, 10,000 rapes, detention of thousands in secret dens and destruction of their property, the freedom fighters kept the torch of liberty aglow. The heroics of Kashmiris against heavy odds had a telling effect on the morale of Indian Army and paramilitary forces in IOK. Soldiers suffered from demoralization and homesickness; cases of suicides, desertions, killing of seniors and comrades by soldiers, and indiscipline jumped up at an alarming rate. Officers and men dreaded posting to Kashmir, while rate of compassionate cases wanting posting out from Kashmir shot up. A stage came when recruitment in Army dropped to rock bottom levels. The then Indian Army chief had to appear on the TV and run an ad campaign to appeal to the youth to join the Army on better pay scale and perks. Kashmir had become a perforated wound for India and economic cost was becoming unbearable. It was becoming difficult for India to hide its massive human rights violations and barbarities of Indian security forces. \\nHere I may add that the Indian Army had suffered humiliation at Dras-Kargil in 1999 at the hands of handful of Mujahideen and irregulars of Northern Light Infantry. It was eventually bailed out by the US led G-8 by exerting immense pressure on Pakistan to immediately vacate the captured territories. The Indian armed forces went through another embarrassment in 2002 when it had to sheepishly withdraw from its western border after a ten-month standoff during which it had constantly huffed and puffed but couldn\\u2019t pick up courage to cross the border. Aggressive response of Pak armed forces had taken the steam out of their chauvinism. \\nUnfortunately, all that was gained on the Kashmir front and on the military front was wasted away after Gen Musharraf wilted under the US pressure in 2003 and decided to take steps to please USA and India. Reining in Kashmir focused Jihadi groups, allowing India to fence the LoC and signing peace treaty with India in January 2004 changed the perspective. It helped Indian military to suppress Kashmir freedom movement. Earlier on, Musharraf had submitted to all the 7 demands of Washington in September 2001. Free hand given to CIA and FBI had enabled the two to establish their network in FATA and gain control over airports and seaport in Pakistan. Intelligence acquisition in FATA was taken over by CIA and ISI pushed on the back seat. \\nIndo-Pak peace treaty in 2004 enabled RAW to ignite FATA, Khyber Pakhtunkhwa (KP), Baluchistan and Karachi. While RAW assisted by CIA, NDS, MI-6 and Mossad made full use of its long arm to bleed Pakistan with the help of proxies, Pak security forces and ISI remained handicapped. The so-called friends pushed Pakistan to fight terrorism but secretly backed the terrorists. The US kept twisting the arm of Pakistan that if ISI meddled into India or Afghanistan it will be declared a rogue outfit. Perforce, the ISI undertook protective measures only, but its defensive actions were more often breached because the so-called allies stabbed Pakistan in the back. As a consequence, RAW and its strategic partners carried out one-sided covert war while the ISI at best tried to ward off the attacks. In spite of defensive policy of the govt and ISI, and Pakistan suffering much more human casualties than any other country in the war on terror, ISI was blamed to be in collusion with Al-Qaeda, Taliban, Haqqani Network, Jaish-e-Muhammad (JeM) and Lashkar-e-Taiba (LeT). These were termed as strategic assets of military establishment to overcome conventional inferiority against arch enemy India. The lost intelligence space In FATA/KP was gradually recovered when Lt Gen Shuja Pasha took over as DG ISI and Gen Ashfaq Kayani as COAS in 2008. \\nAll the terror attacks that took place in India between 2001 and 2008 were pinned on JeM and LeT and their connection was made with ISI. Since Pakistan made no effort to disprove Indian contention even after it was revealed by Indian investigative agencies and Home Ministry officials that Hindu terror groups and Indian military intelligence officers were involved in the attacks, it became easier for India to further strengthen its narrative of portraying Pakistan as a terror abetting state and a nursery of terrorism. India\\u2019s narrative was boosted up by its strategic allies. The US dubbed Pakistan as the most dangerous county in the world. Pakistan\\u2019s overall defensive policy and apologetic stance emboldened its detractors to keep whipping and bleeding it without fear of tit for tat response from ISI. \\nOther than the salvos fired by the Indo-Afghan-US-Israel nexus on Pak Army and ISI, Pakistan political leadership of major political parties also view the two premier institutions with distrust. Both PPP and PML-N in line with their 2006 Charter of Democracy made efforts to enfeeble ISI and keep Army under their thumb. First attempt was made by Benazir Bhutto when she replaced Lt Gen Hamid Gul with retired Lt Gen Kallue in 1989 and next tasked Air Marshal Zulfiqar to cut ISI to size under the garb of reforms. PM Yusaf Raza Gilani tried to civilianize ISI in August 2008 by placing it under Ministry of Interior. Kerry Lugar Bill in 2009 and Memo scandal in 2011 were other attempts to curtail military\\u2019s power. Nawaz Sharif has a history of locking horns with every Army chief and has still not got out of the hangover of Gen Musharraf. Although he didn\\u2019t clash with Gen Raheel but at times civil-military relations became tense. \\nIt has now been conclusively established that RAW and NDS in unison and backed by other agencies are deeply involved in proxy war in Pakistan since 2003 and have inflicted tens of thousands of cuts on the body of Pakistan and its people. Series of conspiracies have been hatched and launched to destabilize and fragment Pakistan. RAW-NDS nexus backed by CIA is continuing to use Afghanistan as a launching pad for terror attacks in Pakistan. In order to scuttle CPEC, focus of attacks is on Baluchistan and KP. India is keeping the LoC on fire. So far it has violated 2003 ceasefire agreement 178 times and killed 19 civilians and injured 80. \\nThe anti-Pakistan foreign agencies are making full use of TTP, Jamaat Ahrar, Lashkar Jhangvi, BLA, BRA, BLF and MQM as proxies. London is a safe haven for MQM leadership and Baloch rebel leaders, while Afghanistan has provided sanctuaries to TTP runaway leaders in Kunar, Nuristan and Nangarhar. Besides these strategic assets, the detractors are also making use of NGOs, human rights activists and segment of media to make Pakistan a compliant state of India. Since HN, JeM, and LeT are not playing the game of foreign agencies, they are dubbed as terrorist groups and strategic assets of Pak Army/ISI. They want Pakistan to take strict action against them or else face isolation and sanctions. \\nIt was in the backdrop of this concern of US and India that the Dawn News published a story on October 6. The planted story was allegedly furnished by someone from within the PM House where a national security conference presided by the PM and attended by Foreign Secretary, Punjab Chief Minister, COAS, DG ISI and National Security Adviser was held. The invented story written by Cyril Almeida gave an impression of serious rift between civil and military leadership and that while the govt wanted to proceed against the defunct militant groups, the ISI didn\\u2019t. Probable motive of concocted story was to demean the Army/ISI and to reinforce Indo-US stance that Pak Army and ISI were in league with terror groups. The types of Hussain Haqqani, Ayesha Sadiqa, Farzana Bari and several other liberal journalists assembled in London two days ago to play up this story. MQM (Altaf) hosted them. To ascertain the truth, a high powered committee comprising members from three intelligence agencies will carry out inquest. \\nHaving collected tons of evidence, yet Pakistan takes the barbs and whips without a whimper and doesn\\u2019t pick up courage to strike back. The long arm of ISI remains sheathed for reasons best known to the policy makers. It implies our leaders have decided to give a free hand to our enemies to continue bleeding Pakistan without any fear of retaliation or even protest. Going by the well-established concept that \\u2018offence is the best defence\\u2019, until and unless the ISI pay back the RAW and NDS in the same coin, one sided bleeding of Pakistanis will continue. Long arm must be unsheathed. \\nThe writer is retired Brig, war veteran, defence analyst, columnist, author of 5 books, Vice Chairman Thinkers Forum Pakistan, DG Measac Research Centre, and Member Executive Council PESS. Related Posts:\",\n          \"Matt Bissonnette, a former member of Navy SEAL Team 6 who wrote an account of the raid that killed Osama bin Laden, agreed on Friday to forfeit $6. 8 million in book royalties and speaking fees and apologized for failing to clear his disclosures with the Pentagon, according to federal court documents. Mr. Bissonnette also recently forfeited $180, 000 in fees for consulting work that he did for military contractors while he was still on the SEAL team, his lawyer, Robert D. Luskin, said in an interview. If approved by a federal judge in Alexandria, Va. the royalty settlement would bring an end to more than two years of civil and criminal investigations into Mr. Bissonnette, who won several awards for valor in Iraq and Afghanistan before writing \\u201cNo Easy Day,\\u201d his   book on the Bin Laden raid, under the pen name Mark Owen. The firsthand account of the daring raid was one of several   books and movies involving former Navy SEALS that has led to criticism within a community once known for discretion that Mr. Bissonnette and the others were cashing in on their exploits. The Justice Department conducted criminal investigations into whether Mr. Bissonnette had disclosed classified information in his book or speeches and whether he had violated    laws in consulting for companies that had contracts with SEAL Team 6. In the end, the department did not bring any criminal charges, settling instead for the cash forfeitures. Mr. Bissonnette said in a statement Friday that he regretted his failure to submit \\u201cNo Easy Day\\u201d for vetting before it was published in 2012 so Pentagon officials could ensure that it did not include classified information. Mr. Bissonnette acknowledged that he was required under his security clearances to let the Pentagon review the book, and he blamed another lawyer for advising him that he did not need to do so. \\u201cI acknowledge my mistake and have paid a stiff price, both personally and financially, for that error,\\u201d he said. \\u201cI accept responsibility for failing to submit the book for review and apologize sincerely for my oversight. \\u201d Documents filed in Federal District Court in Alexandria on Friday indicated that Mr. Bissonnette must transfer nearly $6. 8 million to the government as part of the settlement. The amount includes all of the $6. 7 million in royalties he has earned on \\u201cNo Easy Day,\\u201d as well as $100, 000 in fees for six speeches he gave in early 2013 before the government approved the slides he used in such presentations. Mr. Bissonnette wrote in \\u201cNo Easy Day\\u201d that he was one of the SEALs who shot Bin Laden, and he and Robert O\\u2019Neill, another former SEAL Team 6 member who claims his shots were the fatal ones, have competed on the lecture circuit. Military officials said that Mr. O\\u2019Neill is writing a book of his own and has asked the Pentagon to vet it. While Mr. Bissonnette\\u2019s fight with the Pentagon over his book has received public attention, some details of his consulting work while he was still a SEAL Team 6 member, as well as his fee forfeiture, have not been disclosed. Mr. Luskin said that Mr. Bissonnette and the federal authorities reached a \\u201cnonprosecution agreement\\u201d in May in which Mr. Bissonnette forfeited $180, 000 in fees for advising three equipment manufacturers who were doing business with SEAL Team 6 while he was on the team. Mr. Luskin said the fees dated back as far as 2006, when Mr. Bissonnette was the research and development representative for his squadron within Team 6. Other former SEAL members have said that his job was to figure out what types of equipment they needed. Mr. Luskin said that the $180, 000 came from   a helmet maker now owned by the Gentex Corporation in Carbondale, Pa. and two   manufacturers based in Virginia Beach  \\u2014   SS Precision and London Bridge Trading. No executives at the three companies were available for comment. Mr. Luskin said that Mr. Bissonnette and other SEAL members also received consulting fees from companies that designed tactical clothing and gear for other parts of the military or for sales to outdoor enthusiasts. Mr. Bissonnette has maintained that he cleared the consulting work in advance with a Navy lawyer, and Mr. Luskin said that helped persuade prosecutors that \\u201cthere was clearly on Matt\\u2019s part no intent to breach the    laws. \\u201d Navy officials say they have restricted such moonlighting since then. Mr. Luskin also noted that a number of   officials have assisted other authors writing about the Bin Laden raid as well as the creators of the movie \\u201cZero Dark Thirty. \\u201d But, he said, only Mr. Bissonnette has paid any penalties for the disclosures.\"\n        ],\n        \"semantic_type\": \"\",\n        \"description\": \"\"\n      }\n    },\n    {\n      \"column\": \"label\",\n      \"properties\": {\n        \"dtype\": \"category\",\n        \"num_unique_values\": 5,\n        \"samples\": [\n          \"0\",\n          \" \\u0447\\u0442\\u043e\\u0431\\u044b \\u044d\\u0442\\u043e \\u0431\\u044b\\u043b\\u0430 \\u0434\\u043e\\u0440\\u043e\\u0433\\u0430 \\u0441 \\u0434\\u0432\\u0443\\u0441\\u0442\\u043e\\u0440\\u043e\\u043d\\u043d\\u0438\\u043c \\u0434\\u0432\\u0438\\u0436\\u0435\\u043d\\u0438\\u0435\\u043c.\",\n          \"\"\n        ],\n        \"semantic_type\": \"\",\n        \"description\": \"\"\n      }\n    },\n    {\n      \"column\": \"content\",\n      \"properties\": {\n        \"dtype\": \"string\",\n        \"num_unique_values\": 20426,\n        \"samples\": [\n          \"Dan Bilefsky C.I.A. Chief Warns Donald Trump Against Tearing Up Iran Nuclear Deal - The New York Times\",\n          \"Ben Kew Report: Anthony Weiner to Plead Guilty on Charges of Sexting a Minor - Breitbart\",\n          \"informationclearinghouse.info President-Elect Donald Trump's First Televised Interview Since He Won the Election     : Information\"\n        ],\n        \"semantic_type\": \"\",\n        \"description\": \"\"\n      }\n    }\n  ]\n}"
            }
          },
          "metadata": {},
          "execution_count": 33
        }
      ]
    },
    {
      "cell_type": "code",
      "source": [
        "# sepersting feature and target\n",
        "x=news_data.drop(columns='label',axis=1)\n",
        "y=news_data['label']"
      ],
      "metadata": {
        "id": "rhnJ_kCjbEV1"
      },
      "execution_count": null,
      "outputs": []
    },
    {
      "cell_type": "code",
      "source": [
        "print(x)"
      ],
      "metadata": {
        "colab": {
          "base_uri": "https://localhost:8080/"
        },
        "id": "JR7v71-lbVS5",
        "outputId": "6997652c-4bf0-4e85-cd01-fca9a4796687"
      },
      "execution_count": null,
      "outputs": [
        {
          "output_type": "stream",
          "name": "stdout",
          "text": [
            "        id                                              title  \\\n",
            "0        0  House Dem Aide: We Didn’t Even See Comey’s Let...   \n",
            "1        1  FLYNN: Hillary Clinton, Big Woman on Campus - ...   \n",
            "2        2                  Why the Truth Might Get You Fired   \n",
            "3        3  15 Civilians Killed In Single US Airstrike Hav...   \n",
            "4        4  Iranian woman jailed for fictional unpublished...   \n",
            "...    ...                                                ...   \n",
            "6429  6429  Moveable Feast Cafe 2016/10/28 … Open Thread |...   \n",
            "6430  6430  Hajj Prep: Search Soul, Buy Sturdy Shoes, Pay ...   \n",
            "6431  6431  10 radikale Vorhaben, die Donald Trump sofort ...   \n",
            "6432  6432                               Little Blue Balls...   \n",
            "6433  6433  WATCH: Louis CK’s EPIC Answer on Trump vs. Hil...   \n",
            "\n",
            "                                   author  \\\n",
            "0                           Darrell Lucus   \n",
            "1                         Daniel J. Flynn   \n",
            "2                      Consortiumnews.com   \n",
            "3                         Jessica Purkiss   \n",
            "4                          Howard Portnoy   \n",
            "...                                   ...   \n",
            "6429                         Herb Swanson   \n",
            "6430                           Diaa Hadid   \n",
            "6431  noreply@blogger.com (Der Postillon)   \n",
            "6432                              recrisp   \n",
            "6433                          Grant Stern   \n",
            "\n",
            "                                                   text  \\\n",
            "0     House Dem Aide: We Didn’t Even See Comey’s Let...   \n",
            "1     Ever get the feeling your life circles the rou...   \n",
            "2     Why the Truth Might Get You Fired October 29, ...   \n",
            "3     Videos 15 Civilians Killed In Single US Airstr...   \n",
            "4     Print \\nAn Iranian woman has been sentenced to...   \n",
            "...                                                 ...   \n",
            "6429  Leave a Reply Click here to get more info on f...   \n",
            "6430  JIDDA, Saudi Arabia  —   My father was on the ...   \n",
            "6431  Donnerstag, 10. November 2016 10 radikale Vorh...   \n",
            "6432  link Years ago I came here for the UFOs and af...   \n",
            "6433  Comments \\nConan O’Brien asked comedian Louis ...   \n",
            "\n",
            "                                                content  \n",
            "0     Darrell Lucus House Dem Aide: We Didn’t Even S...  \n",
            "1     Daniel J. Flynn FLYNN: Hillary Clinton, Big Wo...  \n",
            "2     Consortiumnews.com Why the Truth Might Get You...  \n",
            "3     Jessica Purkiss 15 Civilians Killed In Single ...  \n",
            "4     Howard Portnoy Iranian woman jailed for fictio...  \n",
            "...                                                 ...  \n",
            "6429  Herb Swanson Moveable Feast Cafe 2016/10/28 … ...  \n",
            "6430  Diaa Hadid Hajj Prep: Search Soul, Buy Sturdy ...  \n",
            "6431  noreply@blogger.com (Der Postillon) 10 radikal...  \n",
            "6432                       recrisp Little Blue Balls...  \n",
            "6433  Grant Stern WATCH: Louis CK’s EPIC Answer on T...  \n",
            "\n",
            "[6434 rows x 5 columns]\n"
          ]
        }
      ]
    },
    {
      "cell_type": "code",
      "source": [
        "print(y)"
      ],
      "metadata": {
        "colab": {
          "base_uri": "https://localhost:8080/"
        },
        "id": "HVrmlFaUbe5g",
        "outputId": "013a95d2-312d-4fcf-9712-cddc1625e01d"
      },
      "execution_count": null,
      "outputs": [
        {
          "output_type": "stream",
          "name": "stdout",
          "text": [
            "0       1\n",
            "1       0\n",
            "2       1\n",
            "3       1\n",
            "4       1\n",
            "       ..\n",
            "6429    1\n",
            "6430    0\n",
            "6431    1\n",
            "6432    1\n",
            "6433    1\n",
            "Name: label, Length: 6434, dtype: int64\n"
          ]
        }
      ]
    },
    {
      "cell_type": "markdown",
      "source": [
        "Stemming:\n",
        "\n",
        "Stemming is the process of reducing a word to its Root Word."
      ],
      "metadata": {
        "id": "FJGRW3iLcNmB"
      }
    },
    {
      "cell_type": "code",
      "source": [
        " port_stem=PorterStemmer()"
      ],
      "metadata": {
        "id": "FBP-SwOTcdlY"
      },
      "execution_count": null,
      "outputs": []
    },
    {
      "cell_type": "code",
      "source": [
        "def stemming(content):\n",
        "  stemmed_content=re.sub('[^a-zA-Z]',' ',content)\n",
        "  stemmed_content=stemmed_content.lower()\n",
        "  stemmed_content=stemmed_content.split()\n",
        "  stemmed_content=[port_stem.stem(word) for word in stemmed_content if not word in stopwords.words('english')]\n",
        "  stemmed_content=' '.join(stemmed_content)\n",
        "  return stemmed_content"
      ],
      "metadata": {
        "id": "v5dBE-h7hX8V"
      },
      "execution_count": null,
      "outputs": []
    },
    {
      "cell_type": "code",
      "source": [
        "news_data['content']=news_data['content'].astype(str).apply(stemming)"
      ],
      "metadata": {
        "id": "_Tjwn5w0iRDS"
      },
      "execution_count": null,
      "outputs": []
    },
    {
      "cell_type": "code",
      "source": [
        "print(news_data['content'])"
      ],
      "metadata": {
        "colab": {
          "base_uri": "https://localhost:8080/"
        },
        "id": "9n5om82LjKgt",
        "outputId": "a3a34cd5-129f-4a4e-d0a0-29d119f21fc4"
      },
      "execution_count": null,
      "outputs": [
        {
          "output_type": "stream",
          "name": "stdout",
          "text": [
            "0        darrel lucu hous dem aid even see comey letter...\n",
            "1        daniel j flynn flynn hillari clinton big woman...\n",
            "2                   consortiumnew com truth might get fire\n",
            "3        jessica purkiss civilian kill singl us airstri...\n",
            "4        howard portnoy iranian woman jail fiction unpu...\n",
            "                               ...                        \n",
            "20816    jerom hudson rapper trump poster child white s...\n",
            "20817    benjamin hoffman n f l playoff schedul matchup...\n",
            "20818    michael j de la merc rachel abram maci said re...\n",
            "20819    alex ansari nato russia hold parallel exercis ...\n",
            "20820                            david swanson keep f aliv\n",
            "Name: content, Length: 20821, dtype: object\n"
          ]
        }
      ]
    },
    {
      "cell_type": "code",
      "source": [
        "x=news_data['content'].values\n",
        "y=news_data['label'].values"
      ],
      "metadata": {
        "id": "EprjCatHlx87"
      },
      "execution_count": null,
      "outputs": []
    },
    {
      "cell_type": "code",
      "source": [
        "print(x)"
      ],
      "metadata": {
        "colab": {
          "base_uri": "https://localhost:8080/"
        },
        "id": "OtcaNge-mWw5",
        "outputId": "292636fd-fa30-4697-f5ca-946191de3b59"
      },
      "execution_count": null,
      "outputs": [
        {
          "output_type": "stream",
          "name": "stdout",
          "text": [
            "[list(['darrel', 'lucu', 'hous', 'dem', 'aid', 'even', 'see', 'comey', 'letter', 'jason', 'chaffetz', 'tweet'])\n",
            " list(['daniel', 'j', 'flynn', 'flynn', 'hillari', 'clinton', 'big', 'woman', 'campu', 'breitbart'])\n",
            " list(['consortiumnew', 'com', 'truth', 'might', 'get', 'fire']) ...\n",
            " list(['norepli', 'blogger', 'com', 'der', 'postillon', 'radikal', 'vorhaben', 'die', 'donald', 'trump', 'sofort', 'nach', 'amtsantritt', 'durchsetzen', 'wird'])\n",
            " list(['recrisp', 'littl', 'blue', 'ball'])\n",
            " list(['grant', 'stern', 'watch', 'loui', 'ck', 'epic', 'answer', 'trump', 'vs', 'hillari'])]\n"
          ]
        }
      ]
    },
    {
      "cell_type": "code",
      "source": [
        "print(y)"
      ],
      "metadata": {
        "colab": {
          "base_uri": "https://localhost:8080/"
        },
        "id": "haFWJcxNmb40",
        "outputId": "d8567964-dd35-43a6-fd59-4a52fd94a57c"
      },
      "execution_count": null,
      "outputs": [
        {
          "output_type": "stream",
          "name": "stdout",
          "text": [
            "[1 0 1 ... 1 1 1]\n"
          ]
        }
      ]
    },
    {
      "cell_type": "code",
      "source": [
        "y.shape"
      ],
      "metadata": {
        "colab": {
          "base_uri": "https://localhost:8080/"
        },
        "id": "9NNlmzzkmdvq",
        "outputId": "81013f51-a1a5-4973-81f7-600d28d64910"
      },
      "execution_count": null,
      "outputs": [
        {
          "output_type": "execute_result",
          "data": {
            "text/plain": [
              "(6434,)"
            ]
          },
          "metadata": {},
          "execution_count": 21
        }
      ]
    },
    {
      "cell_type": "code",
      "source": [
        "x.shape"
      ],
      "metadata": {
        "colab": {
          "base_uri": "https://localhost:8080/"
        },
        "id": "5EVLk2FymhXx",
        "outputId": "0e1964f3-8b4b-4cf4-a497-c018fce5448f"
      },
      "execution_count": null,
      "outputs": [
        {
          "output_type": "execute_result",
          "data": {
            "text/plain": [
              "(6434,)"
            ]
          },
          "metadata": {},
          "execution_count": 22
        }
      ]
    },
    {
      "cell_type": "code",
      "source": [
        "# converting the textual data to feature vectors\n",
        "vectorizer=TfidfVectorizer()\n",
        "vectorizer.fit(x)  # we are fitting all the data in content to this vectorizer funtion.\n",
        "x=vectorizer.transform(x)"
      ],
      "metadata": {
        "id": "ZYnHok_bmqXR"
      },
      "execution_count": null,
      "outputs": []
    },
    {
      "cell_type": "code",
      "source": [
        "print(x)"
      ],
      "metadata": {
        "colab": {
          "base_uri": "https://localhost:8080/"
        },
        "id": "-ARBGjONqJbm",
        "outputId": "be49d205-c3a3-452a-d522-e5cd217fd8df"
      },
      "execution_count": null,
      "outputs": [
        {
          "output_type": "stream",
          "name": "stdout",
          "text": [
            "  (0, 267)\t0.2701476206362224\n",
            "  (0, 2484)\t0.3676995795693613\n",
            "  (0, 2960)\t0.24689108808738355\n",
            "  (0, 3602)\t0.359941431098289\n",
            "  (0, 3794)\t0.27057962443509487\n",
            "  (0, 4975)\t0.23336287017959056\n",
            "  (0, 7008)\t0.21878740888803716\n",
            "  (0, 7695)\t0.2478982832436769\n",
            "  (0, 8633)\t0.29217179168954643\n",
            "  (0, 8912)\t0.3636439399690358\n",
            "  (0, 13477)\t0.2560146587984509\n",
            "  (0, 15694)\t0.2848971939754382\n",
            "  (1, 1497)\t0.29399205102022696\n",
            "  (1, 1894)\t0.1552451057257906\n",
            "  (1, 2224)\t0.3827205648196221\n",
            "  (1, 2814)\t0.19096531956187138\n",
            "  (1, 3570)\t0.2637454809945214\n",
            "  (1, 5506)\t0.7143152671504139\n",
            "  (1, 6819)\t0.19048567644127162\n",
            "  (1, 16806)\t0.3007192619627194\n",
            "  (2, 2944)\t0.3180042868355105\n",
            "  (2, 3104)\t0.46096698415377874\n",
            "  (2, 5392)\t0.38665736793549876\n",
            "  (2, 5971)\t0.34747209776436094\n",
            "  (2, 9623)\t0.49350166555600666\n",
            "  :\t:\n",
            "  (20818, 3645)\t0.21156290306650766\n",
            "  (20818, 7045)\t0.2179974648085888\n",
            "  (20818, 8367)\t0.22323208520517143\n",
            "  (20818, 8991)\t0.36159510927678556\n",
            "  (20818, 9521)\t0.2954162937577498\n",
            "  (20818, 9591)\t0.17456667315242297\n",
            "  (20818, 10310)\t0.0804074616835772\n",
            "  (20818, 12141)\t0.24778528898216554\n",
            "  (20818, 12347)\t0.27263373134617985\n",
            "  (20818, 13125)\t0.24825527967934385\n",
            "  (20818, 14974)\t0.31158810998799563\n",
            "  (20818, 15303)\t0.0816191102758609\n",
            "  (20818, 17003)\t0.08318283344779884\n",
            "  (20819, 350)\t0.28477942290980596\n",
            "  (20819, 588)\t0.31119200227678256\n",
            "  (20819, 1125)\t0.4459989228806581\n",
            "  (20819, 5035)\t0.4083260285061479\n",
            "  (20819, 6892)\t0.3249375982642549\n",
            "  (20819, 10180)\t0.3192256700613988\n",
            "  (20819, 11055)\t0.4459989228806581\n",
            "  (20819, 13049)\t0.22363032629143922\n",
            "  (20820, 377)\t0.5677487919027105\n",
            "  (20820, 3625)\t0.37929478449575493\n",
            "  (20820, 8039)\t0.4598457187365609\n",
            "  (20820, 14859)\t0.5677487919027105\n"
          ]
        }
      ]
    }
  ]
}