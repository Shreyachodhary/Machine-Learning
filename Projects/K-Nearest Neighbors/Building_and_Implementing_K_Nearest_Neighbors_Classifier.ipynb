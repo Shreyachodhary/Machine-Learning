{
  "nbformat": 4,
  "nbformat_minor": 0,
  "metadata": {
    "colab": {
      "provenance": []
    },
    "kernelspec": {
      "name": "python3",
      "display_name": "Python 3"
    },
    "language_info": {
      "name": "python"
    }
  },
  "cells": [
    {
      "cell_type": "markdown",
      "source": [
        "Euclidean Distance\n",
        "\n",
        "\n",
        "![image.png](data:image/png;base64,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)"
      ],
      "metadata": {
        "id": "S-mZj9VRAD0W"
      }
    },
    {
      "cell_type": "markdown",
      "source": [
        "Manhattan Distance\n",
        "\n",
        "\n",
        "![image.png](data:image/png;base64,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)"
      ],
      "metadata": {
        "id": "RMcQEMCKALJ3"
      }
    },
    {
      "cell_type": "markdown",
      "source": [
        "Importing the Dependencies"
      ],
      "metadata": {
        "id": "08ofAWCOAR2Z"
      }
    },
    {
      "cell_type": "code",
      "execution_count": null,
      "metadata": {
        "id": "BjyGiUFY_iQp"
      },
      "outputs": [],
      "source": [
        "import numpy as np\n",
        "import statistics"
      ]
    },
    {
      "cell_type": "markdown",
      "source": [
        "**K-Nearest Neighbors Classifier**"
      ],
      "metadata": {
        "id": "5yxD00BNAdgE"
      }
    },
    {
      "cell_type": "code",
      "source": [
        "class KNN_Classifier():\n",
        "\n",
        "  # initiating the parameters\n",
        "  def __init__(self, distance_metric):\n",
        "\n",
        "    self.distance_metric = distance_metric\n",
        "\n",
        "  # getting the distance metric\n",
        "  def get_distance_metric(self,training_data_point, test_data_point):\n",
        "\n",
        "    if (self.distance_metric == 'euclidean'):\n",
        "\n",
        "      dist = 0\n",
        "      for i in range(len(training_data_point) - 1):\n",
        "        dist = dist + (training_data_point[i] - test_data_point[i])**2\n",
        "\n",
        "      euclidean_dist = np.sqrt(dist)\n",
        "\n",
        "      return euclidean_dist\n",
        "\n",
        "    elif (self.distance_metric == 'manhattan'):\n",
        "\n",
        "      dist = 0\n",
        "\n",
        "      for i in range(len(training_data_point) - 1):\n",
        "        dist = dist + abs(training_data_point[i] - test_data_point[i])\n",
        "\n",
        "      manhattan_dist = dist\n",
        "\n",
        "      return manhattan_dist\n",
        "\n",
        "  # getting the nearest neighbors\n",
        "  def nearest_neighbors(self,X_train, test_data, k):\n",
        "\n",
        "    distance_list = []\n",
        "\n",
        "    for training_data in X_train:\n",
        "\n",
        "      distance = self.get_distance_metric(training_data, test_data)\n",
        "      distance_list.append((training_data, distance))\n",
        "\n",
        "    distance_list.sort(key=lambda x: x[1])\n",
        "\n",
        "    neighbors_list = []\n",
        "\n",
        "    for j in range(k):\n",
        "      neighbors_list.append(distance_list[j][0])\n",
        "\n",
        "    return neighbors_list\n",
        "\n",
        "\n",
        "  # predict the class of the new data point:\n",
        "  def predict(self,X_train, test_data, k):\n",
        "    neighbors = self.nearest_neighbors(X_train, test_data, k)\n",
        "\n",
        "    for data in neighbors:\n",
        "      label = []\n",
        "      label.append(data[-1])\n",
        "\n",
        "    predicted_class = statistics.mode(label)\n",
        "\n",
        "    return predicted_class\n"
      ],
      "metadata": {
        "id": "JLIjK7IbAlC0"
      },
      "execution_count": null,
      "outputs": []
    },
    {
      "cell_type": "markdown",
      "source": [
        "Diabetes Prediction"
      ],
      "metadata": {
        "id": "GjDkGPnjaqbz"
      }
    },
    {
      "cell_type": "code",
      "source": [
        "import numpy as np\n",
        "import pandas as pd\n",
        "from sklearn.model_selection import train_test_split\n",
        "from sklearn.metrics import accuracy_score"
      ],
      "metadata": {
        "id": "rr6RGoP6a6-0"
      },
      "execution_count": null,
      "outputs": []
    },
    {
      "cell_type": "code",
      "source": [
        "# loading the diabetes dataset to a pandas dataframe\n",
        "diabetes_dataset=pd.read_csv('/content/diabetes.csv')"
      ],
      "metadata": {
        "id": "fkDVeF2obL00"
      },
      "execution_count": null,
      "outputs": []
    },
    {
      "cell_type": "code",
      "source": [
        "diabetes_dataset.head()"
      ],
      "metadata": {
        "colab": {
          "base_uri": "https://localhost:8080/",
          "height": 226
        },
        "id": "g02PKM2Zb1mx",
        "outputId": "25a521af-7e4a-4f7b-e168-6c96a7f22ccb"
      },
      "execution_count": null,
      "outputs": [
        {
          "output_type": "execute_result",
          "data": {
            "text/plain": [
              "   Pregnancies  Glucose  BloodPressure  SkinThickness  Insulin   BMI  \\\n",
              "0            6      148             72             35        0  33.6   \n",
              "1            1       85             66             29        0  26.6   \n",
              "2            8      183             64              0        0  23.3   \n",
              "3            1       89             66             23       94  28.1   \n",
              "4            0      137             40             35      168  43.1   \n",
              "\n",
              "   DiabetesPedigreeFunction  Age  Outcome  \n",
              "0                     0.627   50        1  \n",
              "1                     0.351   31        0  \n",
              "2                     0.672   32        1  \n",
              "3                     0.167   21        0  \n",
              "4                     2.288   33        1  "
            ],
            "text/html": [
              "\n",
              "  <div id=\"df-b496b600-a3c4-416c-a384-3443bc35eb83\" class=\"colab-df-container\">\n",
              "    <div>\n",
              "<style scoped>\n",
              "    .dataframe tbody tr th:only-of-type {\n",
              "        vertical-align: middle;\n",
              "    }\n",
              "\n",
              "    .dataframe tbody tr th {\n",
              "        vertical-align: top;\n",
              "    }\n",
              "\n",
              "    .dataframe thead th {\n",
              "        text-align: right;\n",
              "    }\n",
              "</style>\n",
              "<table border=\"1\" class=\"dataframe\">\n",
              "  <thead>\n",
              "    <tr style=\"text-align: right;\">\n",
              "      <th></th>\n",
              "      <th>Pregnancies</th>\n",
              "      <th>Glucose</th>\n",
              "      <th>BloodPressure</th>\n",
              "      <th>SkinThickness</th>\n",
              "      <th>Insulin</th>\n",
              "      <th>BMI</th>\n",
              "      <th>DiabetesPedigreeFunction</th>\n",
              "      <th>Age</th>\n",
              "      <th>Outcome</th>\n",
              "    </tr>\n",
              "  </thead>\n",
              "  <tbody>\n",
              "    <tr>\n",
              "      <th>0</th>\n",
              "      <td>6</td>\n",
              "      <td>148</td>\n",
              "      <td>72</td>\n",
              "      <td>35</td>\n",
              "      <td>0</td>\n",
              "      <td>33.6</td>\n",
              "      <td>0.627</td>\n",
              "      <td>50</td>\n",
              "      <td>1</td>\n",
              "    </tr>\n",
              "    <tr>\n",
              "      <th>1</th>\n",
              "      <td>1</td>\n",
              "      <td>85</td>\n",
              "      <td>66</td>\n",
              "      <td>29</td>\n",
              "      <td>0</td>\n",
              "      <td>26.6</td>\n",
              "      <td>0.351</td>\n",
              "      <td>31</td>\n",
              "      <td>0</td>\n",
              "    </tr>\n",
              "    <tr>\n",
              "      <th>2</th>\n",
              "      <td>8</td>\n",
              "      <td>183</td>\n",
              "      <td>64</td>\n",
              "      <td>0</td>\n",
              "      <td>0</td>\n",
              "      <td>23.3</td>\n",
              "      <td>0.672</td>\n",
              "      <td>32</td>\n",
              "      <td>1</td>\n",
              "    </tr>\n",
              "    <tr>\n",
              "      <th>3</th>\n",
              "      <td>1</td>\n",
              "      <td>89</td>\n",
              "      <td>66</td>\n",
              "      <td>23</td>\n",
              "      <td>94</td>\n",
              "      <td>28.1</td>\n",
              "      <td>0.167</td>\n",
              "      <td>21</td>\n",
              "      <td>0</td>\n",
              "    </tr>\n",
              "    <tr>\n",
              "      <th>4</th>\n",
              "      <td>0</td>\n",
              "      <td>137</td>\n",
              "      <td>40</td>\n",
              "      <td>35</td>\n",
              "      <td>168</td>\n",
              "      <td>43.1</td>\n",
              "      <td>2.288</td>\n",
              "      <td>33</td>\n",
              "      <td>1</td>\n",
              "    </tr>\n",
              "  </tbody>\n",
              "</table>\n",
              "</div>\n",
              "    <div class=\"colab-df-buttons\">\n",
              "\n",
              "  <div class=\"colab-df-container\">\n",
              "    <button class=\"colab-df-convert\" onclick=\"convertToInteractive('df-b496b600-a3c4-416c-a384-3443bc35eb83')\"\n",
              "            title=\"Convert this dataframe to an interactive table.\"\n",
              "            style=\"display:none;\">\n",
              "\n",
              "  <svg xmlns=\"http://www.w3.org/2000/svg\" height=\"24px\" viewBox=\"0 -960 960 960\">\n",
              "    <path d=\"M120-120v-720h720v720H120Zm60-500h600v-160H180v160Zm220 220h160v-160H400v160Zm0 220h160v-160H400v160ZM180-400h160v-160H180v160Zm440 0h160v-160H620v160ZM180-180h160v-160H180v160Zm440 0h160v-160H620v160Z\"/>\n",
              "  </svg>\n",
              "    </button>\n",
              "\n",
              "  <style>\n",
              "    .colab-df-container {\n",
              "      display:flex;\n",
              "      gap: 12px;\n",
              "    }\n",
              "\n",
              "    .colab-df-convert {\n",
              "      background-color: #E8F0FE;\n",
              "      border: none;\n",
              "      border-radius: 50%;\n",
              "      cursor: pointer;\n",
              "      display: none;\n",
              "      fill: #1967D2;\n",
              "      height: 32px;\n",
              "      padding: 0 0 0 0;\n",
              "      width: 32px;\n",
              "    }\n",
              "\n",
              "    .colab-df-convert:hover {\n",
              "      background-color: #E2EBFA;\n",
              "      box-shadow: 0px 1px 2px rgba(60, 64, 67, 0.3), 0px 1px 3px 1px rgba(60, 64, 67, 0.15);\n",
              "      fill: #174EA6;\n",
              "    }\n",
              "\n",
              "    .colab-df-buttons div {\n",
              "      margin-bottom: 4px;\n",
              "    }\n",
              "\n",
              "    [theme=dark] .colab-df-convert {\n",
              "      background-color: #3B4455;\n",
              "      fill: #D2E3FC;\n",
              "    }\n",
              "\n",
              "    [theme=dark] .colab-df-convert:hover {\n",
              "      background-color: #434B5C;\n",
              "      box-shadow: 0px 1px 3px 1px rgba(0, 0, 0, 0.15);\n",
              "      filter: drop-shadow(0px 1px 2px rgba(0, 0, 0, 0.3));\n",
              "      fill: #FFFFFF;\n",
              "    }\n",
              "  </style>\n",
              "\n",
              "    <script>\n",
              "      const buttonEl =\n",
              "        document.querySelector('#df-b496b600-a3c4-416c-a384-3443bc35eb83 button.colab-df-convert');\n",
              "      buttonEl.style.display =\n",
              "        google.colab.kernel.accessAllowed ? 'block' : 'none';\n",
              "\n",
              "      async function convertToInteractive(key) {\n",
              "        const element = document.querySelector('#df-b496b600-a3c4-416c-a384-3443bc35eb83');\n",
              "        const dataTable =\n",
              "          await google.colab.kernel.invokeFunction('convertToInteractive',\n",
              "                                                    [key], {});\n",
              "        if (!dataTable) return;\n",
              "\n",
              "        const docLinkHtml = 'Like what you see? Visit the ' +\n",
              "          '<a target=\"_blank\" href=https://colab.research.google.com/notebooks/data_table.ipynb>data table notebook</a>'\n",
              "          + ' to learn more about interactive tables.';\n",
              "        element.innerHTML = '';\n",
              "        dataTable['output_type'] = 'display_data';\n",
              "        await google.colab.output.renderOutput(dataTable, element);\n",
              "        const docLink = document.createElement('div');\n",
              "        docLink.innerHTML = docLinkHtml;\n",
              "        element.appendChild(docLink);\n",
              "      }\n",
              "    </script>\n",
              "  </div>\n",
              "\n",
              "\n",
              "    <div id=\"df-d7148cec-2f44-4237-8d2c-b1fb43aaaeb3\">\n",
              "      <button class=\"colab-df-quickchart\" onclick=\"quickchart('df-d7148cec-2f44-4237-8d2c-b1fb43aaaeb3')\"\n",
              "                title=\"Suggest charts\"\n",
              "                style=\"display:none;\">\n",
              "\n",
              "<svg xmlns=\"http://www.w3.org/2000/svg\" height=\"24px\"viewBox=\"0 0 24 24\"\n",
              "     width=\"24px\">\n",
              "    <g>\n",
              "        <path d=\"M19 3H5c-1.1 0-2 .9-2 2v14c0 1.1.9 2 2 2h14c1.1 0 2-.9 2-2V5c0-1.1-.9-2-2-2zM9 17H7v-7h2v7zm4 0h-2V7h2v10zm4 0h-2v-4h2v4z\"/>\n",
              "    </g>\n",
              "</svg>\n",
              "      </button>\n",
              "\n",
              "<style>\n",
              "  .colab-df-quickchart {\n",
              "      --bg-color: #E8F0FE;\n",
              "      --fill-color: #1967D2;\n",
              "      --hover-bg-color: #E2EBFA;\n",
              "      --hover-fill-color: #174EA6;\n",
              "      --disabled-fill-color: #AAA;\n",
              "      --disabled-bg-color: #DDD;\n",
              "  }\n",
              "\n",
              "  [theme=dark] .colab-df-quickchart {\n",
              "      --bg-color: #3B4455;\n",
              "      --fill-color: #D2E3FC;\n",
              "      --hover-bg-color: #434B5C;\n",
              "      --hover-fill-color: #FFFFFF;\n",
              "      --disabled-bg-color: #3B4455;\n",
              "      --disabled-fill-color: #666;\n",
              "  }\n",
              "\n",
              "  .colab-df-quickchart {\n",
              "    background-color: var(--bg-color);\n",
              "    border: none;\n",
              "    border-radius: 50%;\n",
              "    cursor: pointer;\n",
              "    display: none;\n",
              "    fill: var(--fill-color);\n",
              "    height: 32px;\n",
              "    padding: 0;\n",
              "    width: 32px;\n",
              "  }\n",
              "\n",
              "  .colab-df-quickchart:hover {\n",
              "    background-color: var(--hover-bg-color);\n",
              "    box-shadow: 0 1px 2px rgba(60, 64, 67, 0.3), 0 1px 3px 1px rgba(60, 64, 67, 0.15);\n",
              "    fill: var(--button-hover-fill-color);\n",
              "  }\n",
              "\n",
              "  .colab-df-quickchart-complete:disabled,\n",
              "  .colab-df-quickchart-complete:disabled:hover {\n",
              "    background-color: var(--disabled-bg-color);\n",
              "    fill: var(--disabled-fill-color);\n",
              "    box-shadow: none;\n",
              "  }\n",
              "\n",
              "  .colab-df-spinner {\n",
              "    border: 2px solid var(--fill-color);\n",
              "    border-color: transparent;\n",
              "    border-bottom-color: var(--fill-color);\n",
              "    animation:\n",
              "      spin 1s steps(1) infinite;\n",
              "  }\n",
              "\n",
              "  @keyframes spin {\n",
              "    0% {\n",
              "      border-color: transparent;\n",
              "      border-bottom-color: var(--fill-color);\n",
              "      border-left-color: var(--fill-color);\n",
              "    }\n",
              "    20% {\n",
              "      border-color: transparent;\n",
              "      border-left-color: var(--fill-color);\n",
              "      border-top-color: var(--fill-color);\n",
              "    }\n",
              "    30% {\n",
              "      border-color: transparent;\n",
              "      border-left-color: var(--fill-color);\n",
              "      border-top-color: var(--fill-color);\n",
              "      border-right-color: var(--fill-color);\n",
              "    }\n",
              "    40% {\n",
              "      border-color: transparent;\n",
              "      border-right-color: var(--fill-color);\n",
              "      border-top-color: var(--fill-color);\n",
              "    }\n",
              "    60% {\n",
              "      border-color: transparent;\n",
              "      border-right-color: var(--fill-color);\n",
              "    }\n",
              "    80% {\n",
              "      border-color: transparent;\n",
              "      border-right-color: var(--fill-color);\n",
              "      border-bottom-color: var(--fill-color);\n",
              "    }\n",
              "    90% {\n",
              "      border-color: transparent;\n",
              "      border-bottom-color: var(--fill-color);\n",
              "    }\n",
              "  }\n",
              "</style>\n",
              "\n",
              "      <script>\n",
              "        async function quickchart(key) {\n",
              "          const quickchartButtonEl =\n",
              "            document.querySelector('#' + key + ' button');\n",
              "          quickchartButtonEl.disabled = true;  // To prevent multiple clicks.\n",
              "          quickchartButtonEl.classList.add('colab-df-spinner');\n",
              "          try {\n",
              "            const charts = await google.colab.kernel.invokeFunction(\n",
              "                'suggestCharts', [key], {});\n",
              "          } catch (error) {\n",
              "            console.error('Error during call to suggestCharts:', error);\n",
              "          }\n",
              "          quickchartButtonEl.classList.remove('colab-df-spinner');\n",
              "          quickchartButtonEl.classList.add('colab-df-quickchart-complete');\n",
              "        }\n",
              "        (() => {\n",
              "          let quickchartButtonEl =\n",
              "            document.querySelector('#df-d7148cec-2f44-4237-8d2c-b1fb43aaaeb3 button');\n",
              "          quickchartButtonEl.style.display =\n",
              "            google.colab.kernel.accessAllowed ? 'block' : 'none';\n",
              "        })();\n",
              "      </script>\n",
              "    </div>\n",
              "\n",
              "    </div>\n",
              "  </div>\n"
            ],
            "application/vnd.google.colaboratory.intrinsic+json": {
              "type": "dataframe",
              "variable_name": "diabetes_dataset",
              "summary": "{\n  \"name\": \"diabetes_dataset\",\n  \"rows\": 768,\n  \"fields\": [\n    {\n      \"column\": \"Pregnancies\",\n      \"properties\": {\n        \"dtype\": \"number\",\n        \"std\": 3,\n        \"min\": 0,\n        \"max\": 17,\n        \"num_unique_values\": 17,\n        \"samples\": [\n          6,\n          1,\n          3\n        ],\n        \"semantic_type\": \"\",\n        \"description\": \"\"\n      }\n    },\n    {\n      \"column\": \"Glucose\",\n      \"properties\": {\n        \"dtype\": \"number\",\n        \"std\": 31,\n        \"min\": 0,\n        \"max\": 199,\n        \"num_unique_values\": 136,\n        \"samples\": [\n          151,\n          101,\n          112\n        ],\n        \"semantic_type\": \"\",\n        \"description\": \"\"\n      }\n    },\n    {\n      \"column\": \"BloodPressure\",\n      \"properties\": {\n        \"dtype\": \"number\",\n        \"std\": 19,\n        \"min\": 0,\n        \"max\": 122,\n        \"num_unique_values\": 47,\n        \"samples\": [\n          86,\n          46,\n          85\n        ],\n        \"semantic_type\": \"\",\n        \"description\": \"\"\n      }\n    },\n    {\n      \"column\": \"SkinThickness\",\n      \"properties\": {\n        \"dtype\": \"number\",\n        \"std\": 15,\n        \"min\": 0,\n        \"max\": 99,\n        \"num_unique_values\": 51,\n        \"samples\": [\n          7,\n          12,\n          48\n        ],\n        \"semantic_type\": \"\",\n        \"description\": \"\"\n      }\n    },\n    {\n      \"column\": \"Insulin\",\n      \"properties\": {\n        \"dtype\": \"number\",\n        \"std\": 115,\n        \"min\": 0,\n        \"max\": 846,\n        \"num_unique_values\": 186,\n        \"samples\": [\n          52,\n          41,\n          183\n        ],\n        \"semantic_type\": \"\",\n        \"description\": \"\"\n      }\n    },\n    {\n      \"column\": \"BMI\",\n      \"properties\": {\n        \"dtype\": \"number\",\n        \"std\": 7.8841603203754405,\n        \"min\": 0.0,\n        \"max\": 67.1,\n        \"num_unique_values\": 248,\n        \"samples\": [\n          19.9,\n          31.0,\n          38.1\n        ],\n        \"semantic_type\": \"\",\n        \"description\": \"\"\n      }\n    },\n    {\n      \"column\": \"DiabetesPedigreeFunction\",\n      \"properties\": {\n        \"dtype\": \"number\",\n        \"std\": 0.33132859501277484,\n        \"min\": 0.078,\n        \"max\": 2.42,\n        \"num_unique_values\": 517,\n        \"samples\": [\n          1.731,\n          0.426,\n          0.138\n        ],\n        \"semantic_type\": \"\",\n        \"description\": \"\"\n      }\n    },\n    {\n      \"column\": \"Age\",\n      \"properties\": {\n        \"dtype\": \"number\",\n        \"std\": 11,\n        \"min\": 21,\n        \"max\": 81,\n        \"num_unique_values\": 52,\n        \"samples\": [\n          60,\n          47,\n          72\n        ],\n        \"semantic_type\": \"\",\n        \"description\": \"\"\n      }\n    },\n    {\n      \"column\": \"Outcome\",\n      \"properties\": {\n        \"dtype\": \"number\",\n        \"std\": 0,\n        \"min\": 0,\n        \"max\": 1,\n        \"num_unique_values\": 2,\n        \"samples\": [\n          0,\n          1\n        ],\n        \"semantic_type\": \"\",\n        \"description\": \"\"\n      }\n    }\n  ]\n}"
            }
          },
          "metadata": {},
          "execution_count": 24
        }
      ]
    },
    {
      "cell_type": "code",
      "source": [
        "diabetes_dataset.shape"
      ],
      "metadata": {
        "colab": {
          "base_uri": "https://localhost:8080/"
        },
        "id": "LSmQRhX7b8LX",
        "outputId": "9702d558-e8b4-49ca-af08-28acfe27f182"
      },
      "execution_count": null,
      "outputs": [
        {
          "output_type": "execute_result",
          "data": {
            "text/plain": [
              "(768, 9)"
            ]
          },
          "metadata": {},
          "execution_count": 25
        }
      ]
    },
    {
      "cell_type": "code",
      "source": [
        "#seperating features and target\n",
        "x=diabetes_dataset.drop(columns='Outcome',axis=1)\n",
        "y=diabetes_dataset['Outcome']"
      ],
      "metadata": {
        "id": "gE80zOJscAdX"
      },
      "execution_count": null,
      "outputs": []
    },
    {
      "cell_type": "code",
      "source": [
        "#converting the data to numpy array\n",
        "x=x.to_numpy()\n",
        "y=y.to_numpy()"
      ],
      "metadata": {
        "id": "KMaQWUXLceQR"
      },
      "execution_count": null,
      "outputs": []
    },
    {
      "cell_type": "code",
      "source": [
        "print(x)\n",
        "print(y)"
      ],
      "metadata": {
        "colab": {
          "base_uri": "https://localhost:8080/"
        },
        "collapsed": true,
        "id": "Kh7ZEEzPcyjg",
        "outputId": "4cffd78f-9dff-41b3-bcc0-94f551c6c781"
      },
      "execution_count": null,
      "outputs": [
        {
          "output_type": "stream",
          "name": "stdout",
          "text": [
            "[[  6.    148.     72.    ...  33.6     0.627  50.   ]\n",
            " [  1.     85.     66.    ...  26.6     0.351  31.   ]\n",
            " [  8.    183.     64.    ...  23.3     0.672  32.   ]\n",
            " ...\n",
            " [  5.    121.     72.    ...  26.2     0.245  30.   ]\n",
            " [  1.    126.     60.    ...  30.1     0.349  47.   ]\n",
            " [  1.     93.     70.    ...  30.4     0.315  23.   ]]\n",
            "[1 0 1 0 1 0 1 0 1 1 0 1 0 1 1 1 1 1 0 1 0 0 1 1 1 1 1 0 0 0 0 1 0 0 0 0 0\n",
            " 1 1 1 0 0 0 1 0 1 0 0 1 0 0 0 0 1 0 0 1 0 0 0 0 1 0 0 1 0 1 0 0 0 1 0 1 0\n",
            " 0 0 0 0 1 0 0 0 0 0 1 0 0 0 1 0 0 0 0 1 0 0 0 0 0 1 1 0 0 0 0 0 0 0 0 1 1\n",
            " 1 0 0 1 1 1 0 0 0 1 0 0 0 1 1 0 0 1 1 1 1 1 0 0 0 0 0 0 0 0 0 0 1 0 0 0 0\n",
            " 0 0 0 0 1 0 1 1 0 0 0 1 0 0 0 0 1 1 0 0 0 0 1 1 0 0 0 1 0 1 0 1 0 0 0 0 0\n",
            " 1 1 1 1 1 0 0 1 1 0 1 0 1 1 1 0 0 0 0 0 0 1 1 0 1 0 0 0 1 1 1 1 0 1 1 1 1\n",
            " 0 0 0 0 0 1 0 0 1 1 0 0 0 1 1 1 1 0 0 0 1 1 0 1 0 0 0 0 0 0 0 0 1 1 0 0 0\n",
            " 1 0 1 0 0 1 0 1 0 0 1 1 0 0 0 0 0 1 0 0 0 1 0 0 1 1 0 0 1 0 0 0 1 1 1 0 0\n",
            " 1 0 1 0 1 1 0 1 0 0 1 0 1 1 0 0 1 0 1 0 0 1 0 1 0 1 1 1 0 0 1 0 1 0 0 0 1\n",
            " 0 0 0 0 1 1 1 0 0 0 0 0 0 0 0 0 1 0 0 0 0 0 1 1 1 0 1 1 0 0 1 0 0 1 0 0 1\n",
            " 1 0 0 0 0 1 0 0 1 0 0 0 0 0 0 0 1 1 1 0 0 1 0 0 1 0 0 1 0 1 1 0 1 0 1 0 1\n",
            " 0 1 1 0 0 0 0 1 1 0 1 0 1 0 0 0 0 1 1 0 1 0 1 0 0 0 0 0 1 0 0 0 0 1 0 0 1\n",
            " 1 1 0 0 1 0 0 1 0 0 0 1 0 0 1 0 0 0 0 0 0 0 0 0 1 0 0 0 0 0 0 0 1 0 0 0 1\n",
            " 0 0 0 1 1 0 0 0 0 0 0 0 1 0 0 0 0 1 0 0 0 1 0 0 0 1 0 0 0 1 0 0 0 0 1 1 0\n",
            " 0 0 0 0 0 1 0 0 0 0 0 0 0 0 0 0 0 1 0 0 0 1 1 1 1 0 0 1 1 0 0 0 0 0 0 0 0\n",
            " 0 0 0 0 0 1 1 0 0 0 0 0 0 0 1 0 0 0 0 0 0 0 1 0 1 1 0 0 0 1 0 1 0 1 0 1 0\n",
            " 1 0 0 1 0 0 1 0 0 0 0 1 1 0 1 0 0 0 0 1 1 0 1 0 0 0 1 1 0 0 0 0 0 0 0 0 0\n",
            " 0 1 0 0 0 0 1 0 0 1 0 0 0 1 0 0 0 1 1 1 0 0 0 0 0 0 1 0 0 0 1 0 1 1 1 1 0\n",
            " 1 1 0 0 0 0 0 0 0 1 1 0 1 0 0 1 0 1 0 0 0 0 0 1 0 1 0 1 0 1 1 0 0 0 0 1 1\n",
            " 0 0 0 1 0 1 1 0 0 1 0 0 1 1 0 0 1 0 0 1 0 0 0 0 0 0 0 1 1 1 0 0 0 0 0 0 1\n",
            " 1 0 0 1 0 0 1 0 1 1 1 0 0 1 1 1 0 1 0 1 0 1 0 0 0 0 1 0]\n"
          ]
        }
      ]
    },
    {
      "cell_type": "code",
      "source": [
        "# train test split\n",
        "x_train,x_test,y_train,y_test=train_test_split(x,y,test_size=0.2,stratify=y,random_state=2)"
      ],
      "metadata": {
        "id": "UAU6O-KXc1Co"
      },
      "execution_count": null,
      "outputs": []
    },
    {
      "cell_type": "code",
      "source": [
        "print(x.shape,x_train.shape,x_test.shape)"
      ],
      "metadata": {
        "colab": {
          "base_uri": "https://localhost:8080/"
        },
        "id": "fYlTtlN5dl7z",
        "outputId": "3ed40287-c871-4a84-edc5-8d164254da3a"
      },
      "execution_count": null,
      "outputs": [
        {
          "output_type": "stream",
          "name": "stdout",
          "text": [
            "(768, 8) (614, 8) (154, 8)\n"
          ]
        }
      ]
    },
    {
      "cell_type": "code",
      "source": [
        "print(x_train)"
      ],
      "metadata": {
        "colab": {
          "base_uri": "https://localhost:8080/"
        },
        "id": "gAy3PdWrdseF",
        "outputId": "bc91eaa2-9799-4803-b7e7-965b6af753a1"
      },
      "execution_count": null,
      "outputs": [
        {
          "output_type": "stream",
          "name": "stdout",
          "text": [
            "[[0.00e+00 1.19e+02 0.00e+00 ... 3.24e+01 1.41e-01 2.40e+01]\n",
            " [6.00e+00 1.05e+02 7.00e+01 ... 3.08e+01 1.22e-01 3.70e+01]\n",
            " [1.00e+00 1.89e+02 6.00e+01 ... 3.01e+01 3.98e-01 5.90e+01]\n",
            " ...\n",
            " [1.10e+01 8.50e+01 7.40e+01 ... 3.01e+01 3.00e-01 3.50e+01]\n",
            " [4.00e+00 1.12e+02 7.80e+01 ... 3.94e+01 2.36e-01 3.80e+01]\n",
            " [0.00e+00 8.60e+01 6.80e+01 ... 3.58e+01 2.38e-01 2.50e+01]]\n"
          ]
        }
      ]
    },
    {
      "cell_type": "code",
      "source": [
        "print(y)"
      ],
      "metadata": {
        "colab": {
          "base_uri": "https://localhost:8080/"
        },
        "id": "aAZN0OCegBKZ",
        "outputId": "70ec870b-ae8c-4b0b-9c5d-0a2d565c152b"
      },
      "execution_count": null,
      "outputs": [
        {
          "output_type": "stream",
          "name": "stdout",
          "text": [
            "[1 0 1 0 1 0 1 0 1 1 0 1 0 1 1 1 1 1 0 1 0 0 1 1 1 1 1 0 0 0 0 1 0 0 0 0 0\n",
            " 1 1 1 0 0 0 1 0 1 0 0 1 0 0 0 0 1 0 0 1 0 0 0 0 1 0 0 1 0 1 0 0 0 1 0 1 0\n",
            " 0 0 0 0 1 0 0 0 0 0 1 0 0 0 1 0 0 0 0 1 0 0 0 0 0 1 1 0 0 0 0 0 0 0 0 1 1\n",
            " 1 0 0 1 1 1 0 0 0 1 0 0 0 1 1 0 0 1 1 1 1 1 0 0 0 0 0 0 0 0 0 0 1 0 0 0 0\n",
            " 0 0 0 0 1 0 1 1 0 0 0 1 0 0 0 0 1 1 0 0 0 0 1 1 0 0 0 1 0 1 0 1 0 0 0 0 0\n",
            " 1 1 1 1 1 0 0 1 1 0 1 0 1 1 1 0 0 0 0 0 0 1 1 0 1 0 0 0 1 1 1 1 0 1 1 1 1\n",
            " 0 0 0 0 0 1 0 0 1 1 0 0 0 1 1 1 1 0 0 0 1 1 0 1 0 0 0 0 0 0 0 0 1 1 0 0 0\n",
            " 1 0 1 0 0 1 0 1 0 0 1 1 0 0 0 0 0 1 0 0 0 1 0 0 1 1 0 0 1 0 0 0 1 1 1 0 0\n",
            " 1 0 1 0 1 1 0 1 0 0 1 0 1 1 0 0 1 0 1 0 0 1 0 1 0 1 1 1 0 0 1 0 1 0 0 0 1\n",
            " 0 0 0 0 1 1 1 0 0 0 0 0 0 0 0 0 1 0 0 0 0 0 1 1 1 0 1 1 0 0 1 0 0 1 0 0 1\n",
            " 1 0 0 0 0 1 0 0 1 0 0 0 0 0 0 0 1 1 1 0 0 1 0 0 1 0 0 1 0 1 1 0 1 0 1 0 1\n",
            " 0 1 1 0 0 0 0 1 1 0 1 0 1 0 0 0 0 1 1 0 1 0 1 0 0 0 0 0 1 0 0 0 0 1 0 0 1\n",
            " 1 1 0 0 1 0 0 1 0 0 0 1 0 0 1 0 0 0 0 0 0 0 0 0 1 0 0 0 0 0 0 0 1 0 0 0 1\n",
            " 0 0 0 1 1 0 0 0 0 0 0 0 1 0 0 0 0 1 0 0 0 1 0 0 0 1 0 0 0 1 0 0 0 0 1 1 0\n",
            " 0 0 0 0 0 1 0 0 0 0 0 0 0 0 0 0 0 1 0 0 0 1 1 1 1 0 0 1 1 0 0 0 0 0 0 0 0\n",
            " 0 0 0 0 0 1 1 0 0 0 0 0 0 0 1 0 0 0 0 0 0 0 1 0 1 1 0 0 0 1 0 1 0 1 0 1 0\n",
            " 1 0 0 1 0 0 1 0 0 0 0 1 1 0 1 0 0 0 0 1 1 0 1 0 0 0 1 1 0 0 0 0 0 0 0 0 0\n",
            " 0 1 0 0 0 0 1 0 0 1 0 0 0 1 0 0 0 1 1 1 0 0 0 0 0 0 1 0 0 0 1 0 1 1 1 1 0\n",
            " 1 1 0 0 0 0 0 0 0 1 1 0 1 0 0 1 0 1 0 0 0 0 0 1 0 1 0 1 0 1 1 0 0 0 0 1 1\n",
            " 0 0 0 1 0 1 1 0 0 1 0 0 1 1 0 0 1 0 0 1 0 0 0 0 0 0 0 1 1 1 0 0 0 0 0 0 1\n",
            " 1 0 0 1 0 0 1 0 1 1 1 0 0 1 1 1 0 1 0 1 0 1 0 0 0 0 1 0]\n"
          ]
        }
      ]
    },
    {
      "cell_type": "code",
      "source": [
        "x_train=np.insert(x_train,8,y_train,axis=1)"
      ],
      "metadata": {
        "id": "QIBIRFfkgbc-"
      },
      "execution_count": null,
      "outputs": []
    },
    {
      "cell_type": "code",
      "source": [
        "print(x_train)"
      ],
      "metadata": {
        "colab": {
          "base_uri": "https://localhost:8080/"
        },
        "id": "ImXHxMSJhtZS",
        "outputId": "203679fa-eda6-4e0e-8488-6d2a788532d7"
      },
      "execution_count": null,
      "outputs": [
        {
          "output_type": "stream",
          "name": "stdout",
          "text": [
            "[[0.00e+00 1.19e+02 0.00e+00 ... 1.41e-01 2.40e+01 1.00e+00]\n",
            " [6.00e+00 1.05e+02 7.00e+01 ... 1.22e-01 3.70e+01 0.00e+00]\n",
            " [1.00e+00 1.89e+02 6.00e+01 ... 3.98e-01 5.90e+01 1.00e+00]\n",
            " ...\n",
            " [1.10e+01 8.50e+01 7.40e+01 ... 3.00e-01 3.50e+01 0.00e+00]\n",
            " [4.00e+00 1.12e+02 7.80e+01 ... 2.36e-01 3.80e+01 0.00e+00]\n",
            " [0.00e+00 8.60e+01 6.80e+01 ... 2.38e-01 2.50e+01 0.00e+00]]\n"
          ]
        }
      ]
    },
    {
      "cell_type": "code",
      "source": [
        "x_train.shape"
      ],
      "metadata": {
        "colab": {
          "base_uri": "https://localhost:8080/"
        },
        "id": "10jj9riuh02E",
        "outputId": "69278018-8159-44a6-bb0e-3afdc8d5f5bd"
      },
      "execution_count": null,
      "outputs": [
        {
          "output_type": "execute_result",
          "data": {
            "text/plain": [
              "(614, 9)"
            ]
          },
          "metadata": {},
          "execution_count": 36
        }
      ]
    },
    {
      "cell_type": "code",
      "source": [
        "print(x_train[:,8])"
      ],
      "metadata": {
        "colab": {
          "base_uri": "https://localhost:8080/"
        },
        "collapsed": true,
        "id": "kuW2cay0iEL8",
        "outputId": "ebcbc17d-865a-4f45-dc02-2771d09aa805"
      },
      "execution_count": null,
      "outputs": [
        {
          "output_type": "stream",
          "name": "stdout",
          "text": [
            "[1. 0. 1. 1. 1. 1. 0. 1. 0. 0. 1. 1. 0. 0. 0. 0. 0. 0. 0. 1. 0. 0. 0. 0.\n",
            " 0. 0. 1. 1. 0. 1. 0. 0. 0. 0. 1. 1. 0. 0. 0. 0. 0. 1. 0. 0. 0. 0. 0. 0.\n",
            " 1. 0. 1. 0. 0. 0. 0. 0. 1. 0. 1. 0. 0. 0. 0. 0. 0. 0. 0. 1. 1. 1. 0. 0.\n",
            " 0. 1. 1. 0. 1. 0. 1. 0. 0. 1. 1. 0. 0. 0. 0. 1. 1. 0. 0. 0. 1. 0. 0. 1.\n",
            " 0. 0. 1. 1. 0. 1. 0. 0. 1. 0. 0. 0. 0. 0. 0. 0. 1. 0. 0. 0. 0. 0. 1. 1.\n",
            " 0. 0. 1. 0. 0. 1. 0. 1. 0. 1. 1. 1. 1. 0. 0. 0. 0. 1. 0. 0. 0. 1. 0. 0.\n",
            " 0. 1. 1. 0. 1. 1. 0. 1. 1. 1. 1. 0. 0. 0. 1. 0. 0. 1. 0. 1. 0. 0. 1. 0.\n",
            " 0. 0. 0. 1. 0. 1. 1. 0. 1. 1. 0. 0. 0. 1. 0. 0. 0. 0. 1. 0. 1. 0. 1. 0.\n",
            " 0. 1. 0. 1. 0. 0. 1. 0. 1. 0. 0. 1. 1. 0. 1. 0. 0. 0. 0. 0. 0. 0. 1. 0.\n",
            " 1. 0. 0. 0. 1. 0. 0. 1. 1. 0. 0. 1. 0. 0. 1. 0. 0. 0. 1. 1. 1. 0. 0. 0.\n",
            " 0. 0. 0. 1. 0. 0. 0. 0. 0. 0. 1. 1. 0. 1. 0. 1. 1. 1. 1. 0. 0. 1. 0. 0.\n",
            " 1. 1. 0. 0. 0. 0. 1. 0. 0. 0. 1. 1. 1. 1. 1. 0. 1. 1. 0. 0. 0. 0. 0. 0.\n",
            " 0. 0. 0. 0. 0. 0. 1. 1. 0. 0. 0. 0. 1. 1. 0. 0. 0. 0. 0. 0. 0. 0. 0. 0.\n",
            " 1. 0. 1. 0. 0. 0. 1. 1. 1. 0. 0. 0. 0. 1. 0. 0. 0. 0. 0. 0. 0. 0. 1. 0.\n",
            " 0. 0. 0. 0. 0. 1. 1. 0. 0. 0. 0. 1. 1. 0. 1. 0. 0. 0. 1. 0. 0. 0. 0. 1.\n",
            " 0. 1. 0. 1. 1. 0. 0. 0. 0. 0. 0. 1. 1. 1. 1. 0. 1. 1. 1. 0. 1. 0. 0. 0.\n",
            " 1. 0. 1. 0. 0. 0. 1. 0. 0. 1. 1. 0. 0. 0. 0. 0. 1. 0. 0. 0. 0. 1. 0. 1.\n",
            " 0. 0. 0. 0. 0. 0. 1. 0. 0. 0. 0. 1. 0. 0. 0. 0. 0. 1. 0. 0. 0. 1. 0. 0.\n",
            " 0. 0. 1. 0. 1. 0. 0. 1. 0. 0. 0. 0. 1. 1. 1. 0. 0. 0. 1. 0. 0. 0. 1. 1.\n",
            " 0. 0. 1. 1. 0. 0. 0. 1. 0. 1. 1. 0. 1. 0. 0. 1. 1. 0. 0. 0. 0. 0. 1. 0.\n",
            " 1. 0. 0. 0. 0. 0. 0. 1. 0. 0. 0. 1. 0. 0. 0. 0. 1. 0. 0. 1. 0. 0. 1. 1.\n",
            " 0. 1. 0. 0. 1. 1. 0. 1. 0. 0. 1. 1. 0. 0. 0. 1. 0. 1. 0. 1. 1. 0. 0. 0.\n",
            " 0. 0. 0. 1. 0. 0. 1. 0. 1. 1. 1. 1. 1. 1. 0. 1. 1. 0. 1. 0. 1. 1. 0. 1.\n",
            " 0. 1. 0. 0. 0. 0. 0. 0. 0. 1. 0. 0. 0. 0. 0. 1. 1. 0. 1. 1. 0. 0. 1. 0.\n",
            " 1. 1. 1. 0. 0. 0. 0. 0. 0. 0. 0. 1. 0. 1. 0. 0. 0. 0. 0. 0. 1. 0. 0. 0.\n",
            " 1. 1. 0. 1. 0. 0. 1. 0. 0. 1. 1. 0. 0. 0.]\n"
          ]
        }
      ]
    },
    {
      "cell_type": "markdown",
      "source": [
        "x_train-->training data with features and target\n",
        "\n",
        "x_test-->test data without target"
      ],
      "metadata": {
        "id": "VJNUAHFtiaUx"
      }
    },
    {
      "cell_type": "markdown",
      "source": [
        "Model Training:KNN Classifier"
      ],
      "metadata": {
        "id": "b-6wObTiiqku"
      }
    },
    {
      "cell_type": "code",
      "source": [
        "classifier=KNN_Classifier(distance_metric='euclidean')"
      ],
      "metadata": {
        "id": "lrMpwH4RiPCA"
      },
      "execution_count": null,
      "outputs": []
    },
    {
      "cell_type": "markdown",
      "source": [
        "NOTE:The KNN Classifier can predict the label for only one data point at a time"
      ],
      "metadata": {
        "id": "u5XgE8S4kx6n"
      }
    },
    {
      "cell_type": "code",
      "source": [
        "prediction=classifier.predict(x_train,x_test[0],k=5)"
      ],
      "metadata": {
        "id": "ZudDV-Hsi51N"
      },
      "execution_count": null,
      "outputs": []
    },
    {
      "cell_type": "code",
      "source": [
        "print(x_test[0])"
      ],
      "metadata": {
        "colab": {
          "base_uri": "https://localhost:8080/"
        },
        "id": "4goGokyDmMNr",
        "outputId": "c248f235-5e76-49f5-f8f5-b7c52489feb2"
      },
      "execution_count": null,
      "outputs": [
        {
          "output_type": "stream",
          "name": "stdout",
          "text": [
            "[  3.    106.     72.      0.      0.     25.8     0.207  27.   ]\n"
          ]
        }
      ]
    },
    {
      "cell_type": "code",
      "source": [
        "print(y_test[0])"
      ],
      "metadata": {
        "colab": {
          "base_uri": "https://localhost:8080/"
        },
        "id": "58zlNjlMmPEp",
        "outputId": "adfdddb4-9f97-4e3c-8084-e9532a1feb5d"
      },
      "execution_count": null,
      "outputs": [
        {
          "output_type": "stream",
          "name": "stdout",
          "text": [
            "0\n"
          ]
        }
      ]
    },
    {
      "cell_type": "code",
      "source": [
        "print(prediction)"
      ],
      "metadata": {
        "colab": {
          "base_uri": "https://localhost:8080/"
        },
        "id": "0f8mzF6LmT8D",
        "outputId": "19c648cc-fc0d-4ade-f6d2-dcdd944910ae"
      },
      "execution_count": null,
      "outputs": [
        {
          "output_type": "stream",
          "name": "stdout",
          "text": [
            "0.0\n"
          ]
        }
      ]
    },
    {
      "cell_type": "code",
      "source": [
        "x_test.shape"
      ],
      "metadata": {
        "colab": {
          "base_uri": "https://localhost:8080/"
        },
        "id": "kJtXX116mdhp",
        "outputId": "a128b654-2e6f-4a55-a0af-0b720841e7d8"
      },
      "execution_count": null,
      "outputs": [
        {
          "output_type": "execute_result",
          "data": {
            "text/plain": [
              "(154, 8)"
            ]
          },
          "metadata": {},
          "execution_count": 43
        }
      ]
    },
    {
      "cell_type": "code",
      "source": [
        "x_test_size=x_test.shape[0]\n",
        "print(x_test_size)"
      ],
      "metadata": {
        "colab": {
          "base_uri": "https://localhost:8080/"
        },
        "id": "e-3KCmC4nCnF",
        "outputId": "546c4c7e-c4a9-4808-bcfc-9535e62eb4c2"
      },
      "execution_count": null,
      "outputs": [
        {
          "output_type": "stream",
          "name": "stdout",
          "text": [
            "154\n"
          ]
        }
      ]
    },
    {
      "cell_type": "code",
      "source": [
        "y_pred=[]\n",
        "\n",
        "for i in range(x_test_size):\n",
        "  prediction=classifier.predict(x_train,x_test[i],k=5)\n",
        "  y_pred.append(prediction)"
      ],
      "metadata": {
        "id": "b-cEMjWVnecK"
      },
      "execution_count": null,
      "outputs": []
    },
    {
      "cell_type": "code",
      "source": [
        "print(y_pred)"
      ],
      "metadata": {
        "colab": {
          "base_uri": "https://localhost:8080/"
        },
        "id": "wMKhslxQomqZ",
        "outputId": "21c9b8fd-596c-48d9-f059-04f023feceb4"
      },
      "execution_count": null,
      "outputs": [
        {
          "output_type": "stream",
          "name": "stdout",
          "text": [
            "[np.float64(0.0), np.float64(1.0), np.float64(0.0), np.float64(1.0), np.float64(1.0), np.float64(0.0), np.float64(0.0), np.float64(0.0), np.float64(0.0), np.float64(0.0), np.float64(1.0), np.float64(0.0), np.float64(0.0), np.float64(0.0), np.float64(0.0), np.float64(1.0), np.float64(0.0), np.float64(0.0), np.float64(0.0), np.float64(0.0), np.float64(0.0), np.float64(1.0), np.float64(0.0), np.float64(0.0), np.float64(0.0), np.float64(0.0), np.float64(0.0), np.float64(1.0), np.float64(0.0), np.float64(1.0), np.float64(1.0), np.float64(0.0), np.float64(0.0), np.float64(1.0), np.float64(0.0), np.float64(0.0), np.float64(0.0), np.float64(0.0), np.float64(0.0), np.float64(1.0), np.float64(1.0), np.float64(0.0), np.float64(0.0), np.float64(1.0), np.float64(1.0), np.float64(0.0), np.float64(1.0), np.float64(0.0), np.float64(0.0), np.float64(0.0), np.float64(0.0), np.float64(0.0), np.float64(0.0), np.float64(0.0), np.float64(1.0), np.float64(0.0), np.float64(0.0), np.float64(0.0), np.float64(0.0), np.float64(0.0), np.float64(1.0), np.float64(0.0), np.float64(1.0), np.float64(0.0), np.float64(0.0), np.float64(1.0), np.float64(0.0), np.float64(1.0), np.float64(0.0), np.float64(0.0), np.float64(1.0), np.float64(0.0), np.float64(0.0), np.float64(0.0), np.float64(0.0), np.float64(0.0), np.float64(0.0), np.float64(0.0), np.float64(0.0), np.float64(0.0), np.float64(0.0), np.float64(0.0), np.float64(0.0), np.float64(0.0), np.float64(0.0), np.float64(1.0), np.float64(0.0), np.float64(0.0), np.float64(0.0), np.float64(1.0), np.float64(0.0), np.float64(0.0), np.float64(1.0), np.float64(0.0), np.float64(0.0), np.float64(1.0), np.float64(0.0), np.float64(0.0), np.float64(1.0), np.float64(0.0), np.float64(0.0), np.float64(0.0), np.float64(1.0), np.float64(1.0), np.float64(1.0), np.float64(0.0), np.float64(0.0), np.float64(0.0), np.float64(1.0), np.float64(0.0), np.float64(1.0), np.float64(0.0), np.float64(1.0), np.float64(0.0), np.float64(0.0), np.float64(1.0), np.float64(0.0), np.float64(1.0), np.float64(0.0), np.float64(0.0), np.float64(1.0), np.float64(0.0), np.float64(0.0), np.float64(1.0), np.float64(0.0), np.float64(0.0), np.float64(0.0), np.float64(0.0), np.float64(0.0), np.float64(0.0), np.float64(0.0), np.float64(1.0), np.float64(1.0), np.float64(1.0), np.float64(0.0), np.float64(0.0), np.float64(0.0), np.float64(0.0), np.float64(0.0), np.float64(0.0), np.float64(1.0), np.float64(0.0), np.float64(0.0), np.float64(1.0), np.float64(0.0), np.float64(1.0), np.float64(0.0), np.float64(1.0), np.float64(0.0), np.float64(0.0), np.float64(1.0), np.float64(0.0), np.float64(0.0), np.float64(1.0)]\n"
          ]
        }
      ]
    },
    {
      "cell_type": "code",
      "source": [
        "y_true=y_test"
      ],
      "metadata": {
        "id": "h5JhteWeotiw"
      },
      "execution_count": null,
      "outputs": []
    },
    {
      "cell_type": "markdown",
      "source": [
        "Model Evaluation"
      ],
      "metadata": {
        "id": "WZM3gsXIpFmk"
      }
    },
    {
      "cell_type": "code",
      "source": [
        "accuracy=accuracy_score(y_true,y_pred)"
      ],
      "metadata": {
        "id": "Yhhten6Vo09i"
      },
      "execution_count": null,
      "outputs": []
    },
    {
      "cell_type": "code",
      "source": [
        "print(accuracy*100)  # accuracy score in %"
      ],
      "metadata": {
        "colab": {
          "base_uri": "https://localhost:8080/"
        },
        "id": "MT6QnXHLpPL6",
        "outputId": "0d16f829-018c-409d-ec87-1edf5d084ddc"
      },
      "execution_count": null,
      "outputs": [
        {
          "output_type": "stream",
          "name": "stdout",
          "text": [
            "69.48051948051948\n"
          ]
        }
      ]
    }
  ]
}