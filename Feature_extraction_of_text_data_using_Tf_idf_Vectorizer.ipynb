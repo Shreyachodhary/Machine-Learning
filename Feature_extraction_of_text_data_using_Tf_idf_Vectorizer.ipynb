{
  "nbformat": 4,
  "nbformat_minor": 0,
  "metadata": {
    "colab": {
      "provenance": []
    },
    "kernelspec": {
      "name": "python3",
      "display_name": "Python 3"
    },
    "language_info": {
      "name": "python"
    }
  },
  "cells": [
    {
      "cell_type": "markdown",
      "source": [
        "**Feature extraction**\n",
        "\n",
        "The mapping from textual data to real valued vectors(numerical data) beacuse it is easy for machine to understand numerical data.  "
      ],
      "metadata": {
        "id": "uio64D95SxA_"
      }
    },
    {
      "cell_type": "markdown",
      "source": [
        "**Bag of words(BOW):**\n",
        "\n",
        "list of unique words in the text corpus(collection of words like a paragraph).\n",
        "\n",
        "**Term Frequency-Inverse Document Frequency(TF-IDF):**\n",
        "  \n",
        "To count the number of times each word appears in a document.\n",
        "\n",
        "\n",
        "**Term Frequency(TF)**=(Number of times term t appears in a document)/(Number of terms in the document)\n",
        "\n",
        "**Inverse Document Frequency(IDF)**=log(N/n),where,N is the number of words and n is the number of documents a term t has appeared in.\n",
        "\n",
        "IDF value of a rare word is high,whereas the IDF of a frequent word is low.\n",
        "\n",
        "**TF-IDF value of a term =TF X IDF**\n"
      ],
      "metadata": {
        "id": "iq4sB8vUUGVv"
      }
    },
    {
      "cell_type": "code",
      "execution_count": null,
      "metadata": {
        "id": "Le-TmSqRSLqp"
      },
      "outputs": [],
      "source": []
    }
  ]
}