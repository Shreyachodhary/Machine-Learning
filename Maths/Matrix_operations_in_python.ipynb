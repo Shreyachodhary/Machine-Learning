{
  "nbformat": 4,
  "nbformat_minor": 0,
  "metadata": {
    "colab": {
      "provenance": []
    },
    "kernelspec": {
      "name": "python3",
      "display_name": "Python 3"
    },
    "language_info": {
      "name": "python"
    }
  },
  "cells": [
    {
      "cell_type": "code",
      "execution_count": null,
      "metadata": {
        "id": "fQxJ3gCJoIlS"
      },
      "outputs": [],
      "source": [
        "import numpy as np"
      ]
    },
    {
      "cell_type": "markdown",
      "source": [
        "Creating a Matrix using numpy"
      ],
      "metadata": {
        "id": "ZO0tHGAjollJ"
      }
    },
    {
      "cell_type": "code",
      "source": [
        "matrix_1=np.array([[2,3],[6,7]])\n",
        "print(matrix_1)"
      ],
      "metadata": {
        "colab": {
          "base_uri": "https://localhost:8080/"
        },
        "id": "CAnsKX_8osMH",
        "outputId": "34beb2b4-9e69-460a-d072-8c17475b2e0a"
      },
      "execution_count": null,
      "outputs": [
        {
          "output_type": "stream",
          "name": "stdout",
          "text": [
            "[[2 3]\n",
            " [6 7]]\n"
          ]
        }
      ]
    },
    {
      "cell_type": "code",
      "source": [
        "matrix_1.shape"
      ],
      "metadata": {
        "colab": {
          "base_uri": "https://localhost:8080/"
        },
        "id": "kLRYR6Ego9UW",
        "outputId": "75f57a15-b2e1-4f39-a9c7-18acaff0d4f3"
      },
      "execution_count": null,
      "outputs": [
        {
          "output_type": "execute_result",
          "data": {
            "text/plain": [
              "(2, 2)"
            ]
          },
          "metadata": {},
          "execution_count": 4
        }
      ]
    },
    {
      "cell_type": "code",
      "source": [
        "matrix_2=np.array([[10,35,45],[50,64,80],[20,15,90]])\n",
        "print(matrix_2)"
      ],
      "metadata": {
        "colab": {
          "base_uri": "https://localhost:8080/"
        },
        "id": "y0LKX2IDpUkJ",
        "outputId": "764a5171-ba11-4079-cefe-4327e593709c"
      },
      "execution_count": null,
      "outputs": [
        {
          "output_type": "stream",
          "name": "stdout",
          "text": [
            "[[10 35 45]\n",
            " [50 64 80]\n",
            " [20 15 90]]\n"
          ]
        }
      ]
    },
    {
      "cell_type": "code",
      "source": [
        "matrix_2.shape"
      ],
      "metadata": {
        "colab": {
          "base_uri": "https://localhost:8080/"
        },
        "id": "TbWlrrnRqI_Z",
        "outputId": "eb7c89ec-ec93-46fa-edab-e4d887916fa8"
      },
      "execution_count": null,
      "outputs": [
        {
          "output_type": "execute_result",
          "data": {
            "text/plain": [
              "(3, 3)"
            ]
          },
          "metadata": {},
          "execution_count": 8
        }
      ]
    },
    {
      "cell_type": "markdown",
      "source": [
        "Creating matrices with random values"
      ],
      "metadata": {
        "id": "UkhkWzgPq5VD"
      }
    },
    {
      "cell_type": "code",
      "source": [
        "random_matrix=np.random.rand(3,3)\n",
        "print(random_matrix)"
      ],
      "metadata": {
        "colab": {
          "base_uri": "https://localhost:8080/"
        },
        "id": "ihnV_D9kq2sP",
        "outputId": "68db6397-e120-4a47-fb95-fb7a875d3361"
      },
      "execution_count": null,
      "outputs": [
        {
          "output_type": "stream",
          "name": "stdout",
          "text": [
            "[[0.60257248 0.25990403 0.51707809]\n",
            " [0.42665792 0.08712885 0.04151462]\n",
            " [0.49850429 0.93875732 0.47766975]]\n"
          ]
        }
      ]
    },
    {
      "cell_type": "code",
      "source": [
        "# creatiing matrix with random integers\n",
        "random_integer_matrix=np.random.randint(100,size=(4,5))\n",
        "print(random_integer_matrix)"
      ],
      "metadata": {
        "colab": {
          "base_uri": "https://localhost:8080/"
        },
        "id": "PRmsbVayrNdF",
        "outputId": "a48dd073-9b11-4050-b3c7-b00c44667acb"
      },
      "execution_count": null,
      "outputs": [
        {
          "output_type": "stream",
          "name": "stdout",
          "text": [
            "[[36 49 59 84 68]\n",
            " [95 97 46 37  1]\n",
            " [ 2 40  5 56 69]\n",
            " [66 79 95 70 65]]\n"
          ]
        }
      ]
    },
    {
      "cell_type": "markdown",
      "source": [
        "Matrix with all the values as 1"
      ],
      "metadata": {
        "id": "Ek9eD4QvsCsN"
      }
    },
    {
      "cell_type": "code",
      "source": [
        "matrix_3=np.ones((2,3))\n",
        "print(matrix_3)"
      ],
      "metadata": {
        "colab": {
          "base_uri": "https://localhost:8080/"
        },
        "id": "0jEKsLQIr0sJ",
        "outputId": "9683ecc1-48ce-46d5-b69e-443ea88a952f"
      },
      "execution_count": null,
      "outputs": [
        {
          "output_type": "stream",
          "name": "stdout",
          "text": [
            "[[1. 1. 1.]\n",
            " [1. 1. 1.]]\n"
          ]
        }
      ]
    },
    {
      "cell_type": "code",
      "source": [
        "matrix_3=np.ones((2,3),dtype=int)\n",
        "print(matrix_3)"
      ],
      "metadata": {
        "colab": {
          "base_uri": "https://localhost:8080/"
        },
        "id": "Tp2lwxy-sM6L",
        "outputId": "5a930fbe-9667-4022-b009-d4978d867efd"
      },
      "execution_count": null,
      "outputs": [
        {
          "output_type": "stream",
          "name": "stdout",
          "text": [
            "[[1 1 1]\n",
            " [1 1 1]]\n"
          ]
        }
      ]
    },
    {
      "cell_type": "markdown",
      "source": [
        "Null matrix or zero matrix"
      ],
      "metadata": {
        "id": "PV1tp3Ovswrr"
      }
    },
    {
      "cell_type": "code",
      "source": [
        "null_matrix=np.zeros((4,4))\n",
        "print(null_matrix)"
      ],
      "metadata": {
        "colab": {
          "base_uri": "https://localhost:8080/"
        },
        "id": "vOM8AzfcspzN",
        "outputId": "dcd58f73-c652-44fa-c9a7-d0c62b6549ed"
      },
      "execution_count": null,
      "outputs": [
        {
          "output_type": "stream",
          "name": "stdout",
          "text": [
            "[[0. 0. 0. 0.]\n",
            " [0. 0. 0. 0.]\n",
            " [0. 0. 0. 0.]\n",
            " [0. 0. 0. 0.]]\n"
          ]
        }
      ]
    },
    {
      "cell_type": "markdown",
      "source": [
        "Identity Matrix"
      ],
      "metadata": {
        "id": "_OtFmuy4tKLO"
      }
    },
    {
      "cell_type": "code",
      "source": [
        "identity_matrix=np.eye(3,3)\n",
        "print(identity_matrix)"
      ],
      "metadata": {
        "colab": {
          "base_uri": "https://localhost:8080/"
        },
        "id": "HFsz026Qs-UF",
        "outputId": "5bbc3add-e1a0-4a48-aec5-7a46c6734de3"
      },
      "execution_count": null,
      "outputs": [
        {
          "output_type": "stream",
          "name": "stdout",
          "text": [
            "[[1. 0. 0.]\n",
            " [0. 1. 0.]\n",
            " [0. 0. 1.]]\n"
          ]
        }
      ]
    },
    {
      "cell_type": "markdown",
      "source": [
        "Transpose of a matrix"
      ],
      "metadata": {
        "id": "Enkk9jtCtf6I"
      }
    },
    {
      "cell_type": "code",
      "source": [
        "# creatiing matrix with random integers\n",
        "a=np.random.randint(100,size=(4,5))\n",
        "print(a)"
      ],
      "metadata": {
        "colab": {
          "base_uri": "https://localhost:8080/"
        },
        "id": "BHFZK9xytazl",
        "outputId": "f0699fff-a448-4510-ac55-4117398a86f7"
      },
      "execution_count": null,
      "outputs": [
        {
          "output_type": "stream",
          "name": "stdout",
          "text": [
            "[[53 63 80  5 31]\n",
            " [70 81  7  0 23]\n",
            " [24 59 33 39 77]\n",
            " [81 95 84 93 44]]\n"
          ]
        }
      ]
    },
    {
      "cell_type": "code",
      "source": [
        "transpose_of_a=np.transpose(a)\n",
        "print(transpose_of_a)"
      ],
      "metadata": {
        "colab": {
          "base_uri": "https://localhost:8080/"
        },
        "id": "gBPY8Srctwq6",
        "outputId": "85cc699a-8de7-4476-cda4-87e8ccd78514"
      },
      "execution_count": null,
      "outputs": [
        {
          "output_type": "stream",
          "name": "stdout",
          "text": [
            "[[53 70 24 81]\n",
            " [63 81 59 95]\n",
            " [80  7 33 84]\n",
            " [ 5  0 39 93]\n",
            " [31 23 77 44]]\n"
          ]
        }
      ]
    },
    {
      "cell_type": "markdown",
      "source": [
        "Matrix addiction"
      ],
      "metadata": {
        "id": "OjBHIpbPnqoH"
      }
    },
    {
      "cell_type": "markdown",
      "source": [
        "Two matrices can be added only if they have the same shape."
      ],
      "metadata": {
        "id": "4kVv1_GInujX"
      }
    },
    {
      "cell_type": "code",
      "source": [
        "# creating two two matrices\n",
        "\n",
        "A=np.array([[2,3],[4,5]])\n",
        "B=np.array([[6,7],[8,9]])"
      ],
      "metadata": {
        "id": "CMdmT2OuuBR7"
      },
      "execution_count": null,
      "outputs": []
    },
    {
      "cell_type": "code",
      "source": [
        "print(A)\n",
        "print(B)"
      ],
      "metadata": {
        "colab": {
          "base_uri": "https://localhost:8080/"
        },
        "id": "JfCQNF7-oiFD",
        "outputId": "86e6e0b9-e1df-4d7a-ed31-b76ba9e0956c"
      },
      "execution_count": null,
      "outputs": [
        {
          "output_type": "stream",
          "name": "stdout",
          "text": [
            "[[2 3]\n",
            " [4 5]]\n",
            "[[6 7]\n",
            " [8 9]]\n"
          ]
        }
      ]
    },
    {
      "cell_type": "markdown",
      "source": [
        "Adding two matrices"
      ],
      "metadata": {
        "id": "sDvjeCN1o7uw"
      }
    },
    {
      "cell_type": "code",
      "source": [
        "sum=A+B"
      ],
      "metadata": {
        "id": "znChRltKopfx"
      },
      "execution_count": null,
      "outputs": []
    },
    {
      "cell_type": "code",
      "source": [
        "print(sum)"
      ],
      "metadata": {
        "colab": {
          "base_uri": "https://localhost:8080/"
        },
        "id": "4cTzslpVoyt_",
        "outputId": "07e33a98-d633-46ec-c2b6-bf097ea7592a"
      },
      "execution_count": null,
      "outputs": [
        {
          "output_type": "stream",
          "name": "stdout",
          "text": [
            "[[ 8 10]\n",
            " [12 14]]\n"
          ]
        }
      ]
    },
    {
      "cell_type": "code",
      "source": [
        "# create two matrices with random values\n",
        "matrix_1=np.random.randint(10,size=(3,3))\n",
        "matrix_2=np.random.randint(20,size=(3,3))"
      ],
      "metadata": {
        "id": "1nmmTDEOo2KK"
      },
      "execution_count": null,
      "outputs": []
    },
    {
      "cell_type": "code",
      "source": [
        "print(matrix_1)\n",
        "print(matrix_2)"
      ],
      "metadata": {
        "colab": {
          "base_uri": "https://localhost:8080/"
        },
        "id": "Ut28WY_ApkJ5",
        "outputId": "7bd880ab-b68c-4a4c-efa8-c47213b2b117"
      },
      "execution_count": null,
      "outputs": [
        {
          "output_type": "stream",
          "name": "stdout",
          "text": [
            "[[3 3 3]\n",
            " [1 3 4]\n",
            " [9 0 0]]\n",
            "[[17  7  5]\n",
            " [11  5 18]\n",
            " [16  5  1]]\n"
          ]
        }
      ]
    },
    {
      "cell_type": "code",
      "source": [
        "sum=np.add(matrix_1,matrix_2)"
      ],
      "metadata": {
        "id": "IyuO--yCpqjr"
      },
      "execution_count": null,
      "outputs": []
    },
    {
      "cell_type": "code",
      "source": [
        "print(sum)"
      ],
      "metadata": {
        "colab": {
          "base_uri": "https://localhost:8080/"
        },
        "id": "UfJRU-UZsuFB",
        "outputId": "2a8bb55d-d0fa-4117-f611-84a816b6c362"
      },
      "execution_count": null,
      "outputs": [
        {
          "output_type": "stream",
          "name": "stdout",
          "text": [
            "[[20 10  8]\n",
            " [12  8 22]\n",
            " [25  5  1]]\n"
          ]
        }
      ]
    },
    {
      "cell_type": "markdown",
      "source": [
        "Matrix subraction"
      ],
      "metadata": {
        "id": "ozSXoxeDtMtj"
      }
    },
    {
      "cell_type": "code",
      "source": [
        "#createing two matrices\n",
        "A=np.array([[2,3],[4,5]])\n",
        "B=np.array([[6,7],[8,9]])"
      ],
      "metadata": {
        "id": "-oFrvHpNsxbh"
      },
      "execution_count": null,
      "outputs": []
    },
    {
      "cell_type": "code",
      "source": [
        "print(A)\n",
        "print(B)"
      ],
      "metadata": {
        "colab": {
          "base_uri": "https://localhost:8080/"
        },
        "id": "p19Z-f9-tg5J",
        "outputId": "9933d1cf-6ed0-4977-ac20-1fec06a0ff01"
      },
      "execution_count": null,
      "outputs": [
        {
          "output_type": "stream",
          "name": "stdout",
          "text": [
            "[[2 3]\n",
            " [4 5]]\n",
            "[[6 7]\n",
            " [8 9]]\n"
          ]
        }
      ]
    },
    {
      "cell_type": "code",
      "source": [
        "difference=A-B"
      ],
      "metadata": {
        "id": "BOZx1yn9tmEy"
      },
      "execution_count": null,
      "outputs": []
    },
    {
      "cell_type": "code",
      "source": [
        "print(difference)"
      ],
      "metadata": {
        "colab": {
          "base_uri": "https://localhost:8080/"
        },
        "id": "qE8PXqhDtsdm",
        "outputId": "256aff28-60fa-43b6-d270-05380b23222c"
      },
      "execution_count": null,
      "outputs": [
        {
          "output_type": "stream",
          "name": "stdout",
          "text": [
            "[[-4 -4]\n",
            " [-4 -4]]\n"
          ]
        }
      ]
    },
    {
      "cell_type": "code",
      "source": [
        "#create two matrices with random values\n",
        "matrix_1=np.random.randint(10,size=(3,3))\n",
        "matrix_2=np.random.randint(20,size=(3,3))"
      ],
      "metadata": {
        "id": "6ZsWXCbstxNt"
      },
      "execution_count": null,
      "outputs": []
    },
    {
      "cell_type": "code",
      "source": [
        "print(matrix_1)\n",
        "print(matrix_2)"
      ],
      "metadata": {
        "colab": {
          "base_uri": "https://localhost:8080/"
        },
        "id": "Wep8bC580Tp4",
        "outputId": "1d6b1f23-400b-4b69-b8b8-16674e370656"
      },
      "execution_count": null,
      "outputs": [
        {
          "output_type": "stream",
          "name": "stdout",
          "text": [
            "[[7 7 9]\n",
            " [9 3 0]\n",
            " [0 9 7]]\n",
            "[[ 6 13 13]\n",
            " [17 15 18]\n",
            " [ 0 14  9]]\n"
          ]
        }
      ]
    },
    {
      "cell_type": "code",
      "source": [
        "diff=np.subtract(matrix_1,matrix_2)"
      ],
      "metadata": {
        "id": "f_z0lZzi0ZnE"
      },
      "execution_count": null,
      "outputs": []
    },
    {
      "cell_type": "code",
      "source": [
        "print(diff)"
      ],
      "metadata": {
        "colab": {
          "base_uri": "https://localhost:8080/"
        },
        "id": "EQoi44cy0tPl",
        "outputId": "77b6bc06-368f-4065-8edb-a8d0e06f1b2f"
      },
      "execution_count": null,
      "outputs": [
        {
          "output_type": "stream",
          "name": "stdout",
          "text": [
            "[[  1  -6  -4]\n",
            " [ -8 -12 -18]\n",
            " [  0  -5  -2]]\n"
          ]
        }
      ]
    },
    {
      "cell_type": "markdown",
      "source": [
        "Multiplying a matrix by a scalar"
      ],
      "metadata": {
        "id": "LCwd4uBh0-AW"
      }
    },
    {
      "cell_type": "code",
      "source": [
        "x=5\n",
        "y=np.random.randint(10,size=(4,4))\n",
        "print(y)"
      ],
      "metadata": {
        "colab": {
          "base_uri": "https://localhost:8080/"
        },
        "id": "aVzT41_w0vaw",
        "outputId": "7a824ad5-187d-4f8f-f2fc-149d3e23473f"
      },
      "execution_count": null,
      "outputs": [
        {
          "output_type": "stream",
          "name": "stdout",
          "text": [
            "[[9 1 5 9]\n",
            " [8 6 3 1]\n",
            " [7 0 3 2]\n",
            " [1 3 0 8]]\n"
          ]
        }
      ]
    },
    {
      "cell_type": "code",
      "source": [
        "product=np.multiply(x,y)"
      ],
      "metadata": {
        "id": "Ho4saZWA1Nun"
      },
      "execution_count": null,
      "outputs": []
    },
    {
      "cell_type": "code",
      "source": [
        "print(product)"
      ],
      "metadata": {
        "colab": {
          "base_uri": "https://localhost:8080/"
        },
        "id": "F1DHQ2bR1WyJ",
        "outputId": "508f0879-b29a-4d11-b88a-0496b7e3c53d"
      },
      "execution_count": null,
      "outputs": [
        {
          "output_type": "stream",
          "name": "stdout",
          "text": [
            "[[45  5 25 45]\n",
            " [40 30 15  5]\n",
            " [35  0 15 10]\n",
            " [ 5 15  0 40]]\n"
          ]
        }
      ]
    },
    {
      "cell_type": "markdown",
      "source": [
        "**Multiplying 2 matrices**"
      ],
      "metadata": {
        "id": "b8HinwCG1kIc"
      }
    },
    {
      "cell_type": "code",
      "source": [
        "#create two matrices with random values\n",
        "matrix_3=np.random.randint(5,size=(3,3))\n",
        "matrix_4=np.random.randint(5,size=(3,4))"
      ],
      "metadata": {
        "id": "H94IXkV31Y8k"
      },
      "execution_count": null,
      "outputs": []
    },
    {
      "cell_type": "code",
      "source": [
        "print(matrix_3)\n",
        "print(matrix_4)"
      ],
      "metadata": {
        "colab": {
          "base_uri": "https://localhost:8080/"
        },
        "id": "xnyQIKlR2LDa",
        "outputId": "d6ad835d-7536-4aed-f594-a29a821d994c"
      },
      "execution_count": null,
      "outputs": [
        {
          "output_type": "stream",
          "name": "stdout",
          "text": [
            "[[1 3 1]\n",
            " [1 3 1]\n",
            " [4 2 1]]\n",
            "[[4 1 4 4]\n",
            " [2 3 1 4]\n",
            " [3 1 4 2]]\n"
          ]
        }
      ]
    },
    {
      "cell_type": "code",
      "source": [
        "product=np.dot(matrix_3,matrix_4)"
      ],
      "metadata": {
        "id": "WC94KSJx2TvA"
      },
      "execution_count": null,
      "outputs": []
    },
    {
      "cell_type": "code",
      "source": [
        "print(product)"
      ],
      "metadata": {
        "colab": {
          "base_uri": "https://localhost:8080/"
        },
        "id": "xjkEsEzy2h6y",
        "outputId": "cd36796a-959c-4b84-e2f8-4a164bfd72bd"
      },
      "execution_count": null,
      "outputs": [
        {
          "output_type": "stream",
          "name": "stdout",
          "text": [
            "[[13 11 11 18]\n",
            " [13 11 11 18]\n",
            " [23 11 22 26]]\n"
          ]
        }
      ]
    },
    {
      "cell_type": "markdown",
      "source": [
        "**Element wise matrix multiplication**\n",
        "\n",
        "In element wise multiply both matrices should have equal no of rows and columns"
      ],
      "metadata": {
        "id": "jRDbXWGb45Ma"
      }
    },
    {
      "cell_type": "code",
      "source": [
        "# create two matrices with random values\n",
        "matrix_3=np.random.randint(5,size=(3,3))\n",
        "matrix_4=np.random.randint(5,size=(3,3))"
      ],
      "metadata": {
        "id": "KiUcVx4j2jsY"
      },
      "execution_count": null,
      "outputs": []
    },
    {
      "cell_type": "code",
      "source": [
        "print(matrix_3)\n",
        "print(matrix_4)"
      ],
      "metadata": {
        "colab": {
          "base_uri": "https://localhost:8080/"
        },
        "id": "apzlS6uP5YBp",
        "outputId": "f2b70b54-5c4a-4ea2-f448-a9984a31f28c"
      },
      "execution_count": null,
      "outputs": [
        {
          "output_type": "stream",
          "name": "stdout",
          "text": [
            "[[3 1 0]\n",
            " [2 0 0]\n",
            " [3 4 0]]\n",
            "[[1 2 1]\n",
            " [3 0 3]\n",
            " [4 2 1]]\n"
          ]
        }
      ]
    },
    {
      "cell_type": "code",
      "source": [
        "product=np.multiply(matrix_3,matrix_4)"
      ],
      "metadata": {
        "id": "6tqWK38v5d8f"
      },
      "execution_count": null,
      "outputs": []
    },
    {
      "cell_type": "code",
      "source": [
        "print(product)"
      ],
      "metadata": {
        "colab": {
          "base_uri": "https://localhost:8080/"
        },
        "id": "o0JZ1Fij5oXG",
        "outputId": "25493480-7d77-4d22-ffc7-61f004d783cb"
      },
      "execution_count": null,
      "outputs": [
        {
          "output_type": "stream",
          "name": "stdout",
          "text": [
            "[[ 3  2  0]\n",
            " [ 6  0  0]\n",
            " [12  8  0]]\n"
          ]
        }
      ]
    },
    {
      "cell_type": "code",
      "source": [],
      "metadata": {
        "id": "xQa8rdq95smW"
      },
      "execution_count": null,
      "outputs": []
    }
  ]
}